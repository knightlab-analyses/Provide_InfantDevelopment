{
 "cells": [
  {
   "cell_type": "markdown",
   "metadata": {},
   "source": [
    "#### This notebook is to perform redundancy analysis for alpha-diversity"
   ]
  },
  {
   "cell_type": "code",
   "execution_count": 1,
   "metadata": {},
   "outputs": [
    {
     "name": "stderr",
     "output_type": "stream",
     "text": [
      "\n",
      "Attaching package: ‘dplyr’\n",
      "\n",
      "\n",
      "The following objects are masked from ‘package:stats’:\n",
      "\n",
      "    filter, lag\n",
      "\n",
      "\n",
      "The following objects are masked from ‘package:base’:\n",
      "\n",
      "    intersect, setdiff, setequal, union\n",
      "\n",
      "\n",
      "Loading required package: permute\n",
      "\n",
      "Loading required package: lattice\n",
      "\n",
      "This is vegan 2.5-6\n",
      "\n"
     ]
    }
   ],
   "source": [
    "library(xlsx)\n",
    "library(dplyr)\n",
    "library(ggplot2)\n",
    "library(vegan)"
   ]
  },
  {
   "cell_type": "code",
   "execution_count": 2,
   "metadata": {},
   "outputs": [],
   "source": [
    "options(warn=-1)"
   ]
  },
  {
   "cell_type": "code",
   "execution_count": 3,
   "metadata": {},
   "outputs": [],
   "source": [
    "RDAanalysis <- function(metricsName, ctsName, catName, dat){\n",
    "  dat[catName] = lapply(dat[catName], factor)\n",
    "  dat[ctsName] = lapply(dat[ctsName], as.character)\n",
    "  dat[ctsName] = lapply(dat[ctsName], as.numeric)\n",
    "  df <- na.omit(dat)\n",
    "  ind <- rownames(df)\n",
    "  df <- df[c(catName, ctsName)]\n",
    "  alpha <- as.numeric(as.character(dat[metricsName][ind,1]))\n",
    "  mod0 <- rda(alpha ~ 1., df)\n",
    "  mod1 <- rda(alpha ~ ., df)\n",
    "  step.res <- ordiR2step(mod0, mod1, perm.max = 1000)\n",
    "  table = step.res$anova\n",
    "  n <- nrow(table)\n",
    "  if(is.null(n)) return(cat(\"No anova\"))\n",
    "  ES.RDA <- numeric(n-1)\n",
    "  ES.RDA[1] <- table[1,1]\n",
    "  for (i in 2:n){\n",
    "    ES.RDA[i] <- table[i, 1] - table[i-1, 1]\n",
    "  }\n",
    "  table$ES.RDA <- ES.RDA\n",
    "  table = table[-n, ]\n",
    "  print(table)\n",
    "  return(table)\n",
    "}"
   ]
  },
  {
   "cell_type": "code",
   "execution_count": 4,
   "metadata": {},
   "outputs": [],
   "source": [
    "alphaData <- read.delim('meta_mGtax_qiita_min100k_332s_alphas.tsv',sep = '\\t', header = TRUE)\n",
    "metaData <- read.xlsx('metadata12120_filtered_highlighted.xlsx', sheetIndex = 1) \n",
    "zscoreData <- read.xlsx(\"zscore.xlsx\", sheetName = \"Sheet1\")"
   ]
  },
  {
   "cell_type": "code",
   "execution_count": 5,
   "metadata": {},
   "outputs": [
    {
     "data": {
      "text/html": [
       "<ol class=list-inline>\n",
       "\t<li>333</li>\n",
       "\t<li>130</li>\n",
       "</ol>\n"
      ],
      "text/latex": [
       "\\begin{enumerate*}\n",
       "\\item 333\n",
       "\\item 130\n",
       "\\end{enumerate*}\n"
      ],
      "text/markdown": [
       "1. 333\n",
       "2. 130\n",
       "\n",
       "\n"
      ],
      "text/plain": [
       "[1] 333 130"
      ]
     },
     "metadata": {},
     "output_type": "display_data"
    },
    {
     "data": {
      "text/html": [
       "<table>\n",
       "<caption>A data.frame: 6 × 130</caption>\n",
       "<thead>\n",
       "\t<tr><th></th><th scope=col>id</th><th scope=col>age_years</th><th scope=col>age_wk40</th><th scope=col>ageyr1</th><th scope=col>ageyr2</th><th scope=col>ageyr2_baycog</th><th scope=col>ageyr3</th><th scope=col>ageyr3_mulcog</th><th scope=col>ageyr4</th><th scope=col>ageyr4_wppcog</th><th scope=col>⋯</th><th scope=col>wtkg_yr2</th><th scope=col>wtkg_yr3</th><th scope=col>wtkg_yr4</th><th scope=col>wtkg_yr5</th><th scope=col>X.SampleID_stripped</th><th scope=col>pipeline_count_reads</th><th scope=col>coassembly_all</th><th scope=col>observed_otus</th><th scope=col>pielou_e</th><th scope=col>shannon</th></tr>\n",
       "\t<tr><th></th><th scope=col>&lt;fct&gt;</th><th scope=col>&lt;fct&gt;</th><th scope=col>&lt;fct&gt;</th><th scope=col>&lt;fct&gt;</th><th scope=col>&lt;fct&gt;</th><th scope=col>&lt;fct&gt;</th><th scope=col>&lt;fct&gt;</th><th scope=col>&lt;fct&gt;</th><th scope=col>&lt;fct&gt;</th><th scope=col>&lt;fct&gt;</th><th scope=col>⋯</th><th scope=col>&lt;fct&gt;</th><th scope=col>&lt;fct&gt;</th><th scope=col>&lt;fct&gt;</th><th scope=col>&lt;fct&gt;</th><th scope=col>&lt;fct&gt;</th><th scope=col>&lt;fct&gt;</th><th scope=col>&lt;fct&gt;</th><th scope=col>&lt;fct&gt;</th><th scope=col>&lt;fct&gt;</th><th scope=col>&lt;fct&gt;</th></tr>\n",
       "</thead>\n",
       "<tbody>\n",
       "\t<tr><th scope=row>1</th><td>#q2:types     </td><td>numeric</td><td>numeric</td><td>numeric</td><td>numeric</td><td>numeric</td><td>numeric</td><td>numeric</td><td>numeric</td><td>numeric</td><td>⋯</td><td>numeric</td><td>numeric</td><td>numeric</td><td>numeric</td><td>categorical   </td><td>numeric</td><td>categorical</td><td>numeric</td><td>numeric          </td><td>numeric         </td></tr>\n",
       "\t<tr><th scope=row>2</th><td>BVC.1614.10.36</td><td>3      </td><td>0.77   </td><td>1      </td><td>2      </td><td>2      </td><td>3.01   </td><td>3      </td><td>4.03   </td><td>4.03   </td><td>⋯</td><td>9.46   </td><td>11.9   </td><td>13.1   </td><td>15     </td><td>BVC.1614.10.36</td><td>700757 </td><td>all        </td><td>466    </td><td>0.435931096000266</td><td>3.86417438118951</td></tr>\n",
       "\t<tr><th scope=row>3</th><td>BVC.1542.10.10</td><td>0.75   </td><td>0.8    </td><td>1.01   </td><td>2.02   </td><td>2.02   </td><td>3.01   </td><td>3.01   </td><td>4.01   </td><td>4.04   </td><td>⋯</td><td>10.78  </td><td>12.3   </td><td>14.4   </td><td>16     </td><td>BVC.1542.10.10</td><td>1153005</td><td>all        </td><td>504    </td><td>0.32324051510413 </td><td>2.90182058670608</td></tr>\n",
       "\t<tr><th scope=row>4</th><td>BVC.1681.10.10</td><td>0.75   </td><td>0.77   </td><td>1.01   </td><td>2      </td><td>2      </td><td>3.02   </td><td>3      </td><td>4.01   </td><td>4.01   </td><td>⋯</td><td>9.81   </td><td>11.8   </td><td>13.1   </td><td>15.1   </td><td>BVC.1681.10.10</td><td>1334615</td><td>all        </td><td>332    </td><td>0.229089108123942</td><td>1.91863031383011</td></tr>\n",
       "\t<tr><th scope=row>5</th><td>BVC.1630.10.13</td><td>2      </td><td>0.8    </td><td>1.02   </td><td>2.01   </td><td>2.01   </td><td>3.03   </td><td>3      </td><td>4.06   </td><td>4.06   </td><td>⋯</td><td>11.38  </td><td>14.6   </td><td>16.7   </td><td>20     </td><td>BVC.1630.10.13</td><td>598867 </td><td>all        </td><td>477    </td><td>0.352729489831493</td><td>3.1385324882963 </td></tr>\n",
       "\t<tr><th scope=row>6</th><td>BVC.1661.10.36</td><td>3      </td><td>0.78   </td><td>1      </td><td>2.04   </td><td>2.03   </td><td>3.06   </td><td>3.01   </td><td>4.04   </td><td>4.04   </td><td>⋯</td><td>9.2    </td><td>11.9   </td><td>13.8   </td><td>14.7   </td><td>BVC.1661.10.36</td><td>591823 </td><td>all        </td><td>387    </td><td>0.541192818544935</td><td>4.65219616287489</td></tr>\n",
       "</tbody>\n",
       "</table>\n"
      ],
      "text/latex": [
       "A data.frame: 6 × 130\n",
       "\\begin{tabular}{r|lllllllllllllllllllll}\n",
       "  & id & age\\_years & age\\_wk40 & ageyr1 & ageyr2 & ageyr2\\_baycog & ageyr3 & ageyr3\\_mulcog & ageyr4 & ageyr4\\_wppcog & ⋯ & wtkg\\_yr2 & wtkg\\_yr3 & wtkg\\_yr4 & wtkg\\_yr5 & X.SampleID\\_stripped & pipeline\\_count\\_reads & coassembly\\_all & observed\\_otus & pielou\\_e & shannon\\\\\n",
       "  & <fct> & <fct> & <fct> & <fct> & <fct> & <fct> & <fct> & <fct> & <fct> & <fct> & ⋯ & <fct> & <fct> & <fct> & <fct> & <fct> & <fct> & <fct> & <fct> & <fct> & <fct>\\\\\n",
       "\\hline\n",
       "\t1 & \\#q2:types      & numeric & numeric & numeric & numeric & numeric & numeric & numeric & numeric & numeric & ⋯ & numeric & numeric & numeric & numeric & categorical    & numeric & categorical & numeric & numeric           & numeric         \\\\\n",
       "\t2 & BVC.1614.10.36 & 3       & 0.77    & 1       & 2       & 2       & 3.01    & 3       & 4.03    & 4.03    & ⋯ & 9.46    & 11.9    & 13.1    & 15      & BVC.1614.10.36 & 700757  & all         & 466     & 0.435931096000266 & 3.86417438118951\\\\\n",
       "\t3 & BVC.1542.10.10 & 0.75    & 0.8     & 1.01    & 2.02    & 2.02    & 3.01    & 3.01    & 4.01    & 4.04    & ⋯ & 10.78   & 12.3    & 14.4    & 16      & BVC.1542.10.10 & 1153005 & all         & 504     & 0.32324051510413  & 2.90182058670608\\\\\n",
       "\t4 & BVC.1681.10.10 & 0.75    & 0.77    & 1.01    & 2       & 2       & 3.02    & 3       & 4.01    & 4.01    & ⋯ & 9.81    & 11.8    & 13.1    & 15.1    & BVC.1681.10.10 & 1334615 & all         & 332     & 0.229089108123942 & 1.91863031383011\\\\\n",
       "\t5 & BVC.1630.10.13 & 2       & 0.8     & 1.02    & 2.01    & 2.01    & 3.03    & 3       & 4.06    & 4.06    & ⋯ & 11.38   & 14.6    & 16.7    & 20      & BVC.1630.10.13 & 598867  & all         & 477     & 0.352729489831493 & 3.1385324882963 \\\\\n",
       "\t6 & BVC.1661.10.36 & 3       & 0.78    & 1       & 2.04    & 2.03    & 3.06    & 3.01    & 4.04    & 4.04    & ⋯ & 9.2     & 11.9    & 13.8    & 14.7    & BVC.1661.10.36 & 591823  & all         & 387     & 0.541192818544935 & 4.65219616287489\\\\\n",
       "\\end{tabular}\n"
      ],
      "text/markdown": [
       "\n",
       "A data.frame: 6 × 130\n",
       "\n",
       "| <!--/--> | id &lt;fct&gt; | age_years &lt;fct&gt; | age_wk40 &lt;fct&gt; | ageyr1 &lt;fct&gt; | ageyr2 &lt;fct&gt; | ageyr2_baycog &lt;fct&gt; | ageyr3 &lt;fct&gt; | ageyr3_mulcog &lt;fct&gt; | ageyr4 &lt;fct&gt; | ageyr4_wppcog &lt;fct&gt; | ⋯ ⋯ | wtkg_yr2 &lt;fct&gt; | wtkg_yr3 &lt;fct&gt; | wtkg_yr4 &lt;fct&gt; | wtkg_yr5 &lt;fct&gt; | X.SampleID_stripped &lt;fct&gt; | pipeline_count_reads &lt;fct&gt; | coassembly_all &lt;fct&gt; | observed_otus &lt;fct&gt; | pielou_e &lt;fct&gt; | shannon &lt;fct&gt; |\n",
       "|---|---|---|---|---|---|---|---|---|---|---|---|---|---|---|---|---|---|---|---|---|---|\n",
       "| 1 | #q2:types      | numeric | numeric | numeric | numeric | numeric | numeric | numeric | numeric | numeric | ⋯ | numeric | numeric | numeric | numeric | categorical    | numeric | categorical | numeric | numeric           | numeric          |\n",
       "| 2 | BVC.1614.10.36 | 3       | 0.77    | 1       | 2       | 2       | 3.01    | 3       | 4.03    | 4.03    | ⋯ | 9.46    | 11.9    | 13.1    | 15      | BVC.1614.10.36 | 700757  | all         | 466     | 0.435931096000266 | 3.86417438118951 |\n",
       "| 3 | BVC.1542.10.10 | 0.75    | 0.8     | 1.01    | 2.02    | 2.02    | 3.01    | 3.01    | 4.01    | 4.04    | ⋯ | 10.78   | 12.3    | 14.4    | 16      | BVC.1542.10.10 | 1153005 | all         | 504     | 0.32324051510413  | 2.90182058670608 |\n",
       "| 4 | BVC.1681.10.10 | 0.75    | 0.77    | 1.01    | 2       | 2       | 3.02    | 3       | 4.01    | 4.01    | ⋯ | 9.81    | 11.8    | 13.1    | 15.1    | BVC.1681.10.10 | 1334615 | all         | 332     | 0.229089108123942 | 1.91863031383011 |\n",
       "| 5 | BVC.1630.10.13 | 2       | 0.8     | 1.02    | 2.01    | 2.01    | 3.03    | 3       | 4.06    | 4.06    | ⋯ | 11.38   | 14.6    | 16.7    | 20      | BVC.1630.10.13 | 598867  | all         | 477     | 0.352729489831493 | 3.1385324882963  |\n",
       "| 6 | BVC.1661.10.36 | 3       | 0.78    | 1       | 2.04    | 2.03    | 3.06    | 3.01    | 4.04    | 4.04    | ⋯ | 9.2     | 11.9    | 13.8    | 14.7    | BVC.1661.10.36 | 591823  | all         | 387     | 0.541192818544935 | 4.65219616287489 |\n",
       "\n"
      ],
      "text/plain": [
       "  id             age_years age_wk40 ageyr1  ageyr2  ageyr2_baycog ageyr3 \n",
       "1 #q2:types      numeric   numeric  numeric numeric numeric       numeric\n",
       "2 BVC.1614.10.36 3         0.77     1       2       2             3.01   \n",
       "3 BVC.1542.10.10 0.75      0.8      1.01    2.02    2.02          3.01   \n",
       "4 BVC.1681.10.10 0.75      0.77     1.01    2       2             3.02   \n",
       "5 BVC.1630.10.13 2         0.8      1.02    2.01    2.01          3.03   \n",
       "6 BVC.1661.10.36 3         0.78     1       2.04    2.03          3.06   \n",
       "  ageyr3_mulcog ageyr4  ageyr4_wppcog ⋯ wtkg_yr2 wtkg_yr3 wtkg_yr4 wtkg_yr5\n",
       "1 numeric       numeric numeric       ⋯ numeric  numeric  numeric  numeric \n",
       "2 3             4.03    4.03          ⋯ 9.46     11.9     13.1     15      \n",
       "3 3.01          4.01    4.04          ⋯ 10.78    12.3     14.4     16      \n",
       "4 3             4.01    4.01          ⋯ 9.81     11.8     13.1     15.1    \n",
       "5 3             4.06    4.06          ⋯ 11.38    14.6     16.7     20      \n",
       "6 3.01          4.04    4.04          ⋯ 9.2      11.9     13.8     14.7    \n",
       "  X.SampleID_stripped pipeline_count_reads coassembly_all observed_otus\n",
       "1 categorical         numeric              categorical    numeric      \n",
       "2 BVC.1614.10.36      700757               all            466          \n",
       "3 BVC.1542.10.10      1153005              all            504          \n",
       "4 BVC.1681.10.10      1334615              all            332          \n",
       "5 BVC.1630.10.13      598867               all            477          \n",
       "6 BVC.1661.10.36      591823               all            387          \n",
       "  pielou_e          shannon         \n",
       "1 numeric           numeric         \n",
       "2 0.435931096000266 3.86417438118951\n",
       "3 0.32324051510413  2.90182058670608\n",
       "4 0.229089108123942 1.91863031383011\n",
       "5 0.352729489831493 3.1385324882963 \n",
       "6 0.541192818544935 4.65219616287489"
      ]
     },
     "metadata": {},
     "output_type": "display_data"
    },
    {
     "data": {
      "text/html": [
       "<ol class=list-inline>\n",
       "\t<li>385</li>\n",
       "\t<li>124</li>\n",
       "</ol>\n"
      ],
      "text/latex": [
       "\\begin{enumerate*}\n",
       "\\item 385\n",
       "\\item 124\n",
       "\\end{enumerate*}\n"
      ],
      "text/markdown": [
       "1. 385\n",
       "2. 124\n",
       "\n",
       "\n"
      ],
      "text/plain": [
       "[1] 385 124"
      ]
     },
     "metadata": {},
     "output_type": "display_data"
    },
    {
     "data": {
      "text/html": [
       "<table>\n",
       "<caption>A data.frame: 6 × 124</caption>\n",
       "<thead>\n",
       "\t<tr><th></th><th scope=col>sample_name</th><th scope=col>sid</th><th scope=col>age_years</th><th scope=col>age_wk40</th><th scope=col>ageyr1</th><th scope=col>ageyr2</th><th scope=col>ageyr2_baycog</th><th scope=col>ageyr3</th><th scope=col>ageyr3_mulcog</th><th scope=col>ageyr4</th><th scope=col>⋯</th><th scope=col>wtkg_wk40</th><th scope=col>wtkg_yr1</th><th scope=col>wtkg_yr2</th><th scope=col>wtkg_yr3</th><th scope=col>wtkg_yr4</th><th scope=col>wtkg_yr5</th><th scope=col>bmi</th><th scope=col>host_subject_id</th><th scope=col>collection_device_id</th><th scope=col>collection_timestamp</th></tr>\n",
       "\t<tr><th></th><th scope=col>&lt;fct&gt;</th><th scope=col>&lt;dbl&gt;</th><th scope=col>&lt;dbl&gt;</th><th scope=col>&lt;dbl&gt;</th><th scope=col>&lt;dbl&gt;</th><th scope=col>&lt;dbl&gt;</th><th scope=col>&lt;dbl&gt;</th><th scope=col>&lt;dbl&gt;</th><th scope=col>&lt;dbl&gt;</th><th scope=col>&lt;dbl&gt;</th><th scope=col>⋯</th><th scope=col>&lt;dbl&gt;</th><th scope=col>&lt;dbl&gt;</th><th scope=col>&lt;dbl&gt;</th><th scope=col>&lt;dbl&gt;</th><th scope=col>&lt;dbl&gt;</th><th scope=col>&lt;dbl&gt;</th><th scope=col>&lt;fct&gt;</th><th scope=col>&lt;dbl&gt;</th><th scope=col>&lt;fct&gt;</th><th scope=col>&lt;dbl&gt;</th></tr>\n",
       "</thead>\n",
       "<tbody>\n",
       "\t<tr><th scope=row>1</th><td>12120.BVC.1473.10.10</td><td>1473</td><td>0.75</td><td>0.77</td><td>1</td><td>2.02</td><td>2.02</td><td>3.04</td><td>3.04</td><td>4.04</td><td>⋯</td><td>7.24</td><td>7.36</td><td> 9.41</td><td>11.1</td><td>13.0</td><td>14.9</td><td>15.98</td><td>1473</td><td>BVC-1473-10-10</td><td>2013</td></tr>\n",
       "\t<tr><th scope=row>2</th><td>12120.BVC.1473.10.13</td><td>1473</td><td>2.00</td><td>0.77</td><td>1</td><td>2.02</td><td>2.02</td><td>3.04</td><td>3.04</td><td>4.04</td><td>⋯</td><td>7.24</td><td>7.36</td><td> 9.41</td><td>11.1</td><td>13.0</td><td>14.9</td><td>14.27</td><td>1473</td><td>BVC-1473-10-13</td><td>2014</td></tr>\n",
       "\t<tr><th scope=row>3</th><td>12120.BVC.1473.10.36</td><td>1473</td><td>3.00</td><td>0.77</td><td>1</td><td>2.02</td><td>2.02</td><td>3.04</td><td>3.04</td><td>4.04</td><td>⋯</td><td>7.24</td><td>7.36</td><td> 9.41</td><td>11.1</td><td>13.0</td><td>14.9</td><td>13.86</td><td>1473</td><td>BVC-1473-10-36</td><td>2015</td></tr>\n",
       "\t<tr><th scope=row>4</th><td>12120.BVC.1475.10.10</td><td>1475</td><td>0.75</td><td>0.77</td><td>1</td><td>2.02</td><td>2.02</td><td>3.04</td><td>3.04</td><td>4.04</td><td>⋯</td><td>8.32</td><td>8.32</td><td>10.49</td><td>12.2</td><td>13.3</td><td>14.6</td><td>16.74</td><td>1475</td><td>BVC-1475-10-10</td><td>2013</td></tr>\n",
       "\t<tr><th scope=row>5</th><td>12120.BVC.1475.10.13</td><td>1475</td><td>2.00</td><td>0.77</td><td>1</td><td>2.02</td><td>2.02</td><td>3.04</td><td>3.04</td><td>4.04</td><td>⋯</td><td>8.32</td><td>8.32</td><td>10.49</td><td>12.2</td><td>13.3</td><td>14.6</td><td>15.79</td><td>1475</td><td>BVC-1475-10-13</td><td>2014</td></tr>\n",
       "\t<tr><th scope=row>6</th><td>12120.BVC.1475.10.36</td><td>1475</td><td>3.00</td><td>0.77</td><td>1</td><td>2.02</td><td>2.02</td><td>3.04</td><td>3.04</td><td>4.04</td><td>⋯</td><td>8.32</td><td>8.32</td><td>10.49</td><td>12.2</td><td>13.3</td><td>14.6</td><td>15.33</td><td>1475</td><td>BVC-1475-10-36</td><td>2015</td></tr>\n",
       "</tbody>\n",
       "</table>\n"
      ],
      "text/latex": [
       "A data.frame: 6 × 124\n",
       "\\begin{tabular}{r|lllllllllllllllllllll}\n",
       "  & sample\\_name & sid & age\\_years & age\\_wk40 & ageyr1 & ageyr2 & ageyr2\\_baycog & ageyr3 & ageyr3\\_mulcog & ageyr4 & ⋯ & wtkg\\_wk40 & wtkg\\_yr1 & wtkg\\_yr2 & wtkg\\_yr3 & wtkg\\_yr4 & wtkg\\_yr5 & bmi & host\\_subject\\_id & collection\\_device\\_id & collection\\_timestamp\\\\\n",
       "  & <fct> & <dbl> & <dbl> & <dbl> & <dbl> & <dbl> & <dbl> & <dbl> & <dbl> & <dbl> & ⋯ & <dbl> & <dbl> & <dbl> & <dbl> & <dbl> & <dbl> & <fct> & <dbl> & <fct> & <dbl>\\\\\n",
       "\\hline\n",
       "\t1 & 12120.BVC.1473.10.10 & 1473 & 0.75 & 0.77 & 1 & 2.02 & 2.02 & 3.04 & 3.04 & 4.04 & ⋯ & 7.24 & 7.36 &  9.41 & 11.1 & 13.0 & 14.9 & 15.98 & 1473 & BVC-1473-10-10 & 2013\\\\\n",
       "\t2 & 12120.BVC.1473.10.13 & 1473 & 2.00 & 0.77 & 1 & 2.02 & 2.02 & 3.04 & 3.04 & 4.04 & ⋯ & 7.24 & 7.36 &  9.41 & 11.1 & 13.0 & 14.9 & 14.27 & 1473 & BVC-1473-10-13 & 2014\\\\\n",
       "\t3 & 12120.BVC.1473.10.36 & 1473 & 3.00 & 0.77 & 1 & 2.02 & 2.02 & 3.04 & 3.04 & 4.04 & ⋯ & 7.24 & 7.36 &  9.41 & 11.1 & 13.0 & 14.9 & 13.86 & 1473 & BVC-1473-10-36 & 2015\\\\\n",
       "\t4 & 12120.BVC.1475.10.10 & 1475 & 0.75 & 0.77 & 1 & 2.02 & 2.02 & 3.04 & 3.04 & 4.04 & ⋯ & 8.32 & 8.32 & 10.49 & 12.2 & 13.3 & 14.6 & 16.74 & 1475 & BVC-1475-10-10 & 2013\\\\\n",
       "\t5 & 12120.BVC.1475.10.13 & 1475 & 2.00 & 0.77 & 1 & 2.02 & 2.02 & 3.04 & 3.04 & 4.04 & ⋯ & 8.32 & 8.32 & 10.49 & 12.2 & 13.3 & 14.6 & 15.79 & 1475 & BVC-1475-10-13 & 2014\\\\\n",
       "\t6 & 12120.BVC.1475.10.36 & 1475 & 3.00 & 0.77 & 1 & 2.02 & 2.02 & 3.04 & 3.04 & 4.04 & ⋯ & 8.32 & 8.32 & 10.49 & 12.2 & 13.3 & 14.6 & 15.33 & 1475 & BVC-1475-10-36 & 2015\\\\\n",
       "\\end{tabular}\n"
      ],
      "text/markdown": [
       "\n",
       "A data.frame: 6 × 124\n",
       "\n",
       "| <!--/--> | sample_name &lt;fct&gt; | sid &lt;dbl&gt; | age_years &lt;dbl&gt; | age_wk40 &lt;dbl&gt; | ageyr1 &lt;dbl&gt; | ageyr2 &lt;dbl&gt; | ageyr2_baycog &lt;dbl&gt; | ageyr3 &lt;dbl&gt; | ageyr3_mulcog &lt;dbl&gt; | ageyr4 &lt;dbl&gt; | ⋯ ⋯ | wtkg_wk40 &lt;dbl&gt; | wtkg_yr1 &lt;dbl&gt; | wtkg_yr2 &lt;dbl&gt; | wtkg_yr3 &lt;dbl&gt; | wtkg_yr4 &lt;dbl&gt; | wtkg_yr5 &lt;dbl&gt; | bmi &lt;fct&gt; | host_subject_id &lt;dbl&gt; | collection_device_id &lt;fct&gt; | collection_timestamp &lt;dbl&gt; |\n",
       "|---|---|---|---|---|---|---|---|---|---|---|---|---|---|---|---|---|---|---|---|---|---|\n",
       "| 1 | 12120.BVC.1473.10.10 | 1473 | 0.75 | 0.77 | 1 | 2.02 | 2.02 | 3.04 | 3.04 | 4.04 | ⋯ | 7.24 | 7.36 |  9.41 | 11.1 | 13.0 | 14.9 | 15.98 | 1473 | BVC-1473-10-10 | 2013 |\n",
       "| 2 | 12120.BVC.1473.10.13 | 1473 | 2.00 | 0.77 | 1 | 2.02 | 2.02 | 3.04 | 3.04 | 4.04 | ⋯ | 7.24 | 7.36 |  9.41 | 11.1 | 13.0 | 14.9 | 14.27 | 1473 | BVC-1473-10-13 | 2014 |\n",
       "| 3 | 12120.BVC.1473.10.36 | 1473 | 3.00 | 0.77 | 1 | 2.02 | 2.02 | 3.04 | 3.04 | 4.04 | ⋯ | 7.24 | 7.36 |  9.41 | 11.1 | 13.0 | 14.9 | 13.86 | 1473 | BVC-1473-10-36 | 2015 |\n",
       "| 4 | 12120.BVC.1475.10.10 | 1475 | 0.75 | 0.77 | 1 | 2.02 | 2.02 | 3.04 | 3.04 | 4.04 | ⋯ | 8.32 | 8.32 | 10.49 | 12.2 | 13.3 | 14.6 | 16.74 | 1475 | BVC-1475-10-10 | 2013 |\n",
       "| 5 | 12120.BVC.1475.10.13 | 1475 | 2.00 | 0.77 | 1 | 2.02 | 2.02 | 3.04 | 3.04 | 4.04 | ⋯ | 8.32 | 8.32 | 10.49 | 12.2 | 13.3 | 14.6 | 15.79 | 1475 | BVC-1475-10-13 | 2014 |\n",
       "| 6 | 12120.BVC.1475.10.36 | 1475 | 3.00 | 0.77 | 1 | 2.02 | 2.02 | 3.04 | 3.04 | 4.04 | ⋯ | 8.32 | 8.32 | 10.49 | 12.2 | 13.3 | 14.6 | 15.33 | 1475 | BVC-1475-10-36 | 2015 |\n",
       "\n"
      ],
      "text/plain": [
       "  sample_name          sid  age_years age_wk40 ageyr1 ageyr2 ageyr2_baycog\n",
       "1 12120.BVC.1473.10.10 1473 0.75      0.77     1      2.02   2.02         \n",
       "2 12120.BVC.1473.10.13 1473 2.00      0.77     1      2.02   2.02         \n",
       "3 12120.BVC.1473.10.36 1473 3.00      0.77     1      2.02   2.02         \n",
       "4 12120.BVC.1475.10.10 1475 0.75      0.77     1      2.02   2.02         \n",
       "5 12120.BVC.1475.10.13 1475 2.00      0.77     1      2.02   2.02         \n",
       "6 12120.BVC.1475.10.36 1475 3.00      0.77     1      2.02   2.02         \n",
       "  ageyr3 ageyr3_mulcog ageyr4 ⋯ wtkg_wk40 wtkg_yr1 wtkg_yr2 wtkg_yr3 wtkg_yr4\n",
       "1 3.04   3.04          4.04   ⋯ 7.24      7.36      9.41    11.1     13.0    \n",
       "2 3.04   3.04          4.04   ⋯ 7.24      7.36      9.41    11.1     13.0    \n",
       "3 3.04   3.04          4.04   ⋯ 7.24      7.36      9.41    11.1     13.0    \n",
       "4 3.04   3.04          4.04   ⋯ 8.32      8.32     10.49    12.2     13.3    \n",
       "5 3.04   3.04          4.04   ⋯ 8.32      8.32     10.49    12.2     13.3    \n",
       "6 3.04   3.04          4.04   ⋯ 8.32      8.32     10.49    12.2     13.3    \n",
       "  wtkg_yr5 bmi   host_subject_id collection_device_id collection_timestamp\n",
       "1 14.9     15.98 1473            BVC-1473-10-10       2013                \n",
       "2 14.9     14.27 1473            BVC-1473-10-13       2014                \n",
       "3 14.9     13.86 1473            BVC-1473-10-36       2015                \n",
       "4 14.6     16.74 1475            BVC-1475-10-10       2013                \n",
       "5 14.6     15.79 1475            BVC-1475-10-13       2014                \n",
       "6 14.6     15.33 1475            BVC-1475-10-36       2015                "
      ]
     },
     "metadata": {},
     "output_type": "display_data"
    },
    {
     "data": {
      "text/html": [
       "<ol class=list-inline>\n",
       "\t<li>385</li>\n",
       "\t<li>61</li>\n",
       "</ol>\n"
      ],
      "text/latex": [
       "\\begin{enumerate*}\n",
       "\\item 385\n",
       "\\item 61\n",
       "\\end{enumerate*}\n"
      ],
      "text/markdown": [
       "1. 385\n",
       "2. 61\n",
       "\n",
       "\n"
      ],
      "text/plain": [
       "[1] 385  61"
      ]
     },
     "metadata": {},
     "output_type": "display_data"
    },
    {
     "data": {
      "text/html": [
       "<table>\n",
       "<caption>A data.frame: 6 × 61</caption>\n",
       "<thead>\n",
       "\t<tr><th></th><th scope=col>sample_name</th><th scope=col>sid</th><th scope=col>age_years</th><th scope=col>age_wk40</th><th scope=col>haz_wk40</th><th scope=col>haz_yr1</th><th scope=col>haz_yr2</th><th scope=col>haz_yr3</th><th scope=col>haz_yr4</th><th scope=col>haz_yr5</th><th scope=col>⋯</th><th scope=col>time_point</th><th scope=col>timepoint_months</th><th scope=col>weight_kg</th><th scope=col>wtkg_wk40</th><th scope=col>wtkg_yr1</th><th scope=col>wtkg_yr2</th><th scope=col>wtkg_yr3</th><th scope=col>wtkg_yr4</th><th scope=col>wtkg_yr5</th><th scope=col>bmi</th></tr>\n",
       "\t<tr><th></th><th scope=col>&lt;fct&gt;</th><th scope=col>&lt;dbl&gt;</th><th scope=col>&lt;dbl&gt;</th><th scope=col>&lt;dbl&gt;</th><th scope=col>&lt;dbl&gt;</th><th scope=col>&lt;dbl&gt;</th><th scope=col>&lt;fct&gt;</th><th scope=col>&lt;dbl&gt;</th><th scope=col>&lt;fct&gt;</th><th scope=col>&lt;fct&gt;</th><th scope=col>⋯</th><th scope=col>&lt;dbl&gt;</th><th scope=col>&lt;dbl&gt;</th><th scope=col>&lt;fct&gt;</th><th scope=col>&lt;dbl&gt;</th><th scope=col>&lt;dbl&gt;</th><th scope=col>&lt;dbl&gt;</th><th scope=col>&lt;dbl&gt;</th><th scope=col>&lt;dbl&gt;</th><th scope=col>&lt;dbl&gt;</th><th scope=col>&lt;fct&gt;</th></tr>\n",
       "</thead>\n",
       "<tbody>\n",
       "\t<tr><th scope=row>1</th><td>12120.BVC.1473.10.10</td><td>1473</td><td>0.75</td><td>0.77</td><td>-1.34</td><td>-1.39</td><td>-1.47</td><td>-1.72</td><td>-2.1 </td><td>-1.47</td><td>⋯</td><td>1</td><td> 9</td><td>7.24 </td><td>7.24</td><td>7.36</td><td> 9.41</td><td>11.1</td><td>13.0</td><td>14.9</td><td>15.98</td></tr>\n",
       "\t<tr><th scope=row>2</th><td>12120.BVC.1473.10.13</td><td>1473</td><td>2.00</td><td>0.77</td><td>-1.34</td><td>-1.39</td><td>-1.47</td><td>-1.72</td><td>-2.1 </td><td>-1.47</td><td>⋯</td><td>2</td><td>24</td><td>9.41 </td><td>7.24</td><td>7.36</td><td> 9.41</td><td>11.1</td><td>13.0</td><td>14.9</td><td>14.27</td></tr>\n",
       "\t<tr><th scope=row>3</th><td>12120.BVC.1473.10.36</td><td>1473</td><td>3.00</td><td>0.77</td><td>-1.34</td><td>-1.39</td><td>-1.47</td><td>-1.72</td><td>-2.1 </td><td>-1.47</td><td>⋯</td><td>3</td><td>36</td><td>11.1 </td><td>7.24</td><td>7.36</td><td> 9.41</td><td>11.1</td><td>13.0</td><td>14.9</td><td>13.86</td></tr>\n",
       "\t<tr><th scope=row>4</th><td>12120.BVC.1475.10.10</td><td>1475</td><td>0.75</td><td>0.77</td><td>-0.83</td><td>-1.06</td><td>-1.9 </td><td>-2.12</td><td>-2.13</td><td>-1.9 </td><td>⋯</td><td>1</td><td> 9</td><td>8.32 </td><td>8.32</td><td>8.32</td><td>10.49</td><td>12.2</td><td>13.3</td><td>14.6</td><td>16.74</td></tr>\n",
       "\t<tr><th scope=row>5</th><td>12120.BVC.1475.10.13</td><td>1475</td><td>2.00</td><td>0.77</td><td>-0.83</td><td>-1.06</td><td>-1.9 </td><td>-2.12</td><td>-2.13</td><td>-1.9 </td><td>⋯</td><td>2</td><td>24</td><td>10.49</td><td>8.32</td><td>8.32</td><td>10.49</td><td>12.2</td><td>13.3</td><td>14.6</td><td>15.79</td></tr>\n",
       "\t<tr><th scope=row>6</th><td>12120.BVC.1475.10.36</td><td>1475</td><td>3.00</td><td>0.77</td><td>-0.83</td><td>-1.06</td><td>-1.9 </td><td>-2.12</td><td>-2.13</td><td>-1.9 </td><td>⋯</td><td>3</td><td>36</td><td>12.2 </td><td>8.32</td><td>8.32</td><td>10.49</td><td>12.2</td><td>13.3</td><td>14.6</td><td>15.33</td></tr>\n",
       "</tbody>\n",
       "</table>\n"
      ],
      "text/latex": [
       "A data.frame: 6 × 61\n",
       "\\begin{tabular}{r|lllllllllllllllllllll}\n",
       "  & sample\\_name & sid & age\\_years & age\\_wk40 & haz\\_wk40 & haz\\_yr1 & haz\\_yr2 & haz\\_yr3 & haz\\_yr4 & haz\\_yr5 & ⋯ & time\\_point & timepoint\\_months & weight\\_kg & wtkg\\_wk40 & wtkg\\_yr1 & wtkg\\_yr2 & wtkg\\_yr3 & wtkg\\_yr4 & wtkg\\_yr5 & bmi\\\\\n",
       "  & <fct> & <dbl> & <dbl> & <dbl> & <dbl> & <dbl> & <fct> & <dbl> & <fct> & <fct> & ⋯ & <dbl> & <dbl> & <fct> & <dbl> & <dbl> & <dbl> & <dbl> & <dbl> & <dbl> & <fct>\\\\\n",
       "\\hline\n",
       "\t1 & 12120.BVC.1473.10.10 & 1473 & 0.75 & 0.77 & -1.34 & -1.39 & -1.47 & -1.72 & -2.1  & -1.47 & ⋯ & 1 &  9 & 7.24  & 7.24 & 7.36 &  9.41 & 11.1 & 13.0 & 14.9 & 15.98\\\\\n",
       "\t2 & 12120.BVC.1473.10.13 & 1473 & 2.00 & 0.77 & -1.34 & -1.39 & -1.47 & -1.72 & -2.1  & -1.47 & ⋯ & 2 & 24 & 9.41  & 7.24 & 7.36 &  9.41 & 11.1 & 13.0 & 14.9 & 14.27\\\\\n",
       "\t3 & 12120.BVC.1473.10.36 & 1473 & 3.00 & 0.77 & -1.34 & -1.39 & -1.47 & -1.72 & -2.1  & -1.47 & ⋯ & 3 & 36 & 11.1  & 7.24 & 7.36 &  9.41 & 11.1 & 13.0 & 14.9 & 13.86\\\\\n",
       "\t4 & 12120.BVC.1475.10.10 & 1475 & 0.75 & 0.77 & -0.83 & -1.06 & -1.9  & -2.12 & -2.13 & -1.9  & ⋯ & 1 &  9 & 8.32  & 8.32 & 8.32 & 10.49 & 12.2 & 13.3 & 14.6 & 16.74\\\\\n",
       "\t5 & 12120.BVC.1475.10.13 & 1475 & 2.00 & 0.77 & -0.83 & -1.06 & -1.9  & -2.12 & -2.13 & -1.9  & ⋯ & 2 & 24 & 10.49 & 8.32 & 8.32 & 10.49 & 12.2 & 13.3 & 14.6 & 15.79\\\\\n",
       "\t6 & 12120.BVC.1475.10.36 & 1475 & 3.00 & 0.77 & -0.83 & -1.06 & -1.9  & -2.12 & -2.13 & -1.9  & ⋯ & 3 & 36 & 12.2  & 8.32 & 8.32 & 10.49 & 12.2 & 13.3 & 14.6 & 15.33\\\\\n",
       "\\end{tabular}\n"
      ],
      "text/markdown": [
       "\n",
       "A data.frame: 6 × 61\n",
       "\n",
       "| <!--/--> | sample_name &lt;fct&gt; | sid &lt;dbl&gt; | age_years &lt;dbl&gt; | age_wk40 &lt;dbl&gt; | haz_wk40 &lt;dbl&gt; | haz_yr1 &lt;dbl&gt; | haz_yr2 &lt;fct&gt; | haz_yr3 &lt;dbl&gt; | haz_yr4 &lt;fct&gt; | haz_yr5 &lt;fct&gt; | ⋯ ⋯ | time_point &lt;dbl&gt; | timepoint_months &lt;dbl&gt; | weight_kg &lt;fct&gt; | wtkg_wk40 &lt;dbl&gt; | wtkg_yr1 &lt;dbl&gt; | wtkg_yr2 &lt;dbl&gt; | wtkg_yr3 &lt;dbl&gt; | wtkg_yr4 &lt;dbl&gt; | wtkg_yr5 &lt;dbl&gt; | bmi &lt;fct&gt; |\n",
       "|---|---|---|---|---|---|---|---|---|---|---|---|---|---|---|---|---|---|---|---|---|---|\n",
       "| 1 | 12120.BVC.1473.10.10 | 1473 | 0.75 | 0.77 | -1.34 | -1.39 | -1.47 | -1.72 | -2.1  | -1.47 | ⋯ | 1 |  9 | 7.24  | 7.24 | 7.36 |  9.41 | 11.1 | 13.0 | 14.9 | 15.98 |\n",
       "| 2 | 12120.BVC.1473.10.13 | 1473 | 2.00 | 0.77 | -1.34 | -1.39 | -1.47 | -1.72 | -2.1  | -1.47 | ⋯ | 2 | 24 | 9.41  | 7.24 | 7.36 |  9.41 | 11.1 | 13.0 | 14.9 | 14.27 |\n",
       "| 3 | 12120.BVC.1473.10.36 | 1473 | 3.00 | 0.77 | -1.34 | -1.39 | -1.47 | -1.72 | -2.1  | -1.47 | ⋯ | 3 | 36 | 11.1  | 7.24 | 7.36 |  9.41 | 11.1 | 13.0 | 14.9 | 13.86 |\n",
       "| 4 | 12120.BVC.1475.10.10 | 1475 | 0.75 | 0.77 | -0.83 | -1.06 | -1.9  | -2.12 | -2.13 | -1.9  | ⋯ | 1 |  9 | 8.32  | 8.32 | 8.32 | 10.49 | 12.2 | 13.3 | 14.6 | 16.74 |\n",
       "| 5 | 12120.BVC.1475.10.13 | 1475 | 2.00 | 0.77 | -0.83 | -1.06 | -1.9  | -2.12 | -2.13 | -1.9  | ⋯ | 2 | 24 | 10.49 | 8.32 | 8.32 | 10.49 | 12.2 | 13.3 | 14.6 | 15.79 |\n",
       "| 6 | 12120.BVC.1475.10.36 | 1475 | 3.00 | 0.77 | -0.83 | -1.06 | -1.9  | -2.12 | -2.13 | -1.9  | ⋯ | 3 | 36 | 12.2  | 8.32 | 8.32 | 10.49 | 12.2 | 13.3 | 14.6 | 15.33 |\n",
       "\n"
      ],
      "text/plain": [
       "  sample_name          sid  age_years age_wk40 haz_wk40 haz_yr1 haz_yr2 haz_yr3\n",
       "1 12120.BVC.1473.10.10 1473 0.75      0.77     -1.34    -1.39   -1.47   -1.72  \n",
       "2 12120.BVC.1473.10.13 1473 2.00      0.77     -1.34    -1.39   -1.47   -1.72  \n",
       "3 12120.BVC.1473.10.36 1473 3.00      0.77     -1.34    -1.39   -1.47   -1.72  \n",
       "4 12120.BVC.1475.10.10 1475 0.75      0.77     -0.83    -1.06   -1.9    -2.12  \n",
       "5 12120.BVC.1475.10.13 1475 2.00      0.77     -0.83    -1.06   -1.9    -2.12  \n",
       "6 12120.BVC.1475.10.36 1475 3.00      0.77     -0.83    -1.06   -1.9    -2.12  \n",
       "  haz_yr4 haz_yr5 ⋯ time_point timepoint_months weight_kg wtkg_wk40 wtkg_yr1\n",
       "1 -2.1    -1.47   ⋯ 1           9               7.24      7.24      7.36    \n",
       "2 -2.1    -1.47   ⋯ 2          24               9.41      7.24      7.36    \n",
       "3 -2.1    -1.47   ⋯ 3          36               11.1      7.24      7.36    \n",
       "4 -2.13   -1.9    ⋯ 1           9               8.32      8.32      8.32    \n",
       "5 -2.13   -1.9    ⋯ 2          24               10.49     8.32      8.32    \n",
       "6 -2.13   -1.9    ⋯ 3          36               12.2      8.32      8.32    \n",
       "  wtkg_yr2 wtkg_yr3 wtkg_yr4 wtkg_yr5 bmi  \n",
       "1  9.41    11.1     13.0     14.9     15.98\n",
       "2  9.41    11.1     13.0     14.9     14.27\n",
       "3  9.41    11.1     13.0     14.9     13.86\n",
       "4 10.49    12.2     13.3     14.6     16.74\n",
       "5 10.49    12.2     13.3     14.6     15.79\n",
       "6 10.49    12.2     13.3     14.6     15.33"
      ]
     },
     "metadata": {},
     "output_type": "display_data"
    }
   ],
   "source": [
    "dim(alphaData)\n",
    "head(alphaData)\n",
    "dim(metaData)\n",
    "head(metaData)\n",
    "dim(zscoreData)\n",
    "head(zscoreData)"
   ]
  },
  {
   "cell_type": "code",
   "execution_count": 6,
   "metadata": {},
   "outputs": [
    {
     "data": {
      "text/html": [
       "<ol class=list-inline>\n",
       "\t<li>385</li>\n",
       "\t<li>136</li>\n",
       "</ol>\n"
      ],
      "text/latex": [
       "\\begin{enumerate*}\n",
       "\\item 385\n",
       "\\item 136\n",
       "\\end{enumerate*}\n"
      ],
      "text/markdown": [
       "1. 385\n",
       "2. 136\n",
       "\n",
       "\n"
      ],
      "text/plain": [
       "[1] 385 136"
      ]
     },
     "metadata": {},
     "output_type": "display_data"
    },
    {
     "data": {
      "text/html": [
       "<table>\n",
       "<caption>A data.frame: 6 × 136</caption>\n",
       "<thead>\n",
       "\t<tr><th></th><th scope=col>sample_name</th><th scope=col>sid</th><th scope=col>age_years</th><th scope=col>age_wk40</th><th scope=col>ageyr1</th><th scope=col>ageyr2</th><th scope=col>ageyr2_baycog</th><th scope=col>ageyr3</th><th scope=col>ageyr3_mulcog</th><th scope=col>ageyr4</th><th scope=col>⋯</th><th scope=col>underwt_yr2</th><th scope=col>underwt_yr3</th><th scope=col>underwt_yr4</th><th scope=col>underwt_yr5</th><th scope=col>waste_wk40</th><th scope=col>waste_yr1</th><th scope=col>waste_yr2</th><th scope=col>waste_yr3</th><th scope=col>waste_yr4</th><th scope=col>waste_yr5</th></tr>\n",
       "\t<tr><th></th><th scope=col>&lt;fct&gt;</th><th scope=col>&lt;dbl&gt;</th><th scope=col>&lt;dbl&gt;</th><th scope=col>&lt;dbl&gt;</th><th scope=col>&lt;dbl&gt;</th><th scope=col>&lt;dbl&gt;</th><th scope=col>&lt;dbl&gt;</th><th scope=col>&lt;dbl&gt;</th><th scope=col>&lt;dbl&gt;</th><th scope=col>&lt;dbl&gt;</th><th scope=col>⋯</th><th scope=col>&lt;fct&gt;</th><th scope=col>&lt;fct&gt;</th><th scope=col>&lt;fct&gt;</th><th scope=col>&lt;fct&gt;</th><th scope=col>&lt;fct&gt;</th><th scope=col>&lt;fct&gt;</th><th scope=col>&lt;fct&gt;</th><th scope=col>&lt;fct&gt;</th><th scope=col>&lt;fct&gt;</th><th scope=col>&lt;fct&gt;</th></tr>\n",
       "</thead>\n",
       "<tbody>\n",
       "\t<tr><th scope=row>1</th><td>12120.BVC.1473.10.10</td><td>1473</td><td>0.75</td><td>0.77</td><td>1</td><td>2.02</td><td>2.02</td><td>3.04</td><td>3.04</td><td>4.04</td><td>⋯</td><td>Risk of Underweight</td><td>Risk of Underweight</td><td>Risk of Underweight</td><td>Risk of Underweight</td><td>Control</td><td>Risk of wasting</td><td>Risk of wasting</td><td>Risk of wasting</td><td>Control</td><td>Control</td></tr>\n",
       "\t<tr><th scope=row>2</th><td>12120.BVC.1473.10.13</td><td>1473</td><td>2.00</td><td>0.77</td><td>1</td><td>2.02</td><td>2.02</td><td>3.04</td><td>3.04</td><td>4.04</td><td>⋯</td><td>Risk of Underweight</td><td>Risk of Underweight</td><td>Risk of Underweight</td><td>Risk of Underweight</td><td>Control</td><td>Risk of wasting</td><td>Risk of wasting</td><td>Risk of wasting</td><td>Control</td><td>Control</td></tr>\n",
       "\t<tr><th scope=row>3</th><td>12120.BVC.1473.10.36</td><td>1473</td><td>3.00</td><td>0.77</td><td>1</td><td>2.02</td><td>2.02</td><td>3.04</td><td>3.04</td><td>4.04</td><td>⋯</td><td>Risk of Underweight</td><td>Risk of Underweight</td><td>Risk of Underweight</td><td>Risk of Underweight</td><td>Control</td><td>Risk of wasting</td><td>Risk of wasting</td><td>Risk of wasting</td><td>Control</td><td>Control</td></tr>\n",
       "\t<tr><th scope=row>4</th><td>12120.BVC.1475.10.10</td><td>1475</td><td>0.75</td><td>0.77</td><td>1</td><td>2.02</td><td>2.02</td><td>3.04</td><td>3.04</td><td>4.04</td><td>⋯</td><td>Risk of Underweight</td><td>Risk of Underweight</td><td>Risk of Underweight</td><td>Risk of Underweight</td><td>Control</td><td>Risk of wasting</td><td>Control        </td><td>Control        </td><td>Control</td><td>Control</td></tr>\n",
       "\t<tr><th scope=row>5</th><td>12120.BVC.1475.10.13</td><td>1475</td><td>2.00</td><td>0.77</td><td>1</td><td>2.02</td><td>2.02</td><td>3.04</td><td>3.04</td><td>4.04</td><td>⋯</td><td>Risk of Underweight</td><td>Risk of Underweight</td><td>Risk of Underweight</td><td>Risk of Underweight</td><td>Control</td><td>Risk of wasting</td><td>Control        </td><td>Control        </td><td>Control</td><td>Control</td></tr>\n",
       "\t<tr><th scope=row>6</th><td>12120.BVC.1475.10.36</td><td>1475</td><td>3.00</td><td>0.77</td><td>1</td><td>2.02</td><td>2.02</td><td>3.04</td><td>3.04</td><td>4.04</td><td>⋯</td><td>Risk of Underweight</td><td>Risk of Underweight</td><td>Risk of Underweight</td><td>Risk of Underweight</td><td>Control</td><td>Risk of wasting</td><td>Control        </td><td>Control        </td><td>Control</td><td>Control</td></tr>\n",
       "</tbody>\n",
       "</table>\n"
      ],
      "text/latex": [
       "A data.frame: 6 × 136\n",
       "\\begin{tabular}{r|lllllllllllllllllllll}\n",
       "  & sample\\_name & sid & age\\_years & age\\_wk40 & ageyr1 & ageyr2 & ageyr2\\_baycog & ageyr3 & ageyr3\\_mulcog & ageyr4 & ⋯ & underwt\\_yr2 & underwt\\_yr3 & underwt\\_yr4 & underwt\\_yr5 & waste\\_wk40 & waste\\_yr1 & waste\\_yr2 & waste\\_yr3 & waste\\_yr4 & waste\\_yr5\\\\\n",
       "  & <fct> & <dbl> & <dbl> & <dbl> & <dbl> & <dbl> & <dbl> & <dbl> & <dbl> & <dbl> & ⋯ & <fct> & <fct> & <fct> & <fct> & <fct> & <fct> & <fct> & <fct> & <fct> & <fct>\\\\\n",
       "\\hline\n",
       "\t1 & 12120.BVC.1473.10.10 & 1473 & 0.75 & 0.77 & 1 & 2.02 & 2.02 & 3.04 & 3.04 & 4.04 & ⋯ & Risk of Underweight & Risk of Underweight & Risk of Underweight & Risk of Underweight & Control & Risk of wasting & Risk of wasting & Risk of wasting & Control & Control\\\\\n",
       "\t2 & 12120.BVC.1473.10.13 & 1473 & 2.00 & 0.77 & 1 & 2.02 & 2.02 & 3.04 & 3.04 & 4.04 & ⋯ & Risk of Underweight & Risk of Underweight & Risk of Underweight & Risk of Underweight & Control & Risk of wasting & Risk of wasting & Risk of wasting & Control & Control\\\\\n",
       "\t3 & 12120.BVC.1473.10.36 & 1473 & 3.00 & 0.77 & 1 & 2.02 & 2.02 & 3.04 & 3.04 & 4.04 & ⋯ & Risk of Underweight & Risk of Underweight & Risk of Underweight & Risk of Underweight & Control & Risk of wasting & Risk of wasting & Risk of wasting & Control & Control\\\\\n",
       "\t4 & 12120.BVC.1475.10.10 & 1475 & 0.75 & 0.77 & 1 & 2.02 & 2.02 & 3.04 & 3.04 & 4.04 & ⋯ & Risk of Underweight & Risk of Underweight & Risk of Underweight & Risk of Underweight & Control & Risk of wasting & Control         & Control         & Control & Control\\\\\n",
       "\t5 & 12120.BVC.1475.10.13 & 1475 & 2.00 & 0.77 & 1 & 2.02 & 2.02 & 3.04 & 3.04 & 4.04 & ⋯ & Risk of Underweight & Risk of Underweight & Risk of Underweight & Risk of Underweight & Control & Risk of wasting & Control         & Control         & Control & Control\\\\\n",
       "\t6 & 12120.BVC.1475.10.36 & 1475 & 3.00 & 0.77 & 1 & 2.02 & 2.02 & 3.04 & 3.04 & 4.04 & ⋯ & Risk of Underweight & Risk of Underweight & Risk of Underweight & Risk of Underweight & Control & Risk of wasting & Control         & Control         & Control & Control\\\\\n",
       "\\end{tabular}\n"
      ],
      "text/markdown": [
       "\n",
       "A data.frame: 6 × 136\n",
       "\n",
       "| <!--/--> | sample_name &lt;fct&gt; | sid &lt;dbl&gt; | age_years &lt;dbl&gt; | age_wk40 &lt;dbl&gt; | ageyr1 &lt;dbl&gt; | ageyr2 &lt;dbl&gt; | ageyr2_baycog &lt;dbl&gt; | ageyr3 &lt;dbl&gt; | ageyr3_mulcog &lt;dbl&gt; | ageyr4 &lt;dbl&gt; | ⋯ ⋯ | underwt_yr2 &lt;fct&gt; | underwt_yr3 &lt;fct&gt; | underwt_yr4 &lt;fct&gt; | underwt_yr5 &lt;fct&gt; | waste_wk40 &lt;fct&gt; | waste_yr1 &lt;fct&gt; | waste_yr2 &lt;fct&gt; | waste_yr3 &lt;fct&gt; | waste_yr4 &lt;fct&gt; | waste_yr5 &lt;fct&gt; |\n",
       "|---|---|---|---|---|---|---|---|---|---|---|---|---|---|---|---|---|---|---|---|---|---|\n",
       "| 1 | 12120.BVC.1473.10.10 | 1473 | 0.75 | 0.77 | 1 | 2.02 | 2.02 | 3.04 | 3.04 | 4.04 | ⋯ | Risk of Underweight | Risk of Underweight | Risk of Underweight | Risk of Underweight | Control | Risk of wasting | Risk of wasting | Risk of wasting | Control | Control |\n",
       "| 2 | 12120.BVC.1473.10.13 | 1473 | 2.00 | 0.77 | 1 | 2.02 | 2.02 | 3.04 | 3.04 | 4.04 | ⋯ | Risk of Underweight | Risk of Underweight | Risk of Underweight | Risk of Underweight | Control | Risk of wasting | Risk of wasting | Risk of wasting | Control | Control |\n",
       "| 3 | 12120.BVC.1473.10.36 | 1473 | 3.00 | 0.77 | 1 | 2.02 | 2.02 | 3.04 | 3.04 | 4.04 | ⋯ | Risk of Underweight | Risk of Underweight | Risk of Underweight | Risk of Underweight | Control | Risk of wasting | Risk of wasting | Risk of wasting | Control | Control |\n",
       "| 4 | 12120.BVC.1475.10.10 | 1475 | 0.75 | 0.77 | 1 | 2.02 | 2.02 | 3.04 | 3.04 | 4.04 | ⋯ | Risk of Underweight | Risk of Underweight | Risk of Underweight | Risk of Underweight | Control | Risk of wasting | Control         | Control         | Control | Control |\n",
       "| 5 | 12120.BVC.1475.10.13 | 1475 | 2.00 | 0.77 | 1 | 2.02 | 2.02 | 3.04 | 3.04 | 4.04 | ⋯ | Risk of Underweight | Risk of Underweight | Risk of Underweight | Risk of Underweight | Control | Risk of wasting | Control         | Control         | Control | Control |\n",
       "| 6 | 12120.BVC.1475.10.36 | 1475 | 3.00 | 0.77 | 1 | 2.02 | 2.02 | 3.04 | 3.04 | 4.04 | ⋯ | Risk of Underweight | Risk of Underweight | Risk of Underweight | Risk of Underweight | Control | Risk of wasting | Control         | Control         | Control | Control |\n",
       "\n"
      ],
      "text/plain": [
       "  sample_name          sid  age_years age_wk40 ageyr1 ageyr2 ageyr2_baycog\n",
       "1 12120.BVC.1473.10.10 1473 0.75      0.77     1      2.02   2.02         \n",
       "2 12120.BVC.1473.10.13 1473 2.00      0.77     1      2.02   2.02         \n",
       "3 12120.BVC.1473.10.36 1473 3.00      0.77     1      2.02   2.02         \n",
       "4 12120.BVC.1475.10.10 1475 0.75      0.77     1      2.02   2.02         \n",
       "5 12120.BVC.1475.10.13 1475 2.00      0.77     1      2.02   2.02         \n",
       "6 12120.BVC.1475.10.36 1475 3.00      0.77     1      2.02   2.02         \n",
       "  ageyr3 ageyr3_mulcog ageyr4 ⋯ underwt_yr2         underwt_yr3        \n",
       "1 3.04   3.04          4.04   ⋯ Risk of Underweight Risk of Underweight\n",
       "2 3.04   3.04          4.04   ⋯ Risk of Underweight Risk of Underweight\n",
       "3 3.04   3.04          4.04   ⋯ Risk of Underweight Risk of Underweight\n",
       "4 3.04   3.04          4.04   ⋯ Risk of Underweight Risk of Underweight\n",
       "5 3.04   3.04          4.04   ⋯ Risk of Underweight Risk of Underweight\n",
       "6 3.04   3.04          4.04   ⋯ Risk of Underweight Risk of Underweight\n",
       "  underwt_yr4         underwt_yr5         waste_wk40 waste_yr1      \n",
       "1 Risk of Underweight Risk of Underweight Control    Risk of wasting\n",
       "2 Risk of Underweight Risk of Underweight Control    Risk of wasting\n",
       "3 Risk of Underweight Risk of Underweight Control    Risk of wasting\n",
       "4 Risk of Underweight Risk of Underweight Control    Risk of wasting\n",
       "5 Risk of Underweight Risk of Underweight Control    Risk of wasting\n",
       "6 Risk of Underweight Risk of Underweight Control    Risk of wasting\n",
       "  waste_yr2       waste_yr3       waste_yr4 waste_yr5\n",
       "1 Risk of wasting Risk of wasting Control   Control  \n",
       "2 Risk of wasting Risk of wasting Control   Control  \n",
       "3 Risk of wasting Risk of wasting Control   Control  \n",
       "4 Control         Control         Control   Control  \n",
       "5 Control         Control         Control   Control  \n",
       "6 Control         Control         Control   Control  "
      ]
     },
     "metadata": {},
     "output_type": "display_data"
    }
   ],
   "source": [
    "zName <- names(zscoreData)\n",
    "metaData[zName] <- zscoreData\n",
    "dim(metaData)\n",
    "head(metaData)"
   ]
  },
  {
   "cell_type": "code",
   "execution_count": 7,
   "metadata": {},
   "outputs": [
    {
     "data": {
      "text/html": [
       "<table>\n",
       "<caption>A data.frame: 6 × 4</caption>\n",
       "<thead>\n",
       "\t<tr><th></th><th scope=col>collection_device_id</th><th scope=col>observed_otus</th><th scope=col>pielou_e</th><th scope=col>shannon</th></tr>\n",
       "\t<tr><th></th><th scope=col>&lt;fct&gt;</th><th scope=col>&lt;fct&gt;</th><th scope=col>&lt;fct&gt;</th><th scope=col>&lt;fct&gt;</th></tr>\n",
       "</thead>\n",
       "<tbody>\n",
       "\t<tr><th scope=row>1</th><td>categorical   </td><td>numeric</td><td>numeric          </td><td>numeric         </td></tr>\n",
       "\t<tr><th scope=row>2</th><td>BVC-1614-10-36</td><td>466    </td><td>0.435931096000266</td><td>3.86417438118951</td></tr>\n",
       "\t<tr><th scope=row>3</th><td>BVC-1542-10-10</td><td>504    </td><td>0.32324051510413 </td><td>2.90182058670608</td></tr>\n",
       "\t<tr><th scope=row>4</th><td>BVC-1681-10-10</td><td>332    </td><td>0.229089108123942</td><td>1.91863031383011</td></tr>\n",
       "\t<tr><th scope=row>5</th><td>BVC-1630-10-13</td><td>477    </td><td>0.352729489831493</td><td>3.1385324882963 </td></tr>\n",
       "\t<tr><th scope=row>6</th><td>BVC-1661-10-36</td><td>387    </td><td>0.541192818544935</td><td>4.65219616287489</td></tr>\n",
       "</tbody>\n",
       "</table>\n"
      ],
      "text/latex": [
       "A data.frame: 6 × 4\n",
       "\\begin{tabular}{r|llll}\n",
       "  & collection\\_device\\_id & observed\\_otus & pielou\\_e & shannon\\\\\n",
       "  & <fct> & <fct> & <fct> & <fct>\\\\\n",
       "\\hline\n",
       "\t1 & categorical    & numeric & numeric           & numeric         \\\\\n",
       "\t2 & BVC-1614-10-36 & 466     & 0.435931096000266 & 3.86417438118951\\\\\n",
       "\t3 & BVC-1542-10-10 & 504     & 0.32324051510413  & 2.90182058670608\\\\\n",
       "\t4 & BVC-1681-10-10 & 332     & 0.229089108123942 & 1.91863031383011\\\\\n",
       "\t5 & BVC-1630-10-13 & 477     & 0.352729489831493 & 3.1385324882963 \\\\\n",
       "\t6 & BVC-1661-10-36 & 387     & 0.541192818544935 & 4.65219616287489\\\\\n",
       "\\end{tabular}\n"
      ],
      "text/markdown": [
       "\n",
       "A data.frame: 6 × 4\n",
       "\n",
       "| <!--/--> | collection_device_id &lt;fct&gt; | observed_otus &lt;fct&gt; | pielou_e &lt;fct&gt; | shannon &lt;fct&gt; |\n",
       "|---|---|---|---|---|\n",
       "| 1 | categorical    | numeric | numeric           | numeric          |\n",
       "| 2 | BVC-1614-10-36 | 466     | 0.435931096000266 | 3.86417438118951 |\n",
       "| 3 | BVC-1542-10-10 | 504     | 0.32324051510413  | 2.90182058670608 |\n",
       "| 4 | BVC-1681-10-10 | 332     | 0.229089108123942 | 1.91863031383011 |\n",
       "| 5 | BVC-1630-10-13 | 477     | 0.352729489831493 | 3.1385324882963  |\n",
       "| 6 | BVC-1661-10-36 | 387     | 0.541192818544935 | 4.65219616287489 |\n",
       "\n"
      ],
      "text/plain": [
       "  collection_device_id observed_otus pielou_e          shannon         \n",
       "1 categorical          numeric       numeric           numeric         \n",
       "2 BVC-1614-10-36       466           0.435931096000266 3.86417438118951\n",
       "3 BVC-1542-10-10       504           0.32324051510413  2.90182058670608\n",
       "4 BVC-1681-10-10       332           0.229089108123942 1.91863031383011\n",
       "5 BVC-1630-10-13       477           0.352729489831493 3.1385324882963 \n",
       "6 BVC-1661-10-36       387           0.541192818544935 4.65219616287489"
      ]
     },
     "metadata": {},
     "output_type": "display_data"
    }
   ],
   "source": [
    "alphaDataSubNames <- c(\"collection_device_id\", \"observed_otus\", \"pielou_e\", \"shannon\")\n",
    "alphaDataSub <- alphaData[alphaDataSubNames]\n",
    "head(alphaDataSub)"
   ]
  },
  {
   "cell_type": "code",
   "execution_count": 8,
   "metadata": {},
   "outputs": [],
   "source": [
    "data <- merge(alphaDataSub, metaData, by = \"collection_device_id\")"
   ]
  },
  {
   "cell_type": "code",
   "execution_count": 9,
   "metadata": {},
   "outputs": [
    {
     "data": {
      "text/html": [
       "<ol class=list-inline>\n",
       "\t<li>332</li>\n",
       "\t<li>139</li>\n",
       "</ol>\n"
      ],
      "text/latex": [
       "\\begin{enumerate*}\n",
       "\\item 332\n",
       "\\item 139\n",
       "\\end{enumerate*}\n"
      ],
      "text/markdown": [
       "1. 332\n",
       "2. 139\n",
       "\n",
       "\n"
      ],
      "text/plain": [
       "[1] 332 139"
      ]
     },
     "metadata": {},
     "output_type": "display_data"
    },
    {
     "data": {
      "text/html": [
       "<table>\n",
       "<caption>A data.frame: 6 × 139</caption>\n",
       "<thead>\n",
       "\t<tr><th></th><th scope=col>collection_device_id</th><th scope=col>observed_otus</th><th scope=col>pielou_e</th><th scope=col>shannon</th><th scope=col>sample_name</th><th scope=col>sid</th><th scope=col>age_years</th><th scope=col>age_wk40</th><th scope=col>ageyr1</th><th scope=col>ageyr2</th><th scope=col>⋯</th><th scope=col>underwt_yr2</th><th scope=col>underwt_yr3</th><th scope=col>underwt_yr4</th><th scope=col>underwt_yr5</th><th scope=col>waste_wk40</th><th scope=col>waste_yr1</th><th scope=col>waste_yr2</th><th scope=col>waste_yr3</th><th scope=col>waste_yr4</th><th scope=col>waste_yr5</th></tr>\n",
       "\t<tr><th></th><th scope=col>&lt;fct&gt;</th><th scope=col>&lt;fct&gt;</th><th scope=col>&lt;fct&gt;</th><th scope=col>&lt;fct&gt;</th><th scope=col>&lt;fct&gt;</th><th scope=col>&lt;dbl&gt;</th><th scope=col>&lt;dbl&gt;</th><th scope=col>&lt;dbl&gt;</th><th scope=col>&lt;dbl&gt;</th><th scope=col>&lt;dbl&gt;</th><th scope=col>⋯</th><th scope=col>&lt;fct&gt;</th><th scope=col>&lt;fct&gt;</th><th scope=col>&lt;fct&gt;</th><th scope=col>&lt;fct&gt;</th><th scope=col>&lt;fct&gt;</th><th scope=col>&lt;fct&gt;</th><th scope=col>&lt;fct&gt;</th><th scope=col>&lt;fct&gt;</th><th scope=col>&lt;fct&gt;</th><th scope=col>&lt;fct&gt;</th></tr>\n",
       "</thead>\n",
       "<tbody>\n",
       "\t<tr><th scope=row>1</th><td>BVC-1473-10-10</td><td>295</td><td>0.278647320658207</td><td>2.28618176649468</td><td>12120.BVC.1473.10.10</td><td>1473</td><td>0.75</td><td>0.77</td><td>1</td><td>2.02</td><td>⋯</td><td>Risk of Underweight</td><td>Risk of Underweight</td><td>Risk of Underweight</td><td>Risk of Underweight</td><td>Control</td><td>Risk of wasting</td><td>Risk of wasting</td><td>Risk of wasting</td><td>Control</td><td>Control</td></tr>\n",
       "\t<tr><th scope=row>2</th><td>BVC-1473-10-13</td><td>341</td><td>0.405716480932438</td><td>3.41354751523856</td><td>12120.BVC.1473.10.13</td><td>1473</td><td>2.00</td><td>0.77</td><td>1</td><td>2.02</td><td>⋯</td><td>Risk of Underweight</td><td>Risk of Underweight</td><td>Risk of Underweight</td><td>Risk of Underweight</td><td>Control</td><td>Risk of wasting</td><td>Risk of wasting</td><td>Risk of wasting</td><td>Control</td><td>Control</td></tr>\n",
       "\t<tr><th scope=row>3</th><td>BVC-1473-10-36</td><td>408</td><td>0.563130933941578</td><td>4.88371098236301</td><td>12120.BVC.1473.10.36</td><td>1473</td><td>3.00</td><td>0.77</td><td>1</td><td>2.02</td><td>⋯</td><td>Risk of Underweight</td><td>Risk of Underweight</td><td>Risk of Underweight</td><td>Risk of Underweight</td><td>Control</td><td>Risk of wasting</td><td>Risk of wasting</td><td>Risk of wasting</td><td>Control</td><td>Control</td></tr>\n",
       "\t<tr><th scope=row>4</th><td>BVC-1475-10-10</td><td>294</td><td>0.241921660373757</td><td>1.98367834818359</td><td>12120.BVC.1475.10.10</td><td>1475</td><td>0.75</td><td>0.77</td><td>1</td><td>2.02</td><td>⋯</td><td>Risk of Underweight</td><td>Risk of Underweight</td><td>Risk of Underweight</td><td>Risk of Underweight</td><td>Control</td><td>Risk of wasting</td><td>Control        </td><td>Control        </td><td>Control</td><td>Control</td></tr>\n",
       "\t<tr><th scope=row>5</th><td>BVC-1475-10-13</td><td>391</td><td>0.514270605443919</td><td>4.42839693600385</td><td>12120.BVC.1475.10.13</td><td>1475</td><td>2.00</td><td>0.77</td><td>1</td><td>2.02</td><td>⋯</td><td>Risk of Underweight</td><td>Risk of Underweight</td><td>Risk of Underweight</td><td>Risk of Underweight</td><td>Control</td><td>Risk of wasting</td><td>Control        </td><td>Control        </td><td>Control</td><td>Control</td></tr>\n",
       "\t<tr><th scope=row>6</th><td>BVC-1475-10-36</td><td>555</td><td>0.525784193790572</td><td>4.79322955997679</td><td>12120.BVC.1475.10.36</td><td>1475</td><td>3.00</td><td>0.77</td><td>1</td><td>2.02</td><td>⋯</td><td>Risk of Underweight</td><td>Risk of Underweight</td><td>Risk of Underweight</td><td>Risk of Underweight</td><td>Control</td><td>Risk of wasting</td><td>Control        </td><td>Control        </td><td>Control</td><td>Control</td></tr>\n",
       "</tbody>\n",
       "</table>\n"
      ],
      "text/latex": [
       "A data.frame: 6 × 139\n",
       "\\begin{tabular}{r|lllllllllllllllllllll}\n",
       "  & collection\\_device\\_id & observed\\_otus & pielou\\_e & shannon & sample\\_name & sid & age\\_years & age\\_wk40 & ageyr1 & ageyr2 & ⋯ & underwt\\_yr2 & underwt\\_yr3 & underwt\\_yr4 & underwt\\_yr5 & waste\\_wk40 & waste\\_yr1 & waste\\_yr2 & waste\\_yr3 & waste\\_yr4 & waste\\_yr5\\\\\n",
       "  & <fct> & <fct> & <fct> & <fct> & <fct> & <dbl> & <dbl> & <dbl> & <dbl> & <dbl> & ⋯ & <fct> & <fct> & <fct> & <fct> & <fct> & <fct> & <fct> & <fct> & <fct> & <fct>\\\\\n",
       "\\hline\n",
       "\t1 & BVC-1473-10-10 & 295 & 0.278647320658207 & 2.28618176649468 & 12120.BVC.1473.10.10 & 1473 & 0.75 & 0.77 & 1 & 2.02 & ⋯ & Risk of Underweight & Risk of Underweight & Risk of Underweight & Risk of Underweight & Control & Risk of wasting & Risk of wasting & Risk of wasting & Control & Control\\\\\n",
       "\t2 & BVC-1473-10-13 & 341 & 0.405716480932438 & 3.41354751523856 & 12120.BVC.1473.10.13 & 1473 & 2.00 & 0.77 & 1 & 2.02 & ⋯ & Risk of Underweight & Risk of Underweight & Risk of Underweight & Risk of Underweight & Control & Risk of wasting & Risk of wasting & Risk of wasting & Control & Control\\\\\n",
       "\t3 & BVC-1473-10-36 & 408 & 0.563130933941578 & 4.88371098236301 & 12120.BVC.1473.10.36 & 1473 & 3.00 & 0.77 & 1 & 2.02 & ⋯ & Risk of Underweight & Risk of Underweight & Risk of Underweight & Risk of Underweight & Control & Risk of wasting & Risk of wasting & Risk of wasting & Control & Control\\\\\n",
       "\t4 & BVC-1475-10-10 & 294 & 0.241921660373757 & 1.98367834818359 & 12120.BVC.1475.10.10 & 1475 & 0.75 & 0.77 & 1 & 2.02 & ⋯ & Risk of Underweight & Risk of Underweight & Risk of Underweight & Risk of Underweight & Control & Risk of wasting & Control         & Control         & Control & Control\\\\\n",
       "\t5 & BVC-1475-10-13 & 391 & 0.514270605443919 & 4.42839693600385 & 12120.BVC.1475.10.13 & 1475 & 2.00 & 0.77 & 1 & 2.02 & ⋯ & Risk of Underweight & Risk of Underweight & Risk of Underweight & Risk of Underweight & Control & Risk of wasting & Control         & Control         & Control & Control\\\\\n",
       "\t6 & BVC-1475-10-36 & 555 & 0.525784193790572 & 4.79322955997679 & 12120.BVC.1475.10.36 & 1475 & 3.00 & 0.77 & 1 & 2.02 & ⋯ & Risk of Underweight & Risk of Underweight & Risk of Underweight & Risk of Underweight & Control & Risk of wasting & Control         & Control         & Control & Control\\\\\n",
       "\\end{tabular}\n"
      ],
      "text/markdown": [
       "\n",
       "A data.frame: 6 × 139\n",
       "\n",
       "| <!--/--> | collection_device_id &lt;fct&gt; | observed_otus &lt;fct&gt; | pielou_e &lt;fct&gt; | shannon &lt;fct&gt; | sample_name &lt;fct&gt; | sid &lt;dbl&gt; | age_years &lt;dbl&gt; | age_wk40 &lt;dbl&gt; | ageyr1 &lt;dbl&gt; | ageyr2 &lt;dbl&gt; | ⋯ ⋯ | underwt_yr2 &lt;fct&gt; | underwt_yr3 &lt;fct&gt; | underwt_yr4 &lt;fct&gt; | underwt_yr5 &lt;fct&gt; | waste_wk40 &lt;fct&gt; | waste_yr1 &lt;fct&gt; | waste_yr2 &lt;fct&gt; | waste_yr3 &lt;fct&gt; | waste_yr4 &lt;fct&gt; | waste_yr5 &lt;fct&gt; |\n",
       "|---|---|---|---|---|---|---|---|---|---|---|---|---|---|---|---|---|---|---|---|---|---|\n",
       "| 1 | BVC-1473-10-10 | 295 | 0.278647320658207 | 2.28618176649468 | 12120.BVC.1473.10.10 | 1473 | 0.75 | 0.77 | 1 | 2.02 | ⋯ | Risk of Underweight | Risk of Underweight | Risk of Underweight | Risk of Underweight | Control | Risk of wasting | Risk of wasting | Risk of wasting | Control | Control |\n",
       "| 2 | BVC-1473-10-13 | 341 | 0.405716480932438 | 3.41354751523856 | 12120.BVC.1473.10.13 | 1473 | 2.00 | 0.77 | 1 | 2.02 | ⋯ | Risk of Underweight | Risk of Underweight | Risk of Underweight | Risk of Underweight | Control | Risk of wasting | Risk of wasting | Risk of wasting | Control | Control |\n",
       "| 3 | BVC-1473-10-36 | 408 | 0.563130933941578 | 4.88371098236301 | 12120.BVC.1473.10.36 | 1473 | 3.00 | 0.77 | 1 | 2.02 | ⋯ | Risk of Underweight | Risk of Underweight | Risk of Underweight | Risk of Underweight | Control | Risk of wasting | Risk of wasting | Risk of wasting | Control | Control |\n",
       "| 4 | BVC-1475-10-10 | 294 | 0.241921660373757 | 1.98367834818359 | 12120.BVC.1475.10.10 | 1475 | 0.75 | 0.77 | 1 | 2.02 | ⋯ | Risk of Underweight | Risk of Underweight | Risk of Underweight | Risk of Underweight | Control | Risk of wasting | Control         | Control         | Control | Control |\n",
       "| 5 | BVC-1475-10-13 | 391 | 0.514270605443919 | 4.42839693600385 | 12120.BVC.1475.10.13 | 1475 | 2.00 | 0.77 | 1 | 2.02 | ⋯ | Risk of Underweight | Risk of Underweight | Risk of Underweight | Risk of Underweight | Control | Risk of wasting | Control         | Control         | Control | Control |\n",
       "| 6 | BVC-1475-10-36 | 555 | 0.525784193790572 | 4.79322955997679 | 12120.BVC.1475.10.36 | 1475 | 3.00 | 0.77 | 1 | 2.02 | ⋯ | Risk of Underweight | Risk of Underweight | Risk of Underweight | Risk of Underweight | Control | Risk of wasting | Control         | Control         | Control | Control |\n",
       "\n"
      ],
      "text/plain": [
       "  collection_device_id observed_otus pielou_e          shannon         \n",
       "1 BVC-1473-10-10       295           0.278647320658207 2.28618176649468\n",
       "2 BVC-1473-10-13       341           0.405716480932438 3.41354751523856\n",
       "3 BVC-1473-10-36       408           0.563130933941578 4.88371098236301\n",
       "4 BVC-1475-10-10       294           0.241921660373757 1.98367834818359\n",
       "5 BVC-1475-10-13       391           0.514270605443919 4.42839693600385\n",
       "6 BVC-1475-10-36       555           0.525784193790572 4.79322955997679\n",
       "  sample_name          sid  age_years age_wk40 ageyr1 ageyr2 ⋯\n",
       "1 12120.BVC.1473.10.10 1473 0.75      0.77     1      2.02   ⋯\n",
       "2 12120.BVC.1473.10.13 1473 2.00      0.77     1      2.02   ⋯\n",
       "3 12120.BVC.1473.10.36 1473 3.00      0.77     1      2.02   ⋯\n",
       "4 12120.BVC.1475.10.10 1475 0.75      0.77     1      2.02   ⋯\n",
       "5 12120.BVC.1475.10.13 1475 2.00      0.77     1      2.02   ⋯\n",
       "6 12120.BVC.1475.10.36 1475 3.00      0.77     1      2.02   ⋯\n",
       "  underwt_yr2         underwt_yr3         underwt_yr4        \n",
       "1 Risk of Underweight Risk of Underweight Risk of Underweight\n",
       "2 Risk of Underweight Risk of Underweight Risk of Underweight\n",
       "3 Risk of Underweight Risk of Underweight Risk of Underweight\n",
       "4 Risk of Underweight Risk of Underweight Risk of Underweight\n",
       "5 Risk of Underweight Risk of Underweight Risk of Underweight\n",
       "6 Risk of Underweight Risk of Underweight Risk of Underweight\n",
       "  underwt_yr5         waste_wk40 waste_yr1       waste_yr2      \n",
       "1 Risk of Underweight Control    Risk of wasting Risk of wasting\n",
       "2 Risk of Underweight Control    Risk of wasting Risk of wasting\n",
       "3 Risk of Underweight Control    Risk of wasting Risk of wasting\n",
       "4 Risk of Underweight Control    Risk of wasting Control        \n",
       "5 Risk of Underweight Control    Risk of wasting Control        \n",
       "6 Risk of Underweight Control    Risk of wasting Control        \n",
       "  waste_yr3       waste_yr4 waste_yr5\n",
       "1 Risk of wasting Control   Control  \n",
       "2 Risk of wasting Control   Control  \n",
       "3 Risk of wasting Control   Control  \n",
       "4 Control         Control   Control  \n",
       "5 Control         Control   Control  \n",
       "6 Control         Control   Control  "
      ]
     },
     "metadata": {},
     "output_type": "display_data"
    }
   ],
   "source": [
    "dim(data)\n",
    "head(data)"
   ]
  },
  {
   "cell_type": "code",
   "execution_count": 10,
   "metadata": {},
   "outputs": [],
   "source": [
    "ctsName <- c(\"age_years\", \"days_exclusive_bf\", \n",
    "             \"cogcmp_yr2\",\"langcmp_yr2\", \"motorcmp_yr2\", \"soemocmp_yr2\",\n",
    "             \"ageyr3_mulcog\",\n",
    "             \"fsiq_yr4\", \"fsiq_yr5\",\n",
    "             \"viq_yr4\", \"viq_yr5\",\n",
    "             \"haz_yr1\", \"haz_yr2\", \"haz_yr3\", \"haz_yr4\", \"haz_yr5\",\n",
    "             \"waz_yr1\", \"waz_yr2\", \"waz_yr3\", \"waz_yr4\", \"waz_yr5\",\n",
    "             \"whz_yr1\", \"whz_yr2\", \"whz_yr3\", \"whz_yr4\", \"whz_yr5\") \n",
    "catName <- c(\"sex\",\"recent_antibiotic_use\",\n",
    "             \"cogcmp_yr2_quartile\", \"langcmp_yr2_quartile\", \n",
    "             \"motorcmp_yr2_quartile\", \"soemocmp_yr2_quartile\",\n",
    "             \"underwt_yr1\", \"waste_yr1\", \"stunting_yr1\",\n",
    "             \"underwt_yr2\", \"waste_yr2\", \"stunting_yr2\",\n",
    "             \"underwt_yr3\", \"waste_yr3\", \"stunting_yr3\",\n",
    "             \"underwt_yr4\", \"waste_yr4\", \"stunting_yr4\",\n",
    "             \"underwt_yr5\", \"waste_yr5\", \"stunting_yr5\")"
   ]
  },
  {
   "cell_type": "code",
   "execution_count": 11,
   "metadata": {},
   "outputs": [],
   "source": [
    "secctsName <- c(\"age_wk40\", \"income\",\"mbmi\")\n",
    "seccatName <- c(\"csection\")"
   ]
  },
  {
   "cell_type": "code",
   "execution_count": 12,
   "metadata": {},
   "outputs": [],
   "source": [
    "data <- data[c(alphaDataSubNames, \"time_point\", ctsName, catName, seccatName, secctsName)]"
   ]
  },
  {
   "cell_type": "code",
   "execution_count": 13,
   "metadata": {},
   "outputs": [
    {
     "data": {
      "text/html": [
       "<ol class=list-inline>\n",
       "\t<li>332</li>\n",
       "\t<li>56</li>\n",
       "</ol>\n"
      ],
      "text/latex": [
       "\\begin{enumerate*}\n",
       "\\item 332\n",
       "\\item 56\n",
       "\\end{enumerate*}\n"
      ],
      "text/markdown": [
       "1. 332\n",
       "2. 56\n",
       "\n",
       "\n"
      ],
      "text/plain": [
       "[1] 332  56"
      ]
     },
     "metadata": {},
     "output_type": "display_data"
    },
    {
     "data": {
      "text/html": [
       "<table>\n",
       "<caption>A data.frame: 6 × 56</caption>\n",
       "<thead>\n",
       "\t<tr><th></th><th scope=col>collection_device_id</th><th scope=col>observed_otus</th><th scope=col>pielou_e</th><th scope=col>shannon</th><th scope=col>time_point</th><th scope=col>age_years</th><th scope=col>days_exclusive_bf</th><th scope=col>cogcmp_yr2</th><th scope=col>langcmp_yr2</th><th scope=col>motorcmp_yr2</th><th scope=col>⋯</th><th scope=col>underwt_yr4</th><th scope=col>waste_yr4</th><th scope=col>stunting_yr4</th><th scope=col>underwt_yr5</th><th scope=col>waste_yr5</th><th scope=col>stunting_yr5</th><th scope=col>csection</th><th scope=col>age_wk40</th><th scope=col>income</th><th scope=col>mbmi</th></tr>\n",
       "\t<tr><th></th><th scope=col>&lt;fct&gt;</th><th scope=col>&lt;fct&gt;</th><th scope=col>&lt;fct&gt;</th><th scope=col>&lt;fct&gt;</th><th scope=col>&lt;dbl&gt;</th><th scope=col>&lt;dbl&gt;</th><th scope=col>&lt;dbl&gt;</th><th scope=col>&lt;dbl&gt;</th><th scope=col>&lt;dbl&gt;</th><th scope=col>&lt;dbl&gt;</th><th scope=col>⋯</th><th scope=col>&lt;fct&gt;</th><th scope=col>&lt;fct&gt;</th><th scope=col>&lt;fct&gt;</th><th scope=col>&lt;fct&gt;</th><th scope=col>&lt;fct&gt;</th><th scope=col>&lt;fct&gt;</th><th scope=col>&lt;fct&gt;</th><th scope=col>&lt;dbl&gt;</th><th scope=col>&lt;dbl&gt;</th><th scope=col>&lt;dbl&gt;</th></tr>\n",
       "</thead>\n",
       "<tbody>\n",
       "\t<tr><th scope=row>1</th><td>BVC-1473-10-10</td><td>295</td><td>0.278647320658207</td><td>2.28618176649468</td><td>1</td><td>0.75</td><td>121</td><td>90</td><td> 86</td><td>88</td><td>⋯</td><td>Risk of Underweight</td><td>Control</td><td>Stunting</td><td>Risk of Underweight</td><td>Control</td><td>Risk of Stunting</td><td>No</td><td>0.77</td><td> 7000</td><td>18.5</td></tr>\n",
       "\t<tr><th scope=row>2</th><td>BVC-1473-10-13</td><td>341</td><td>0.405716480932438</td><td>3.41354751523856</td><td>2</td><td>2.00</td><td>121</td><td>90</td><td> 86</td><td>88</td><td>⋯</td><td>Risk of Underweight</td><td>Control</td><td>Stunting</td><td>Risk of Underweight</td><td>Control</td><td>Risk of Stunting</td><td>No</td><td>0.77</td><td> 7000</td><td>18.5</td></tr>\n",
       "\t<tr><th scope=row>3</th><td>BVC-1473-10-36</td><td>408</td><td>0.563130933941578</td><td>4.88371098236301</td><td>3</td><td>3.00</td><td>121</td><td>90</td><td> 86</td><td>88</td><td>⋯</td><td>Risk of Underweight</td><td>Control</td><td>Stunting</td><td>Risk of Underweight</td><td>Control</td><td>Risk of Stunting</td><td>No</td><td>0.77</td><td> 7000</td><td>18.5</td></tr>\n",
       "\t<tr><th scope=row>4</th><td>BVC-1475-10-10</td><td>294</td><td>0.241921660373757</td><td>1.98367834818359</td><td>1</td><td>0.75</td><td>128</td><td>85</td><td>100</td><td>97</td><td>⋯</td><td>Risk of Underweight</td><td>Control</td><td>Stunting</td><td>Risk of Underweight</td><td>Control</td><td>Risk of Stunting</td><td>No</td><td>0.77</td><td>13000</td><td>18.9</td></tr>\n",
       "\t<tr><th scope=row>5</th><td>BVC-1475-10-13</td><td>391</td><td>0.514270605443919</td><td>4.42839693600385</td><td>2</td><td>2.00</td><td>128</td><td>85</td><td>100</td><td>97</td><td>⋯</td><td>Risk of Underweight</td><td>Control</td><td>Stunting</td><td>Risk of Underweight</td><td>Control</td><td>Risk of Stunting</td><td>No</td><td>0.77</td><td>13000</td><td>18.9</td></tr>\n",
       "\t<tr><th scope=row>6</th><td>BVC-1475-10-36</td><td>555</td><td>0.525784193790572</td><td>4.79322955997679</td><td>3</td><td>3.00</td><td>128</td><td>85</td><td>100</td><td>97</td><td>⋯</td><td>Risk of Underweight</td><td>Control</td><td>Stunting</td><td>Risk of Underweight</td><td>Control</td><td>Risk of Stunting</td><td>No</td><td>0.77</td><td>13000</td><td>18.9</td></tr>\n",
       "</tbody>\n",
       "</table>\n"
      ],
      "text/latex": [
       "A data.frame: 6 × 56\n",
       "\\begin{tabular}{r|lllllllllllllllllllll}\n",
       "  & collection\\_device\\_id & observed\\_otus & pielou\\_e & shannon & time\\_point & age\\_years & days\\_exclusive\\_bf & cogcmp\\_yr2 & langcmp\\_yr2 & motorcmp\\_yr2 & ⋯ & underwt\\_yr4 & waste\\_yr4 & stunting\\_yr4 & underwt\\_yr5 & waste\\_yr5 & stunting\\_yr5 & csection & age\\_wk40 & income & mbmi\\\\\n",
       "  & <fct> & <fct> & <fct> & <fct> & <dbl> & <dbl> & <dbl> & <dbl> & <dbl> & <dbl> & ⋯ & <fct> & <fct> & <fct> & <fct> & <fct> & <fct> & <fct> & <dbl> & <dbl> & <dbl>\\\\\n",
       "\\hline\n",
       "\t1 & BVC-1473-10-10 & 295 & 0.278647320658207 & 2.28618176649468 & 1 & 0.75 & 121 & 90 &  86 & 88 & ⋯ & Risk of Underweight & Control & Stunting & Risk of Underweight & Control & Risk of Stunting & No & 0.77 &  7000 & 18.5\\\\\n",
       "\t2 & BVC-1473-10-13 & 341 & 0.405716480932438 & 3.41354751523856 & 2 & 2.00 & 121 & 90 &  86 & 88 & ⋯ & Risk of Underweight & Control & Stunting & Risk of Underweight & Control & Risk of Stunting & No & 0.77 &  7000 & 18.5\\\\\n",
       "\t3 & BVC-1473-10-36 & 408 & 0.563130933941578 & 4.88371098236301 & 3 & 3.00 & 121 & 90 &  86 & 88 & ⋯ & Risk of Underweight & Control & Stunting & Risk of Underweight & Control & Risk of Stunting & No & 0.77 &  7000 & 18.5\\\\\n",
       "\t4 & BVC-1475-10-10 & 294 & 0.241921660373757 & 1.98367834818359 & 1 & 0.75 & 128 & 85 & 100 & 97 & ⋯ & Risk of Underweight & Control & Stunting & Risk of Underweight & Control & Risk of Stunting & No & 0.77 & 13000 & 18.9\\\\\n",
       "\t5 & BVC-1475-10-13 & 391 & 0.514270605443919 & 4.42839693600385 & 2 & 2.00 & 128 & 85 & 100 & 97 & ⋯ & Risk of Underweight & Control & Stunting & Risk of Underweight & Control & Risk of Stunting & No & 0.77 & 13000 & 18.9\\\\\n",
       "\t6 & BVC-1475-10-36 & 555 & 0.525784193790572 & 4.79322955997679 & 3 & 3.00 & 128 & 85 & 100 & 97 & ⋯ & Risk of Underweight & Control & Stunting & Risk of Underweight & Control & Risk of Stunting & No & 0.77 & 13000 & 18.9\\\\\n",
       "\\end{tabular}\n"
      ],
      "text/markdown": [
       "\n",
       "A data.frame: 6 × 56\n",
       "\n",
       "| <!--/--> | collection_device_id &lt;fct&gt; | observed_otus &lt;fct&gt; | pielou_e &lt;fct&gt; | shannon &lt;fct&gt; | time_point &lt;dbl&gt; | age_years &lt;dbl&gt; | days_exclusive_bf &lt;dbl&gt; | cogcmp_yr2 &lt;dbl&gt; | langcmp_yr2 &lt;dbl&gt; | motorcmp_yr2 &lt;dbl&gt; | ⋯ ⋯ | underwt_yr4 &lt;fct&gt; | waste_yr4 &lt;fct&gt; | stunting_yr4 &lt;fct&gt; | underwt_yr5 &lt;fct&gt; | waste_yr5 &lt;fct&gt; | stunting_yr5 &lt;fct&gt; | csection &lt;fct&gt; | age_wk40 &lt;dbl&gt; | income &lt;dbl&gt; | mbmi &lt;dbl&gt; |\n",
       "|---|---|---|---|---|---|---|---|---|---|---|---|---|---|---|---|---|---|---|---|---|---|\n",
       "| 1 | BVC-1473-10-10 | 295 | 0.278647320658207 | 2.28618176649468 | 1 | 0.75 | 121 | 90 |  86 | 88 | ⋯ | Risk of Underweight | Control | Stunting | Risk of Underweight | Control | Risk of Stunting | No | 0.77 |  7000 | 18.5 |\n",
       "| 2 | BVC-1473-10-13 | 341 | 0.405716480932438 | 3.41354751523856 | 2 | 2.00 | 121 | 90 |  86 | 88 | ⋯ | Risk of Underweight | Control | Stunting | Risk of Underweight | Control | Risk of Stunting | No | 0.77 |  7000 | 18.5 |\n",
       "| 3 | BVC-1473-10-36 | 408 | 0.563130933941578 | 4.88371098236301 | 3 | 3.00 | 121 | 90 |  86 | 88 | ⋯ | Risk of Underweight | Control | Stunting | Risk of Underweight | Control | Risk of Stunting | No | 0.77 |  7000 | 18.5 |\n",
       "| 4 | BVC-1475-10-10 | 294 | 0.241921660373757 | 1.98367834818359 | 1 | 0.75 | 128 | 85 | 100 | 97 | ⋯ | Risk of Underweight | Control | Stunting | Risk of Underweight | Control | Risk of Stunting | No | 0.77 | 13000 | 18.9 |\n",
       "| 5 | BVC-1475-10-13 | 391 | 0.514270605443919 | 4.42839693600385 | 2 | 2.00 | 128 | 85 | 100 | 97 | ⋯ | Risk of Underweight | Control | Stunting | Risk of Underweight | Control | Risk of Stunting | No | 0.77 | 13000 | 18.9 |\n",
       "| 6 | BVC-1475-10-36 | 555 | 0.525784193790572 | 4.79322955997679 | 3 | 3.00 | 128 | 85 | 100 | 97 | ⋯ | Risk of Underweight | Control | Stunting | Risk of Underweight | Control | Risk of Stunting | No | 0.77 | 13000 | 18.9 |\n",
       "\n"
      ],
      "text/plain": [
       "  collection_device_id observed_otus pielou_e          shannon         \n",
       "1 BVC-1473-10-10       295           0.278647320658207 2.28618176649468\n",
       "2 BVC-1473-10-13       341           0.405716480932438 3.41354751523856\n",
       "3 BVC-1473-10-36       408           0.563130933941578 4.88371098236301\n",
       "4 BVC-1475-10-10       294           0.241921660373757 1.98367834818359\n",
       "5 BVC-1475-10-13       391           0.514270605443919 4.42839693600385\n",
       "6 BVC-1475-10-36       555           0.525784193790572 4.79322955997679\n",
       "  time_point age_years days_exclusive_bf cogcmp_yr2 langcmp_yr2 motorcmp_yr2 ⋯\n",
       "1 1          0.75      121               90          86         88           ⋯\n",
       "2 2          2.00      121               90          86         88           ⋯\n",
       "3 3          3.00      121               90          86         88           ⋯\n",
       "4 1          0.75      128               85         100         97           ⋯\n",
       "5 2          2.00      128               85         100         97           ⋯\n",
       "6 3          3.00      128               85         100         97           ⋯\n",
       "  underwt_yr4         waste_yr4 stunting_yr4 underwt_yr5         waste_yr5\n",
       "1 Risk of Underweight Control   Stunting     Risk of Underweight Control  \n",
       "2 Risk of Underweight Control   Stunting     Risk of Underweight Control  \n",
       "3 Risk of Underweight Control   Stunting     Risk of Underweight Control  \n",
       "4 Risk of Underweight Control   Stunting     Risk of Underweight Control  \n",
       "5 Risk of Underweight Control   Stunting     Risk of Underweight Control  \n",
       "6 Risk of Underweight Control   Stunting     Risk of Underweight Control  \n",
       "  stunting_yr5     csection age_wk40 income mbmi\n",
       "1 Risk of Stunting No       0.77      7000  18.5\n",
       "2 Risk of Stunting No       0.77      7000  18.5\n",
       "3 Risk of Stunting No       0.77      7000  18.5\n",
       "4 Risk of Stunting No       0.77     13000  18.9\n",
       "5 Risk of Stunting No       0.77     13000  18.9\n",
       "6 Risk of Stunting No       0.77     13000  18.9"
      ]
     },
     "metadata": {},
     "output_type": "display_data"
    }
   ],
   "source": [
    "dim(data)\n",
    "head(data)"
   ]
  },
  {
   "cell_type": "code",
   "execution_count": 14,
   "metadata": {},
   "outputs": [],
   "source": [
    "metrics <- c(\"observed_otus\", \"pielou_e\", \"shannon\")"
   ]
  },
  {
   "cell_type": "markdown",
   "metadata": {},
   "source": [
    "###### All Timepoints"
   ]
  },
  {
   "cell_type": "code",
   "execution_count": 15,
   "metadata": {},
   "outputs": [
    {
     "name": "stdout",
     "output_type": "stream",
     "text": [
      "Step: R2.adj= 0 \n",
      "Call: alpha ~ 1 \n",
      " \n",
      "                          R2.adjusted\n",
      "<All variables>          0.2987252772\n",
      "+ age_years              0.2821537071\n",
      "+ recent_antibiotic_use  0.2305366995\n",
      "+ whz_yr4                0.0065355069\n",
      "+ waz_yr4                0.0059293153\n",
      "+ waz_yr3                0.0033975855\n",
      "+ waz_yr5                0.0030103693\n",
      "+ whz_yr3                0.0030057012\n",
      "+ whz_yr5                0.0027554310\n",
      "+ haz_yr4                0.0010379000\n",
      "+ haz_yr3                0.0002870397\n",
      "+ haz_yr5                0.0001959951\n",
      "+ haz_yr2                0.0000216687\n",
      "<none>                   0.0000000000\n",
      "+ waz_yr2               -0.0003256973\n",
      "+ whz_yr2               -0.0014765366\n",
      "+ motorcmp_yr2          -0.0015664078\n",
      "+ soemocmp_yr2          -0.0016889122\n",
      "+ cogcmp_yr2            -0.0017269390\n",
      "+ langcmp_yr2           -0.0018589269\n",
      "+ sex                   -0.0018805145\n",
      "+ days_exclusive_bf     -0.0022647141\n",
      "+ fsiq_yr4              -0.0023802955\n",
      "+ fsiq_yr5              -0.0025041153\n",
      "+ waz_yr1               -0.0025094236\n",
      "+ viq_yr4               -0.0025977662\n",
      "+ viq_yr5               -0.0026049077\n",
      "+ whz_yr1               -0.0027143959\n",
      "+ haz_yr1               -0.0028045451\n",
      "+ ageyr3_mulcog         -0.0032936132\n",
      "\n",
      "            Df     AIC      F Pr(>F)   \n",
      "+ age_years  1 -217.06 120.49  0.002 **\n",
      "---\n",
      "Signif. codes:  0 ‘***’ 0.001 ‘**’ 0.01 ‘*’ 0.05 ‘.’ 0.1 ‘ ’ 1\n",
      "\n",
      "Step: R2.adj= 0.2821537 \n",
      "Call: alpha ~ age_years \n",
      " \n",
      "                        R2.adjusted\n",
      "+ recent_antibiotic_use   0.3011788\n",
      "<All variables>           0.2987253\n",
      "+ whz_yr4                 0.2896527\n",
      "+ waz_yr4                 0.2879965\n",
      "+ whz_yr5                 0.2858365\n",
      "+ waz_yr3                 0.2855669\n",
      "+ waz_yr5                 0.2853242\n",
      "+ whz_yr3                 0.2852735\n",
      "+ haz_yr3                 0.2828795\n",
      "+ haz_yr4                 0.2828312\n",
      "+ haz_yr2                 0.2827489\n",
      "+ waz_yr2                 0.2827374\n",
      "+ haz_yr5                 0.2823023\n",
      "<none>                    0.2821537\n",
      "+ whz_yr2                 0.2816892\n",
      "+ days_exclusive_bf       0.2815454\n",
      "+ motorcmp_yr2            0.2813966\n",
      "+ cogcmp_yr2              0.2812465\n",
      "+ soemocmp_yr2            0.2812351\n",
      "+ waz_yr1                 0.2811681\n",
      "+ langcmp_yr2             0.2810617\n",
      "+ whz_yr1                 0.2808891\n",
      "+ fsiq_yr4                0.2808035\n",
      "+ fsiq_yr5                0.2807549\n",
      "+ viq_yr4                 0.2805806\n",
      "+ viq_yr5                 0.2805568\n",
      "+ haz_yr1                 0.2805398\n",
      "+ sex                     0.2801282\n",
      "+ ageyr3_mulcog           0.2797796\n",
      "\n",
      "             R2.adj Df     AIC      F Pr(>F)  ES.RDA\n",
      "+ age_years 0.28215  1 -217.06 120.49  0.002 0.28215\n"
     ]
    }
   ],
   "source": [
    "#all timepoints with numerical zscores\n",
    "ctsName <- c(\"age_years\", \"days_exclusive_bf\", \n",
    "             \"cogcmp_yr2\",\"langcmp_yr2\", \"motorcmp_yr2\", \"soemocmp_yr2\",\n",
    "             \"ageyr3_mulcog\",\n",
    "             \"fsiq_yr4\", \"fsiq_yr5\",\n",
    "             \"viq_yr4\", \"viq_yr5\",\n",
    "             \"haz_yr1\", \"haz_yr2\", \"haz_yr3\", \"haz_yr4\", \"haz_yr5\",\n",
    "             \"waz_yr1\", \"waz_yr2\", \"waz_yr3\", \"waz_yr4\", \"waz_yr5\",\n",
    "             \"whz_yr1\", \"whz_yr2\", \"whz_yr3\", \"whz_yr4\", \"whz_yr5\") \n",
    "catName <- c(\"sex\",\"recent_antibiotic_use\")\n",
    "table <- RDAanalysis(metrics[3], ctsName, catName, data)"
   ]
  },
  {
   "cell_type": "code",
   "execution_count": 16,
   "metadata": {},
   "outputs": [
    {
     "name": "stdout",
     "output_type": "stream",
     "text": [
      "Step: R2.adj= 0 \n",
      "Call: alpha ~ 1 \n",
      " \n",
      "                          R2.adjusted\n",
      "<All variables>          3.032078e-01\n",
      "+ age_years              2.838627e-01\n",
      "+ recent_antibiotic_use  2.211894e-01\n",
      "+ cogcmp_yr2_quartile    2.878010e-03\n",
      "+ soemocmp_yr2_quartile  7.105809e-04\n",
      "+ underwt_yr2            5.658204e-05\n",
      "<none>                   0.000000e+00\n",
      "+ stunting_yr5          -2.139365e-04\n",
      "+ waste_yr4             -6.953739e-04\n",
      "+ waste_yr1             -1.111357e-03\n",
      "+ underwt_yr3           -1.794453e-03\n",
      "+ days_exclusive_bf     -2.297386e-03\n",
      "+ sex                   -2.478783e-03\n",
      "+ stunting_yr4          -2.582983e-03\n",
      "+ stunting_yr2          -2.681801e-03\n",
      "+ underwt_yr1           -2.720262e-03\n",
      "+ waste_yr3             -3.083834e-03\n",
      "+ langcmp_yr2_quartile  -4.016023e-03\n",
      "+ underwt_yr5           -4.276469e-03\n",
      "+ motorcmp_yr2_quartile -4.708051e-03\n",
      "+ underwt_yr4           -5.383603e-03\n",
      "+ waste_yr5             -5.415711e-03\n",
      "+ stunting_yr1          -5.615517e-03\n",
      "+ stunting_yr3          -5.692258e-03\n",
      "+ waste_yr2             -5.946494e-03\n",
      "\n",
      "            Df    AIC     F Pr(>F)   \n",
      "+ age_years  1 -240.6 132.2  0.002 **\n",
      "---\n",
      "Signif. codes:  0 ‘***’ 0.001 ‘**’ 0.01 ‘*’ 0.05 ‘.’ 0.1 ‘ ’ 1\n",
      "\n",
      "Step: R2.adj= 0.2838627 \n",
      "Call: alpha ~ age_years \n",
      " \n",
      "                        R2.adjusted\n",
      "<All variables>           0.3032078\n",
      "+ recent_antibiotic_use   0.2999526\n",
      "+ cogcmp_yr2_quartile     0.2899752\n",
      "+ soemocmp_yr2_quartile   0.2890641\n",
      "+ langcmp_yr2_quartile    0.2857547\n",
      "+ underwt_yr2             0.2853690\n",
      "+ stunting_yr5            0.2850971\n",
      "+ waste_yr4               0.2842272\n",
      "+ waste_yr3               0.2840858\n",
      "<none>                    0.2838627\n",
      "+ motorcmp_yr2_quartile   0.2838086\n",
      "+ days_exclusive_bf       0.2831437\n",
      "+ stunting_yr4            0.2831074\n",
      "+ waste_yr1               0.2829973\n",
      "+ underwt_yr3             0.2828229\n",
      "+ underwt_yr5             0.2819563\n",
      "+ stunting_yr2            0.2819170\n",
      "+ waste_yr5               0.2818068\n",
      "+ underwt_yr1             0.2817671\n",
      "+ sex                     0.2817045\n",
      "+ stunting_yr1            0.2805576\n",
      "+ waste_yr2               0.2804602\n",
      "+ stunting_yr3            0.2797851\n",
      "+ underwt_yr4             0.2796597\n",
      "\n",
      "                        Df    AIC      F Pr(>F)  \n",
      "+ recent_antibiotic_use  4 -244.2 2.8962  0.038 *\n",
      "---\n",
      "Signif. codes:  0 ‘***’ 0.001 ‘**’ 0.01 ‘*’ 0.05 ‘.’ 0.1 ‘ ’ 1\n",
      "\n",
      "Step: R2.adj= 0.2999526 \n",
      "Call: alpha ~ age_years + recent_antibiotic_use \n",
      " \n",
      "                        R2.adjusted\n",
      "+ cogcmp_yr2_quartile     0.3069167\n",
      "<All variables>           0.3032078\n",
      "+ stunting_yr5            0.3027318\n",
      "+ langcmp_yr2_quartile    0.3026706\n",
      "+ soemocmp_yr2_quartile   0.3021629\n",
      "+ underwt_yr5             0.3020167\n",
      "+ underwt_yr2             0.3019423\n",
      "+ waste_yr4               0.3015466\n",
      "+ waste_yr1               0.3015107\n",
      "+ motorcmp_yr2_quartile   0.3007774\n",
      "+ waste_yr5               0.3003536\n",
      "<none>                    0.2999526\n",
      "+ days_exclusive_bf       0.2998673\n",
      "+ waste_yr3               0.2998162\n",
      "+ stunting_yr4            0.2996408\n",
      "+ underwt_yr3             0.2987421\n",
      "+ underwt_yr1             0.2982060\n",
      "+ stunting_yr2            0.2981101\n",
      "+ sex                     0.2979407\n",
      "+ underwt_yr4             0.2977879\n",
      "+ waste_yr2               0.2973668\n",
      "+ stunting_yr1            0.2965623\n",
      "+ stunting_yr3            0.2960617\n",
      "\n",
      "                         R2.adj Df    AIC        F Pr(>F)  ES.RDA\n",
      "+ age_years             0.28386  1 -240.6 132.2019  0.002 0.28386\n",
      "+ recent_antibiotic_use 0.29995  4 -244.2   2.8962  0.038 0.01609\n"
     ]
    }
   ],
   "source": [
    "#all timepoints with categorical zscores\n",
    "ctsName <- c(\"age_years\", \"days_exclusive_bf\") \n",
    "catName <- c(\"sex\",\"recent_antibiotic_use\",\n",
    "             \"cogcmp_yr2_quartile\", \"langcmp_yr2_quartile\", \n",
    "             \"motorcmp_yr2_quartile\", \"soemocmp_yr2_quartile\",\n",
    "             \"underwt_yr1\", \"waste_yr1\", \"stunting_yr1\",\n",
    "             \"underwt_yr2\", \"waste_yr2\", \"stunting_yr2\",\n",
    "             \"underwt_yr3\", \"waste_yr3\", \"stunting_yr3\",\n",
    "             \"underwt_yr4\", \"waste_yr4\", \"stunting_yr4\",\n",
    "             \"underwt_yr5\", \"waste_yr5\", \"stunting_yr5\")\n",
    "table <- RDAanalysis(metrics[3], ctsName, catName, data)"
   ]
  },
  {
   "cell_type": "code",
   "execution_count": 17,
   "metadata": {},
   "outputs": [
    {
     "name": "stdout",
     "output_type": "stream",
     "text": [
      "Step: R2.adj= 0 \n",
      "Call: alpha ~ 1 \n",
      " \n",
      "                          R2.adjusted\n",
      "<All variables>          3.046069e-01\n",
      "+ age_years              2.838627e-01\n",
      "+ recent_antibiotic_use  2.211894e-01\n",
      "+ cogcmp_yr2_quartile    2.878010e-03\n",
      "+ soemocmp_yr2_quartile  7.105809e-04\n",
      "+ underwt_yr2            5.658204e-05\n",
      "<none>                   0.000000e+00\n",
      "+ stunting_yr5          -2.139365e-04\n",
      "+ csection              -6.643296e-04\n",
      "+ waste_yr4             -6.953739e-04\n",
      "+ waste_yr1             -1.111357e-03\n",
      "+ mbmi                  -1.742942e-03\n",
      "+ underwt_yr3           -1.794453e-03\n",
      "+ days_exclusive_bf     -2.297386e-03\n",
      "+ sex                   -2.478783e-03\n",
      "+ income                -2.527842e-03\n",
      "+ stunting_yr4          -2.582983e-03\n",
      "+ stunting_yr2          -2.681801e-03\n",
      "+ underwt_yr1           -2.720262e-03\n",
      "+ age_wk40              -3.018379e-03\n",
      "+ waste_yr3             -3.083834e-03\n",
      "+ langcmp_yr2_quartile  -4.016023e-03\n",
      "+ underwt_yr5           -4.276469e-03\n",
      "+ motorcmp_yr2_quartile -4.708051e-03\n",
      "+ underwt_yr4           -5.383603e-03\n",
      "+ waste_yr5             -5.415711e-03\n",
      "+ stunting_yr1          -5.615517e-03\n",
      "+ stunting_yr3          -5.692258e-03\n",
      "+ waste_yr2             -5.946494e-03\n",
      "\n",
      "            Df    AIC     F Pr(>F)   \n",
      "+ age_years  1 -240.6 132.2  0.002 **\n",
      "---\n",
      "Signif. codes:  0 ‘***’ 0.001 ‘**’ 0.01 ‘*’ 0.05 ‘.’ 0.1 ‘ ’ 1\n",
      "\n",
      "Step: R2.adj= 0.2838627 \n",
      "Call: alpha ~ age_years \n",
      " \n",
      "                        R2.adjusted\n",
      "<All variables>           0.3046069\n",
      "+ recent_antibiotic_use   0.2999526\n",
      "+ cogcmp_yr2_quartile     0.2899752\n",
      "+ soemocmp_yr2_quartile   0.2890641\n",
      "+ langcmp_yr2_quartile    0.2857547\n",
      "+ underwt_yr2             0.2853690\n",
      "+ stunting_yr5            0.2850971\n",
      "+ waste_yr4               0.2842272\n",
      "+ waste_yr3               0.2840858\n",
      "<none>                    0.2838627\n",
      "+ motorcmp_yr2_quartile   0.2838086\n",
      "+ csection                0.2834672\n",
      "+ mbmi                    0.2831569\n",
      "+ days_exclusive_bf       0.2831437\n",
      "+ stunting_yr4            0.2831074\n",
      "+ waste_yr1               0.2829973\n",
      "+ underwt_yr3             0.2828229\n",
      "+ income                  0.2824036\n",
      "+ underwt_yr5             0.2819563\n",
      "+ age_wk40                0.2819326\n",
      "+ stunting_yr2            0.2819170\n",
      "+ waste_yr5               0.2818068\n",
      "+ underwt_yr1             0.2817671\n",
      "+ sex                     0.2817045\n",
      "+ stunting_yr1            0.2805576\n",
      "+ waste_yr2               0.2804602\n",
      "+ stunting_yr3            0.2797851\n",
      "+ underwt_yr4             0.2796597\n",
      "\n",
      "                        Df    AIC      F Pr(>F)  \n",
      "+ recent_antibiotic_use  4 -244.2 2.8962  0.032 *\n",
      "---\n",
      "Signif. codes:  0 ‘***’ 0.001 ‘**’ 0.01 ‘*’ 0.05 ‘.’ 0.1 ‘ ’ 1\n",
      "\n",
      "Step: R2.adj= 0.2999526 \n",
      "Call: alpha ~ age_years + recent_antibiotic_use \n",
      " \n",
      "                        R2.adjusted\n",
      "+ cogcmp_yr2_quartile     0.3069167\n",
      "<All variables>           0.3046069\n",
      "+ stunting_yr5            0.3027318\n",
      "+ langcmp_yr2_quartile    0.3026706\n",
      "+ soemocmp_yr2_quartile   0.3021629\n",
      "+ underwt_yr5             0.3020167\n",
      "+ underwt_yr2             0.3019423\n",
      "+ waste_yr4               0.3015466\n",
      "+ waste_yr1               0.3015107\n",
      "+ motorcmp_yr2_quartile   0.3007774\n",
      "+ waste_yr5               0.3003536\n",
      "+ csection                0.3002241\n",
      "<none>                    0.2999526\n",
      "+ days_exclusive_bf       0.2998673\n",
      "+ waste_yr3               0.2998162\n",
      "+ stunting_yr4            0.2996408\n",
      "+ income                  0.2991336\n",
      "+ mbmi                    0.2990733\n",
      "+ underwt_yr3             0.2987421\n",
      "+ underwt_yr1             0.2982060\n",
      "+ stunting_yr2            0.2981101\n",
      "+ age_wk40                0.2979951\n",
      "+ sex                     0.2979407\n",
      "+ underwt_yr4             0.2977879\n",
      "+ waste_yr2               0.2973668\n",
      "+ stunting_yr1            0.2965623\n",
      "+ stunting_yr3            0.2960617\n",
      "\n",
      "                         R2.adj Df    AIC        F Pr(>F)  ES.RDA\n",
      "+ age_years             0.28386  1 -240.6 132.2019  0.002 0.28386\n",
      "+ recent_antibiotic_use 0.29995  4 -244.2   2.8962  0.032 0.01609\n"
     ]
    }
   ],
   "source": [
    "#all timepoints with secondary variables\n",
    "table <- RDAanalysis(metrics[3], c(ctsName,secctsName), c(catName, seccatName), data)"
   ]
  },
  {
   "cell_type": "code",
   "execution_count": 18,
   "metadata": {},
   "outputs": [
    {
     "data": {
      "image/png": "[encoded data removed]",
      "text/plain": [
       "plot without title"
      ]
     },
     "metadata": {
      "image/png": {
       "height": 420,
       "width": 420
      },
      "text/plain": {
       "height": 420,
       "width": 420
      }
     },
     "output_type": "display_data"
    }
   ],
   "source": [
    "covariates = rownames(table)\n",
    "ggplot(table, aes(x=reorder(covariates, ES.RDA), y=ES.RDA, fill=covariates)) +\n",
    "  labs(x = 'Non-redundant Covariants(All Timepoints)', y = 'Effect Size (Shanon Alpha Diversity)') +\n",
    "  geom_bar(stat='identity') +\n",
    "  theme(axis.text=element_text(size=10), \n",
    "        axis.title=element_text(size=14,face=\"bold\"), \n",
    "        legend.position=\"none\") + \n",
    "  coord_flip()"
   ]
  },
  {
   "cell_type": "markdown",
   "metadata": {},
   "source": [
    "##### Timepoint1"
   ]
  },
  {
   "cell_type": "code",
   "execution_count": 19,
   "metadata": {},
   "outputs": [
    {
     "data": {
      "text/html": [
       "<table>\n",
       "<caption>A data.frame: 6 × 56</caption>\n",
       "<thead>\n",
       "\t<tr><th></th><th scope=col>collection_device_id</th><th scope=col>observed_otus</th><th scope=col>pielou_e</th><th scope=col>shannon</th><th scope=col>time_point</th><th scope=col>age_years</th><th scope=col>days_exclusive_bf</th><th scope=col>cogcmp_yr2</th><th scope=col>langcmp_yr2</th><th scope=col>motorcmp_yr2</th><th scope=col>⋯</th><th scope=col>underwt_yr4</th><th scope=col>waste_yr4</th><th scope=col>stunting_yr4</th><th scope=col>underwt_yr5</th><th scope=col>waste_yr5</th><th scope=col>stunting_yr5</th><th scope=col>csection</th><th scope=col>age_wk40</th><th scope=col>income</th><th scope=col>mbmi</th></tr>\n",
       "\t<tr><th></th><th scope=col>&lt;fct&gt;</th><th scope=col>&lt;fct&gt;</th><th scope=col>&lt;fct&gt;</th><th scope=col>&lt;fct&gt;</th><th scope=col>&lt;dbl&gt;</th><th scope=col>&lt;dbl&gt;</th><th scope=col>&lt;dbl&gt;</th><th scope=col>&lt;dbl&gt;</th><th scope=col>&lt;dbl&gt;</th><th scope=col>&lt;dbl&gt;</th><th scope=col>⋯</th><th scope=col>&lt;fct&gt;</th><th scope=col>&lt;fct&gt;</th><th scope=col>&lt;fct&gt;</th><th scope=col>&lt;fct&gt;</th><th scope=col>&lt;fct&gt;</th><th scope=col>&lt;fct&gt;</th><th scope=col>&lt;fct&gt;</th><th scope=col>&lt;dbl&gt;</th><th scope=col>&lt;dbl&gt;</th><th scope=col>&lt;dbl&gt;</th></tr>\n",
       "</thead>\n",
       "<tbody>\n",
       "\t<tr><th scope=row>1</th><td>BVC-1473-10-10</td><td>295</td><td>0.278647320658207</td><td>2.28618176649468</td><td>1</td><td>0.75</td><td>121</td><td> 90</td><td> 86</td><td>88</td><td>⋯</td><td>Risk of Underweight</td><td>Control        </td><td>Stunting        </td><td>Risk of Underweight</td><td>Control        </td><td>Risk of Stunting</td><td>No </td><td>0.77</td><td> 7000</td><td>18.5</td></tr>\n",
       "\t<tr><th scope=row>4</th><td>BVC-1475-10-10</td><td>294</td><td>0.241921660373757</td><td>1.98367834818359</td><td>1</td><td>0.75</td><td>128</td><td> 85</td><td>100</td><td>97</td><td>⋯</td><td>Risk of Underweight</td><td>Control        </td><td>Stunting        </td><td>Risk of Underweight</td><td>Control        </td><td>Risk of Stunting</td><td>No </td><td>0.77</td><td>13000</td><td>18.9</td></tr>\n",
       "\t<tr><th scope=row>7</th><td>BVC-1480-10-10</td><td>283</td><td>0.298533394835474</td><td>2.43145247500733</td><td>1</td><td>0.75</td><td>116</td><td> 85</td><td> 86</td><td>85</td><td>⋯</td><td>Risk of Underweight</td><td>Risk of wasting</td><td>Risk of Stunting</td><td>Risk of Underweight</td><td>Risk of wasting</td><td>Control         </td><td>No </td><td>0.78</td><td> 7000</td><td>23.2</td></tr>\n",
       "\t<tr><th scope=row>10</th><td>BVC-1481-10-10</td><td>213</td><td>0.348051437068151</td><td>2.69207679862445</td><td>1</td><td>0.75</td><td>170</td><td>100</td><td>106</td><td>94</td><td>⋯</td><td>Risk of Underweight</td><td>Risk of wasting</td><td>Risk of Stunting</td><td>Risk of Underweight</td><td>Risk of wasting</td><td>Risk of Stunting</td><td>No </td><td>0.77</td><td> 6000</td><td>18.3</td></tr>\n",
       "\t<tr><th scope=row>14</th><td>BVC-1492-10-10</td><td>380</td><td>0.437793154342847</td><td>3.75182411903395</td><td>1</td><td>0.75</td><td>115</td><td>100</td><td>106</td><td>97</td><td>⋯</td><td>Risk of Underweight</td><td>Risk of wasting</td><td>Control         </td><td>Risk of Underweight</td><td>Risk of wasting</td><td>Control         </td><td>Yes</td><td>0.78</td><td>18000</td><td>22.8</td></tr>\n",
       "\t<tr><th scope=row>16</th><td>BVC-1499-10-10</td><td>502</td><td>0.516912704328292</td><td>4.63750484047175</td><td>1</td><td>0.75</td><td>186</td><td> 85</td><td> 89</td><td>88</td><td>⋯</td><td>Risk of Underweight</td><td>Risk of wasting</td><td>Risk of Stunting</td><td>Risk of Underweight</td><td>Control        </td><td>Stunting        </td><td>No </td><td>0.77</td><td> 5000</td><td>18.8</td></tr>\n",
       "</tbody>\n",
       "</table>\n"
      ],
      "text/latex": [
       "A data.frame: 6 × 56\n",
       "\\begin{tabular}{r|lllllllllllllllllllll}\n",
       "  & collection\\_device\\_id & observed\\_otus & pielou\\_e & shannon & time\\_point & age\\_years & days\\_exclusive\\_bf & cogcmp\\_yr2 & langcmp\\_yr2 & motorcmp\\_yr2 & ⋯ & underwt\\_yr4 & waste\\_yr4 & stunting\\_yr4 & underwt\\_yr5 & waste\\_yr5 & stunting\\_yr5 & csection & age\\_wk40 & income & mbmi\\\\\n",
       "  & <fct> & <fct> & <fct> & <fct> & <dbl> & <dbl> & <dbl> & <dbl> & <dbl> & <dbl> & ⋯ & <fct> & <fct> & <fct> & <fct> & <fct> & <fct> & <fct> & <dbl> & <dbl> & <dbl>\\\\\n",
       "\\hline\n",
       "\t1 & BVC-1473-10-10 & 295 & 0.278647320658207 & 2.28618176649468 & 1 & 0.75 & 121 &  90 &  86 & 88 & ⋯ & Risk of Underweight & Control         & Stunting         & Risk of Underweight & Control         & Risk of Stunting & No  & 0.77 &  7000 & 18.5\\\\\n",
       "\t4 & BVC-1475-10-10 & 294 & 0.241921660373757 & 1.98367834818359 & 1 & 0.75 & 128 &  85 & 100 & 97 & ⋯ & Risk of Underweight & Control         & Stunting         & Risk of Underweight & Control         & Risk of Stunting & No  & 0.77 & 13000 & 18.9\\\\\n",
       "\t7 & BVC-1480-10-10 & 283 & 0.298533394835474 & 2.43145247500733 & 1 & 0.75 & 116 &  85 &  86 & 85 & ⋯ & Risk of Underweight & Risk of wasting & Risk of Stunting & Risk of Underweight & Risk of wasting & Control          & No  & 0.78 &  7000 & 23.2\\\\\n",
       "\t10 & BVC-1481-10-10 & 213 & 0.348051437068151 & 2.69207679862445 & 1 & 0.75 & 170 & 100 & 106 & 94 & ⋯ & Risk of Underweight & Risk of wasting & Risk of Stunting & Risk of Underweight & Risk of wasting & Risk of Stunting & No  & 0.77 &  6000 & 18.3\\\\\n",
       "\t14 & BVC-1492-10-10 & 380 & 0.437793154342847 & 3.75182411903395 & 1 & 0.75 & 115 & 100 & 106 & 97 & ⋯ & Risk of Underweight & Risk of wasting & Control          & Risk of Underweight & Risk of wasting & Control          & Yes & 0.78 & 18000 & 22.8\\\\\n",
       "\t16 & BVC-1499-10-10 & 502 & 0.516912704328292 & 4.63750484047175 & 1 & 0.75 & 186 &  85 &  89 & 88 & ⋯ & Risk of Underweight & Risk of wasting & Risk of Stunting & Risk of Underweight & Control         & Stunting         & No  & 0.77 &  5000 & 18.8\\\\\n",
       "\\end{tabular}\n"
      ],
      "text/markdown": [
       "\n",
       "A data.frame: 6 × 56\n",
       "\n",
       "| <!--/--> | collection_device_id &lt;fct&gt; | observed_otus &lt;fct&gt; | pielou_e &lt;fct&gt; | shannon &lt;fct&gt; | time_point &lt;dbl&gt; | age_years &lt;dbl&gt; | days_exclusive_bf &lt;dbl&gt; | cogcmp_yr2 &lt;dbl&gt; | langcmp_yr2 &lt;dbl&gt; | motorcmp_yr2 &lt;dbl&gt; | ⋯ ⋯ | underwt_yr4 &lt;fct&gt; | waste_yr4 &lt;fct&gt; | stunting_yr4 &lt;fct&gt; | underwt_yr5 &lt;fct&gt; | waste_yr5 &lt;fct&gt; | stunting_yr5 &lt;fct&gt; | csection &lt;fct&gt; | age_wk40 &lt;dbl&gt; | income &lt;dbl&gt; | mbmi &lt;dbl&gt; |\n",
       "|---|---|---|---|---|---|---|---|---|---|---|---|---|---|---|---|---|---|---|---|---|---|\n",
       "| 1 | BVC-1473-10-10 | 295 | 0.278647320658207 | 2.28618176649468 | 1 | 0.75 | 121 |  90 |  86 | 88 | ⋯ | Risk of Underweight | Control         | Stunting         | Risk of Underweight | Control         | Risk of Stunting | No  | 0.77 |  7000 | 18.5 |\n",
       "| 4 | BVC-1475-10-10 | 294 | 0.241921660373757 | 1.98367834818359 | 1 | 0.75 | 128 |  85 | 100 | 97 | ⋯ | Risk of Underweight | Control         | Stunting         | Risk of Underweight | Control         | Risk of Stunting | No  | 0.77 | 13000 | 18.9 |\n",
       "| 7 | BVC-1480-10-10 | 283 | 0.298533394835474 | 2.43145247500733 | 1 | 0.75 | 116 |  85 |  86 | 85 | ⋯ | Risk of Underweight | Risk of wasting | Risk of Stunting | Risk of Underweight | Risk of wasting | Control          | No  | 0.78 |  7000 | 23.2 |\n",
       "| 10 | BVC-1481-10-10 | 213 | 0.348051437068151 | 2.69207679862445 | 1 | 0.75 | 170 | 100 | 106 | 94 | ⋯ | Risk of Underweight | Risk of wasting | Risk of Stunting | Risk of Underweight | Risk of wasting | Risk of Stunting | No  | 0.77 |  6000 | 18.3 |\n",
       "| 14 | BVC-1492-10-10 | 380 | 0.437793154342847 | 3.75182411903395 | 1 | 0.75 | 115 | 100 | 106 | 97 | ⋯ | Risk of Underweight | Risk of wasting | Control          | Risk of Underweight | Risk of wasting | Control          | Yes | 0.78 | 18000 | 22.8 |\n",
       "| 16 | BVC-1499-10-10 | 502 | 0.516912704328292 | 4.63750484047175 | 1 | 0.75 | 186 |  85 |  89 | 88 | ⋯ | Risk of Underweight | Risk of wasting | Risk of Stunting | Risk of Underweight | Control         | Stunting         | No  | 0.77 |  5000 | 18.8 |\n",
       "\n"
      ],
      "text/plain": [
       "   collection_device_id observed_otus pielou_e          shannon         \n",
       "1  BVC-1473-10-10       295           0.278647320658207 2.28618176649468\n",
       "4  BVC-1475-10-10       294           0.241921660373757 1.98367834818359\n",
       "7  BVC-1480-10-10       283           0.298533394835474 2.43145247500733\n",
       "10 BVC-1481-10-10       213           0.348051437068151 2.69207679862445\n",
       "14 BVC-1492-10-10       380           0.437793154342847 3.75182411903395\n",
       "16 BVC-1499-10-10       502           0.516912704328292 4.63750484047175\n",
       "   time_point age_years days_exclusive_bf cogcmp_yr2 langcmp_yr2 motorcmp_yr2 ⋯\n",
       "1  1          0.75      121                90         86         88           ⋯\n",
       "4  1          0.75      128                85        100         97           ⋯\n",
       "7  1          0.75      116                85         86         85           ⋯\n",
       "10 1          0.75      170               100        106         94           ⋯\n",
       "14 1          0.75      115               100        106         97           ⋯\n",
       "16 1          0.75      186                85         89         88           ⋯\n",
       "   underwt_yr4         waste_yr4       stunting_yr4     underwt_yr5        \n",
       "1  Risk of Underweight Control         Stunting         Risk of Underweight\n",
       "4  Risk of Underweight Control         Stunting         Risk of Underweight\n",
       "7  Risk of Underweight Risk of wasting Risk of Stunting Risk of Underweight\n",
       "10 Risk of Underweight Risk of wasting Risk of Stunting Risk of Underweight\n",
       "14 Risk of Underweight Risk of wasting Control          Risk of Underweight\n",
       "16 Risk of Underweight Risk of wasting Risk of Stunting Risk of Underweight\n",
       "   waste_yr5       stunting_yr5     csection age_wk40 income mbmi\n",
       "1  Control         Risk of Stunting No       0.77      7000  18.5\n",
       "4  Control         Risk of Stunting No       0.77     13000  18.9\n",
       "7  Risk of wasting Control          No       0.78      7000  23.2\n",
       "10 Risk of wasting Risk of Stunting No       0.77      6000  18.3\n",
       "14 Risk of wasting Control          Yes      0.78     18000  22.8\n",
       "16 Control         Stunting         No       0.77      5000  18.8"
      ]
     },
     "metadata": {},
     "output_type": "display_data"
    }
   ],
   "source": [
    "tp1 <- data[data$time_point==1, ]\n",
    "head(tp1)"
   ]
  },
  {
   "cell_type": "code",
   "execution_count": 20,
   "metadata": {},
   "outputs": [
    {
     "name": "stdout",
     "output_type": "stream",
     "text": [
      "Step: R2.adj= 0 \n",
      "Call: alpha ~ 1 \n",
      " \n",
      "                         R2.adjusted\n",
      "<All variables>          0.061609065\n",
      "+ sex                    0.039926070\n",
      "+ recent_antibiotic_use  0.027633293\n",
      "+ stunting_yr1           0.005038813\n",
      "<none>                   0.000000000\n",
      "+ underwt_yr1           -0.000554309\n",
      "+ days_exclusive_bf     -0.008378203\n",
      "+ waste_yr1             -0.015804897\n",
      "\n",
      "      Df     AIC      F Pr(>F)  \n",
      "+ sex  1 -93.936 5.6161  0.022 *\n",
      "---\n",
      "Signif. codes:  0 ‘***’ 0.001 ‘**’ 0.01 ‘*’ 0.05 ‘.’ 0.1 ‘ ’ 1\n",
      "\n",
      "Step: R2.adj= 0.03992607 \n",
      "Call: alpha ~ sex \n",
      " \n",
      "                        R2.adjusted\n",
      "+ recent_antibiotic_use  0.08479295\n",
      "<All variables>          0.06160906\n",
      "+ underwt_yr1            0.04443259\n",
      "<none>                   0.03992607\n",
      "+ stunting_yr1           0.03630466\n",
      "+ days_exclusive_bf      0.03350953\n",
      "+ waste_yr1              0.02372989\n",
      "\n",
      "        R2.adj Df     AIC      F Pr(>F)   ES.RDA\n",
      "+ sex 0.039926  1 -93.936 5.6161  0.022 0.039926\n"
     ]
    }
   ],
   "source": [
    "#categorical zscore\n",
    "ctsName <- c(\"days_exclusive_bf\") \n",
    "catName <- c(\"sex\", \"recent_antibiotic_use\", \"underwt_yr1\", \"waste_yr1\", \"stunting_yr1\")\n",
    "table <- RDAanalysis(metrics[3], ctsName, catName, tp1)"
   ]
  },
  {
   "cell_type": "code",
   "execution_count": 21,
   "metadata": {},
   "outputs": [
    {
     "data": {
      "image/png": "[encoded data removed]",
      "text/plain": [
       "plot without title"
      ]
     },
     "metadata": {
      "image/png": {
       "height": 420,
       "width": 420
      },
      "text/plain": {
       "height": 420,
       "width": 420
      }
     },
     "output_type": "display_data"
    }
   ],
   "source": [
    "covariates = rownames(table)\n",
    "ggplot(table, aes(x=reorder(covariates, ES.RDA), y=ES.RDA, fill=covariates)) +\n",
    "  labs(x = 'Non-redundant Covariants(Timepoints 1)', y = 'Effect Size (Shanon Alpha Diversity)') +\n",
    "  geom_bar(stat='identity') +\n",
    "  theme(axis.text=element_text(size=10), \n",
    "        axis.title=element_text(size=14,face=\"bold\"), \n",
    "        legend.position=\"none\") + \n",
    "  coord_flip()"
   ]
  },
  {
   "cell_type": "code",
   "execution_count": 22,
   "metadata": {},
   "outputs": [
    {
     "name": "stdout",
     "output_type": "stream",
     "text": [
      "Step: R2.adj= 0 \n",
      "Call: alpha ~ 1 \n",
      " \n",
      "                         R2.adjusted\n",
      "<All variables>          0.052802518\n",
      "+ sex                    0.039926070\n",
      "+ recent_antibiotic_use  0.027633293\n",
      "+ stunting_yr1           0.005038813\n",
      "<none>                   0.000000000\n",
      "+ underwt_yr1           -0.000554309\n",
      "+ csection              -0.003638896\n",
      "+ days_exclusive_bf     -0.008378203\n",
      "+ age_wk40              -0.008441277\n",
      "+ mbmi                  -0.008542059\n",
      "+ income                -0.009014491\n",
      "+ waste_yr1             -0.015804897\n",
      "\n",
      "      Df     AIC      F Pr(>F)  \n",
      "+ sex  1 -93.936 5.6161   0.02 *\n",
      "---\n",
      "Signif. codes:  0 ‘***’ 0.001 ‘**’ 0.01 ‘*’ 0.05 ‘.’ 0.1 ‘ ’ 1\n",
      "\n",
      "Step: R2.adj= 0.03992607 \n",
      "Call: alpha ~ sex \n",
      " \n",
      "                        R2.adjusted\n",
      "+ recent_antibiotic_use  0.08479295\n",
      "<All variables>          0.05280252\n",
      "+ underwt_yr1            0.04443259\n",
      "<none>                   0.03992607\n",
      "+ csection               0.03697077\n",
      "+ stunting_yr1           0.03630466\n",
      "+ days_exclusive_bf      0.03350953\n",
      "+ income                 0.03188885\n",
      "+ age_wk40               0.03187514\n",
      "+ mbmi                   0.03178910\n",
      "+ waste_yr1              0.02372989\n",
      "\n",
      "        R2.adj Df     AIC      F Pr(>F)   ES.RDA\n",
      "+ sex 0.039926  1 -93.936 5.6161   0.02 0.039926\n"
     ]
    }
   ],
   "source": [
    "#with secondary variables\n",
    "table <- RDAanalysis(metrics[3], c(ctsName,secctsName), c(catName, seccatName), tp1)"
   ]
  },
  {
   "cell_type": "code",
   "execution_count": 23,
   "metadata": {},
   "outputs": [
    {
     "name": "stdout",
     "output_type": "stream",
     "text": [
      "Step: R2.adj= 0 \n",
      "Call: alpha ~ 1 \n",
      " \n",
      "                         R2.adjusted\n",
      "<All variables>          0.060663026\n",
      "+ sex                    0.039926070\n",
      "+ recent_antibiotic_use  0.027633293\n",
      "<none>                   0.000000000\n",
      "+ haz_yr1               -0.005642456\n",
      "+ waz_yr1               -0.005887573\n",
      "+ whz_yr1               -0.007860347\n",
      "+ days_exclusive_bf     -0.008378203\n",
      "\n",
      "      Df     AIC      F Pr(>F)  \n",
      "+ sex  1 -93.936 5.6161  0.022 *\n",
      "---\n",
      "Signif. codes:  0 ‘***’ 0.001 ‘**’ 0.01 ‘*’ 0.05 ‘.’ 0.1 ‘ ’ 1\n",
      "\n",
      "Step: R2.adj= 0.03992607 \n",
      "Call: alpha ~ sex \n",
      " \n",
      "                        R2.adjusted\n",
      "+ recent_antibiotic_use  0.08479295\n",
      "<All variables>          0.06066303\n",
      "<none>                   0.03992607\n",
      "+ haz_yr1                0.03512962\n",
      "+ waz_yr1                0.03478352\n",
      "+ days_exclusive_bf      0.03350953\n",
      "+ whz_yr1                0.03258196\n",
      "\n",
      "        R2.adj Df     AIC      F Pr(>F)   ES.RDA\n",
      "+ sex 0.039926  1 -93.936 5.6161  0.022 0.039926\n"
     ]
    }
   ],
   "source": [
    "#continuous zscore\n",
    "ctsName <- c(\"days_exclusive_bf\",\"haz_yr1\", \"waz_yr1\",\"whz_yr1\") \n",
    "catName <- c(\"sex\",\"recent_antibiotic_use\")\n",
    "table <- RDAanalysis(metrics[3], ctsName, catName, tp1)"
   ]
  },
  {
   "cell_type": "code",
   "execution_count": 24,
   "metadata": {},
   "outputs": [
    {
     "data": {
      "image/png": "[encoded data removed]",
      "text/plain": [
       "plot without title"
      ]
     },
     "metadata": {
      "image/png": {
       "height": 420,
       "width": 420
      },
      "text/plain": {
       "height": 420,
       "width": 420
      }
     },
     "output_type": "display_data"
    }
   ],
   "source": [
    "covariates = rownames(table)\n",
    "ggplot(table, aes(x=reorder(covariates, ES.RDA), y=ES.RDA, fill=covariates)) +\n",
    "  labs(x = 'Covariants-Timepoints 1(cts)', y = 'Effect Size (Shanon Alpha Diversity)') +\n",
    "  geom_bar(stat='identity') +\n",
    "  theme(axis.text=element_text(size=10), \n",
    "        axis.title=element_text(size=14,face=\"bold\"), \n",
    "        legend.position=\"none\") + \n",
    "  coord_flip()"
   ]
  },
  {
   "cell_type": "code",
   "execution_count": 25,
   "metadata": {},
   "outputs": [
    {
     "name": "stdout",
     "output_type": "stream",
     "text": [
      "Step: R2.adj= 0 \n",
      "Call: alpha ~ 1 \n",
      " \n",
      "                         R2.adjusted\n",
      "<All variables>          0.053827115\n",
      "+ sex                    0.039926070\n",
      "+ recent_antibiotic_use  0.027633293\n",
      "<none>                   0.000000000\n",
      "+ csection              -0.003638896\n",
      "+ haz_yr1               -0.005642456\n",
      "+ waz_yr1               -0.005887573\n",
      "+ whz_yr1               -0.007860347\n",
      "+ days_exclusive_bf     -0.008378203\n",
      "+ age_wk40              -0.008441277\n",
      "+ mbmi                  -0.008542059\n",
      "+ income                -0.009014491\n",
      "\n",
      "      Df     AIC      F Pr(>F)  \n",
      "+ sex  1 -93.936 5.6161  0.024 *\n",
      "---\n",
      "Signif. codes:  0 ‘***’ 0.001 ‘**’ 0.01 ‘*’ 0.05 ‘.’ 0.1 ‘ ’ 1\n",
      "\n",
      "Step: R2.adj= 0.03992607 \n",
      "Call: alpha ~ sex \n",
      " \n",
      "                        R2.adjusted\n",
      "+ recent_antibiotic_use  0.08479295\n",
      "<All variables>          0.05382711\n",
      "<none>                   0.03992607\n",
      "+ csection               0.03697077\n",
      "+ haz_yr1                0.03512962\n",
      "+ waz_yr1                0.03478352\n",
      "+ days_exclusive_bf      0.03350953\n",
      "+ whz_yr1                0.03258196\n",
      "+ income                 0.03188885\n",
      "+ age_wk40               0.03187514\n",
      "+ mbmi                   0.03178910\n",
      "\n",
      "        R2.adj Df     AIC      F Pr(>F)   ES.RDA\n",
      "+ sex 0.039926  1 -93.936 5.6161  0.024 0.039926\n"
     ]
    }
   ],
   "source": [
    "#continuous zscore with secondary variables\n",
    "table <- RDAanalysis(metrics[3], c(ctsName,secctsName), c(catName, seccatName), tp1)"
   ]
  },
  {
   "cell_type": "markdown",
   "metadata": {},
   "source": [
    "##### Timepoint 2"
   ]
  },
  {
   "cell_type": "code",
   "execution_count": 26,
   "metadata": {},
   "outputs": [
    {
     "data": {
      "text/html": [
       "<table>\n",
       "<caption>A data.frame: 6 × 56</caption>\n",
       "<thead>\n",
       "\t<tr><th></th><th scope=col>collection_device_id</th><th scope=col>observed_otus</th><th scope=col>pielou_e</th><th scope=col>shannon</th><th scope=col>time_point</th><th scope=col>age_years</th><th scope=col>days_exclusive_bf</th><th scope=col>cogcmp_yr2</th><th scope=col>langcmp_yr2</th><th scope=col>motorcmp_yr2</th><th scope=col>⋯</th><th scope=col>underwt_yr4</th><th scope=col>waste_yr4</th><th scope=col>stunting_yr4</th><th scope=col>underwt_yr5</th><th scope=col>waste_yr5</th><th scope=col>stunting_yr5</th><th scope=col>csection</th><th scope=col>age_wk40</th><th scope=col>income</th><th scope=col>mbmi</th></tr>\n",
       "\t<tr><th></th><th scope=col>&lt;fct&gt;</th><th scope=col>&lt;fct&gt;</th><th scope=col>&lt;fct&gt;</th><th scope=col>&lt;fct&gt;</th><th scope=col>&lt;dbl&gt;</th><th scope=col>&lt;dbl&gt;</th><th scope=col>&lt;dbl&gt;</th><th scope=col>&lt;dbl&gt;</th><th scope=col>&lt;dbl&gt;</th><th scope=col>&lt;dbl&gt;</th><th scope=col>⋯</th><th scope=col>&lt;fct&gt;</th><th scope=col>&lt;fct&gt;</th><th scope=col>&lt;fct&gt;</th><th scope=col>&lt;fct&gt;</th><th scope=col>&lt;fct&gt;</th><th scope=col>&lt;fct&gt;</th><th scope=col>&lt;fct&gt;</th><th scope=col>&lt;dbl&gt;</th><th scope=col>&lt;dbl&gt;</th><th scope=col>&lt;dbl&gt;</th></tr>\n",
       "</thead>\n",
       "<tbody>\n",
       "\t<tr><th scope=row>2</th><td>BVC-1473-10-13</td><td>341</td><td>0.405716480932438</td><td>3.41354751523856</td><td>2</td><td>2</td><td>121</td><td> 90</td><td> 86</td><td>88</td><td>⋯</td><td>Risk of Underweight</td><td>Control        </td><td>Stunting        </td><td>Risk of Underweight</td><td>Control        </td><td>Risk of Stunting</td><td>No </td><td>0.77</td><td> 7000</td><td>18.5</td></tr>\n",
       "\t<tr><th scope=row>5</th><td>BVC-1475-10-13</td><td>391</td><td>0.514270605443919</td><td>4.42839693600385</td><td>2</td><td>2</td><td>128</td><td> 85</td><td>100</td><td>97</td><td>⋯</td><td>Risk of Underweight</td><td>Control        </td><td>Stunting        </td><td>Risk of Underweight</td><td>Control        </td><td>Risk of Stunting</td><td>No </td><td>0.77</td><td>13000</td><td>18.9</td></tr>\n",
       "\t<tr><th scope=row>8</th><td>BVC-1480-10-13</td><td>332</td><td>0.500808939678085</td><td>4.194294617375  </td><td>2</td><td>2</td><td>116</td><td> 85</td><td> 86</td><td>85</td><td>⋯</td><td>Risk of Underweight</td><td>Risk of wasting</td><td>Risk of Stunting</td><td>Risk of Underweight</td><td>Risk of wasting</td><td>Control         </td><td>No </td><td>0.78</td><td> 7000</td><td>23.2</td></tr>\n",
       "\t<tr><th scope=row>11</th><td>BVC-1481-10-13</td><td>363</td><td>0.467869068773255</td><td>3.9786770290461 </td><td>2</td><td>2</td><td>170</td><td>100</td><td>106</td><td>94</td><td>⋯</td><td>Risk of Underweight</td><td>Risk of wasting</td><td>Risk of Stunting</td><td>Risk of Underweight</td><td>Risk of wasting</td><td>Risk of Stunting</td><td>No </td><td>0.77</td><td> 6000</td><td>18.3</td></tr>\n",
       "\t<tr><th scope=row>12</th><td>BVC-1487-10-13</td><td>353</td><td>0.468109647400268</td><td>3.96185741013554</td><td>2</td><td>2</td><td>148</td><td> 90</td><td>100</td><td>94</td><td>⋯</td><td>Underweight        </td><td>Wasting        </td><td>Risk of Stunting</td><td>Underweight        </td><td>Wasting        </td><td>Control         </td><td>Yes</td><td>0.77</td><td>14000</td><td>18.1</td></tr>\n",
       "\t<tr><th scope=row>15</th><td>BVC-1492-10-13</td><td>426</td><td>0.458473501169978</td><td>4.00463290128803</td><td>2</td><td>2</td><td>115</td><td>100</td><td>106</td><td>97</td><td>⋯</td><td>Risk of Underweight</td><td>Risk of wasting</td><td>Control         </td><td>Risk of Underweight</td><td>Risk of wasting</td><td>Control         </td><td>Yes</td><td>0.78</td><td>18000</td><td>22.8</td></tr>\n",
       "</tbody>\n",
       "</table>\n"
      ],
      "text/latex": [
       "A data.frame: 6 × 56\n",
       "\\begin{tabular}{r|lllllllllllllllllllll}\n",
       "  & collection\\_device\\_id & observed\\_otus & pielou\\_e & shannon & time\\_point & age\\_years & days\\_exclusive\\_bf & cogcmp\\_yr2 & langcmp\\_yr2 & motorcmp\\_yr2 & ⋯ & underwt\\_yr4 & waste\\_yr4 & stunting\\_yr4 & underwt\\_yr5 & waste\\_yr5 & stunting\\_yr5 & csection & age\\_wk40 & income & mbmi\\\\\n",
       "  & <fct> & <fct> & <fct> & <fct> & <dbl> & <dbl> & <dbl> & <dbl> & <dbl> & <dbl> & ⋯ & <fct> & <fct> & <fct> & <fct> & <fct> & <fct> & <fct> & <dbl> & <dbl> & <dbl>\\\\\n",
       "\\hline\n",
       "\t2 & BVC-1473-10-13 & 341 & 0.405716480932438 & 3.41354751523856 & 2 & 2 & 121 &  90 &  86 & 88 & ⋯ & Risk of Underweight & Control         & Stunting         & Risk of Underweight & Control         & Risk of Stunting & No  & 0.77 &  7000 & 18.5\\\\\n",
       "\t5 & BVC-1475-10-13 & 391 & 0.514270605443919 & 4.42839693600385 & 2 & 2 & 128 &  85 & 100 & 97 & ⋯ & Risk of Underweight & Control         & Stunting         & Risk of Underweight & Control         & Risk of Stunting & No  & 0.77 & 13000 & 18.9\\\\\n",
       "\t8 & BVC-1480-10-13 & 332 & 0.500808939678085 & 4.194294617375   & 2 & 2 & 116 &  85 &  86 & 85 & ⋯ & Risk of Underweight & Risk of wasting & Risk of Stunting & Risk of Underweight & Risk of wasting & Control          & No  & 0.78 &  7000 & 23.2\\\\\n",
       "\t11 & BVC-1481-10-13 & 363 & 0.467869068773255 & 3.9786770290461  & 2 & 2 & 170 & 100 & 106 & 94 & ⋯ & Risk of Underweight & Risk of wasting & Risk of Stunting & Risk of Underweight & Risk of wasting & Risk of Stunting & No  & 0.77 &  6000 & 18.3\\\\\n",
       "\t12 & BVC-1487-10-13 & 353 & 0.468109647400268 & 3.96185741013554 & 2 & 2 & 148 &  90 & 100 & 94 & ⋯ & Underweight         & Wasting         & Risk of Stunting & Underweight         & Wasting         & Control          & Yes & 0.77 & 14000 & 18.1\\\\\n",
       "\t15 & BVC-1492-10-13 & 426 & 0.458473501169978 & 4.00463290128803 & 2 & 2 & 115 & 100 & 106 & 97 & ⋯ & Risk of Underweight & Risk of wasting & Control          & Risk of Underweight & Risk of wasting & Control          & Yes & 0.78 & 18000 & 22.8\\\\\n",
       "\\end{tabular}\n"
      ],
      "text/markdown": [
       "\n",
       "A data.frame: 6 × 56\n",
       "\n",
       "| <!--/--> | collection_device_id &lt;fct&gt; | observed_otus &lt;fct&gt; | pielou_e &lt;fct&gt; | shannon &lt;fct&gt; | time_point &lt;dbl&gt; | age_years &lt;dbl&gt; | days_exclusive_bf &lt;dbl&gt; | cogcmp_yr2 &lt;dbl&gt; | langcmp_yr2 &lt;dbl&gt; | motorcmp_yr2 &lt;dbl&gt; | ⋯ ⋯ | underwt_yr4 &lt;fct&gt; | waste_yr4 &lt;fct&gt; | stunting_yr4 &lt;fct&gt; | underwt_yr5 &lt;fct&gt; | waste_yr5 &lt;fct&gt; | stunting_yr5 &lt;fct&gt; | csection &lt;fct&gt; | age_wk40 &lt;dbl&gt; | income &lt;dbl&gt; | mbmi &lt;dbl&gt; |\n",
       "|---|---|---|---|---|---|---|---|---|---|---|---|---|---|---|---|---|---|---|---|---|---|\n",
       "| 2 | BVC-1473-10-13 | 341 | 0.405716480932438 | 3.41354751523856 | 2 | 2 | 121 |  90 |  86 | 88 | ⋯ | Risk of Underweight | Control         | Stunting         | Risk of Underweight | Control         | Risk of Stunting | No  | 0.77 |  7000 | 18.5 |\n",
       "| 5 | BVC-1475-10-13 | 391 | 0.514270605443919 | 4.42839693600385 | 2 | 2 | 128 |  85 | 100 | 97 | ⋯ | Risk of Underweight | Control         | Stunting         | Risk of Underweight | Control         | Risk of Stunting | No  | 0.77 | 13000 | 18.9 |\n",
       "| 8 | BVC-1480-10-13 | 332 | 0.500808939678085 | 4.194294617375   | 2 | 2 | 116 |  85 |  86 | 85 | ⋯ | Risk of Underweight | Risk of wasting | Risk of Stunting | Risk of Underweight | Risk of wasting | Control          | No  | 0.78 |  7000 | 23.2 |\n",
       "| 11 | BVC-1481-10-13 | 363 | 0.467869068773255 | 3.9786770290461  | 2 | 2 | 170 | 100 | 106 | 94 | ⋯ | Risk of Underweight | Risk of wasting | Risk of Stunting | Risk of Underweight | Risk of wasting | Risk of Stunting | No  | 0.77 |  6000 | 18.3 |\n",
       "| 12 | BVC-1487-10-13 | 353 | 0.468109647400268 | 3.96185741013554 | 2 | 2 | 148 |  90 | 100 | 94 | ⋯ | Underweight         | Wasting         | Risk of Stunting | Underweight         | Wasting         | Control          | Yes | 0.77 | 14000 | 18.1 |\n",
       "| 15 | BVC-1492-10-13 | 426 | 0.458473501169978 | 4.00463290128803 | 2 | 2 | 115 | 100 | 106 | 97 | ⋯ | Risk of Underweight | Risk of wasting | Control          | Risk of Underweight | Risk of wasting | Control          | Yes | 0.78 | 18000 | 22.8 |\n",
       "\n"
      ],
      "text/plain": [
       "   collection_device_id observed_otus pielou_e          shannon         \n",
       "2  BVC-1473-10-13       341           0.405716480932438 3.41354751523856\n",
       "5  BVC-1475-10-13       391           0.514270605443919 4.42839693600385\n",
       "8  BVC-1480-10-13       332           0.500808939678085 4.194294617375  \n",
       "11 BVC-1481-10-13       363           0.467869068773255 3.9786770290461 \n",
       "12 BVC-1487-10-13       353           0.468109647400268 3.96185741013554\n",
       "15 BVC-1492-10-13       426           0.458473501169978 4.00463290128803\n",
       "   time_point age_years days_exclusive_bf cogcmp_yr2 langcmp_yr2 motorcmp_yr2 ⋯\n",
       "2  2          2         121                90         86         88           ⋯\n",
       "5  2          2         128                85        100         97           ⋯\n",
       "8  2          2         116                85         86         85           ⋯\n",
       "11 2          2         170               100        106         94           ⋯\n",
       "12 2          2         148                90        100         94           ⋯\n",
       "15 2          2         115               100        106         97           ⋯\n",
       "   underwt_yr4         waste_yr4       stunting_yr4     underwt_yr5        \n",
       "2  Risk of Underweight Control         Stunting         Risk of Underweight\n",
       "5  Risk of Underweight Control         Stunting         Risk of Underweight\n",
       "8  Risk of Underweight Risk of wasting Risk of Stunting Risk of Underweight\n",
       "11 Risk of Underweight Risk of wasting Risk of Stunting Risk of Underweight\n",
       "12 Underweight         Wasting         Risk of Stunting Underweight        \n",
       "15 Risk of Underweight Risk of wasting Control          Risk of Underweight\n",
       "   waste_yr5       stunting_yr5     csection age_wk40 income mbmi\n",
       "2  Control         Risk of Stunting No       0.77      7000  18.5\n",
       "5  Control         Risk of Stunting No       0.77     13000  18.9\n",
       "8  Risk of wasting Control          No       0.78      7000  23.2\n",
       "11 Risk of wasting Risk of Stunting No       0.77      6000  18.3\n",
       "12 Wasting         Control          Yes      0.77     14000  18.1\n",
       "15 Risk of wasting Control          Yes      0.78     18000  22.8"
      ]
     },
     "metadata": {},
     "output_type": "display_data"
    }
   ],
   "source": [
    "tp2 <- data[data$time_point==2, ]\n",
    "head(tp2)"
   ]
  },
  {
   "cell_type": "code",
   "execution_count": 27,
   "metadata": {},
   "outputs": [
    {
     "name": "stdout",
     "output_type": "stream",
     "text": [
      "Step: R2.adj= 0 \n",
      "Call: alpha ~ 1 \n",
      " \n",
      "                         R2.adjusted\n",
      "<All variables>          0.073056779\n",
      "+ cogcmp_yr2_quartile    0.047291921\n",
      "+ soemocmp_yr2_quartile  0.046290808\n",
      "+ recent_antibiotic_use  0.029182036\n",
      "+ langcmp_yr2_quartile   0.023130472\n",
      "+ underwt_yr2            0.017409896\n",
      "+ sex                    0.008263806\n",
      "+ stunting_yr2           0.007135362\n",
      "<none>                   0.000000000\n",
      "+ days_exclusive_bf     -0.005164772\n",
      "+ motorcmp_yr2_quartile -0.011204849\n",
      "+ waste_yr2             -0.011441063\n",
      "\n",
      "                      Df     AIC      F Pr(>F)  \n",
      "+ cogcmp_yr2_quartile  4 -62.288 2.4023  0.042 *\n",
      "---\n",
      "Signif. codes:  0 ‘***’ 0.001 ‘**’ 0.01 ‘*’ 0.05 ‘.’ 0.1 ‘ ’ 1\n",
      "\n",
      "Step: R2.adj= 0.04729192 \n",
      "Call: alpha ~ cogcmp_yr2_quartile \n",
      " \n",
      "                        R2.adjusted\n",
      "+ recent_antibiotic_use  0.08638016\n",
      "<All variables>          0.07305678\n",
      "+ soemocmp_yr2_quartile  0.06339862\n",
      "+ sex                    0.05331686\n",
      "+ stunting_yr2           0.05292808\n",
      "+ underwt_yr2            0.05027667\n",
      "+ days_exclusive_bf      0.04873679\n",
      "<none>                   0.04729192\n",
      "+ motorcmp_yr2_quartile  0.04517817\n",
      "+ langcmp_yr2_quartile   0.03827024\n",
      "+ waste_yr2              0.03497046\n",
      "\n",
      "                        R2.adj Df     AIC      F Pr(>F)   ES.RDA\n",
      "+ cogcmp_yr2_quartile 0.047292  4 -62.288 2.4023  0.042 0.047292\n"
     ]
    }
   ],
   "source": [
    "#categorical zscore\n",
    "ctsName <- c(\"days_exclusive_bf\") \n",
    "catName <- c(\"sex\", \"recent_antibiotic_use\", \"underwt_yr2\",\t\"waste_yr2\", \"stunting_yr2\",\n",
    "             \"cogcmp_yr2_quartile\", \"langcmp_yr2_quartile\", \n",
    "             \"motorcmp_yr2_quartile\", \"soemocmp_yr2_quartile\")\n",
    "table <- RDAanalysis(metrics[3], ctsName, catName, tp2)"
   ]
  },
  {
   "cell_type": "code",
   "execution_count": 28,
   "metadata": {},
   "outputs": [
    {
     "name": "stdout",
     "output_type": "stream",
     "text": [
      "Step: R2.adj= 0 \n",
      "Call: alpha ~ 1 \n",
      " \n",
      "                         R2.adjusted\n",
      "+ cogcmp_yr2_quartile    0.047291921\n",
      "+ soemocmp_yr2_quartile  0.046290808\n",
      "<All variables>          0.041597614\n",
      "+ recent_antibiotic_use  0.029182036\n",
      "+ langcmp_yr2_quartile   0.023130472\n",
      "+ underwt_yr2            0.017409896\n",
      "+ sex                    0.008263806\n",
      "+ stunting_yr2           0.007135362\n",
      "<none>                   0.000000000\n",
      "+ income                -0.003890109\n",
      "+ mbmi                  -0.004350902\n",
      "+ days_exclusive_bf     -0.005164772\n",
      "+ csection              -0.008394127\n",
      "+ age_wk40              -0.008564289\n",
      "+ motorcmp_yr2_quartile -0.011204849\n",
      "+ waste_yr2             -0.011441063\n",
      "\n",
      "No anova"
     ]
    }
   ],
   "source": [
    "#categorical zscore with secondary variables\n",
    "table <- RDAanalysis(metrics[3], c(ctsName,secctsName), c(catName, seccatName), tp2)"
   ]
  },
  {
   "cell_type": "code",
   "execution_count": 29,
   "metadata": {},
   "outputs": [
    {
     "name": "stdout",
     "output_type": "stream",
     "text": [
      "Step: R2.adj= 0 \n",
      "Call: alpha ~ 1 \n",
      " \n",
      "                         R2.adjusted\n",
      "<All variables>          0.063834051\n",
      "+ recent_antibiotic_use  0.029182036\n",
      "+ haz_yr2                0.028129916\n",
      "+ waz_yr2                0.018275639\n",
      "+ sex                    0.008263806\n",
      "+ whz_yr2                0.002784433\n",
      "<none>                   0.000000000\n",
      "+ days_exclusive_bf     -0.005164772\n",
      "+ motorcmp_yr2          -0.006491596\n",
      "+ soemocmp_yr2          -0.006987593\n",
      "+ cogcmp_yr2            -0.007048405\n",
      "+ langcmp_yr2           -0.007557537\n",
      "\n",
      "                        Df   AIC      F Pr(>F)  \n",
      "+ recent_antibiotic_use  3 -61.1 2.1322  0.086 .\n",
      "---\n",
      "Signif. codes:  0 ‘***’ 0.001 ‘**’ 0.01 ‘*’ 0.05 ‘.’ 0.1 ‘ ’ 1\n",
      "\n",
      "No anova"
     ]
    }
   ],
   "source": [
    "#continuous zscore\n",
    "ctsName <- c(\"days_exclusive_bf\", \"cogcmp_yr2\", \n",
    "             \"langcmp_yr2\", \"motorcmp_yr2\",\"soemocmp_yr2\",\n",
    "             \"haz_yr2\", \"waz_yr2\",\"whz_yr2\") \n",
    "catName <- c(\"sex\",\"recent_antibiotic_use\")\n",
    "table <- RDAanalysis(metrics[3], ctsName, catName, tp2)"
   ]
  },
  {
   "cell_type": "code",
   "execution_count": 30,
   "metadata": {},
   "outputs": [
    {
     "name": "stdout",
     "output_type": "stream",
     "text": [
      "Step: R2.adj= 0 \n",
      "Call: alpha ~ 1 \n",
      " \n",
      "                         R2.adjusted\n",
      "<All variables>          0.036355128\n",
      "+ recent_antibiotic_use  0.029182036\n",
      "+ haz_yr2                0.028129916\n",
      "+ waz_yr2                0.018275639\n",
      "+ sex                    0.008263806\n",
      "+ whz_yr2                0.002784433\n",
      "<none>                   0.000000000\n",
      "+ income                -0.003890109\n",
      "+ mbmi                  -0.004350902\n",
      "+ days_exclusive_bf     -0.005164772\n",
      "+ motorcmp_yr2          -0.006491596\n",
      "+ soemocmp_yr2          -0.006987593\n",
      "+ cogcmp_yr2            -0.007048405\n",
      "+ langcmp_yr2           -0.007557537\n",
      "+ csection              -0.008394127\n",
      "+ age_wk40              -0.008564289\n",
      "\n",
      "                        Df   AIC      F Pr(>F)\n",
      "+ recent_antibiotic_use  3 -61.1 2.1322   0.11\n",
      "\n",
      "No anova"
     ]
    }
   ],
   "source": [
    "#continuous zscore with secondary variables\n",
    "table <- RDAanalysis(metrics[3], c(ctsName,secctsName), c(catName, seccatName), tp2)"
   ]
  },
  {
   "cell_type": "markdown",
   "metadata": {},
   "source": [
    "##### Timepoint 3"
   ]
  },
  {
   "cell_type": "code",
   "execution_count": 31,
   "metadata": {},
   "outputs": [
    {
     "data": {
      "text/html": [
       "<table>\n",
       "<caption>A data.frame: 6 × 56</caption>\n",
       "<thead>\n",
       "\t<tr><th></th><th scope=col>collection_device_id</th><th scope=col>observed_otus</th><th scope=col>pielou_e</th><th scope=col>shannon</th><th scope=col>time_point</th><th scope=col>age_years</th><th scope=col>days_exclusive_bf</th><th scope=col>cogcmp_yr2</th><th scope=col>langcmp_yr2</th><th scope=col>motorcmp_yr2</th><th scope=col>⋯</th><th scope=col>underwt_yr4</th><th scope=col>waste_yr4</th><th scope=col>stunting_yr4</th><th scope=col>underwt_yr5</th><th scope=col>waste_yr5</th><th scope=col>stunting_yr5</th><th scope=col>csection</th><th scope=col>age_wk40</th><th scope=col>income</th><th scope=col>mbmi</th></tr>\n",
       "\t<tr><th></th><th scope=col>&lt;fct&gt;</th><th scope=col>&lt;fct&gt;</th><th scope=col>&lt;fct&gt;</th><th scope=col>&lt;fct&gt;</th><th scope=col>&lt;dbl&gt;</th><th scope=col>&lt;dbl&gt;</th><th scope=col>&lt;dbl&gt;</th><th scope=col>&lt;dbl&gt;</th><th scope=col>&lt;dbl&gt;</th><th scope=col>&lt;dbl&gt;</th><th scope=col>⋯</th><th scope=col>&lt;fct&gt;</th><th scope=col>&lt;fct&gt;</th><th scope=col>&lt;fct&gt;</th><th scope=col>&lt;fct&gt;</th><th scope=col>&lt;fct&gt;</th><th scope=col>&lt;fct&gt;</th><th scope=col>&lt;fct&gt;</th><th scope=col>&lt;dbl&gt;</th><th scope=col>&lt;dbl&gt;</th><th scope=col>&lt;dbl&gt;</th></tr>\n",
       "</thead>\n",
       "<tbody>\n",
       "\t<tr><th scope=row>3</th><td>BVC-1473-10-36</td><td>408</td><td>0.563130933941578</td><td>4.88371098236301</td><td>3</td><td>3</td><td>121</td><td>90</td><td> 86</td><td>88</td><td>⋯</td><td>Risk of Underweight</td><td>Control        </td><td>Stunting        </td><td>Risk of Underweight</td><td>Control        </td><td>Risk of Stunting</td><td>No </td><td>0.77</td><td> 7000</td><td>18.5</td></tr>\n",
       "\t<tr><th scope=row>6</th><td>BVC-1475-10-36</td><td>555</td><td>0.525784193790572</td><td>4.79322955997679</td><td>3</td><td>3</td><td>128</td><td>85</td><td>100</td><td>97</td><td>⋯</td><td>Risk of Underweight</td><td>Control        </td><td>Stunting        </td><td>Risk of Underweight</td><td>Control        </td><td>Risk of Stunting</td><td>No </td><td>0.77</td><td>13000</td><td>18.9</td></tr>\n",
       "\t<tr><th scope=row>9</th><td>BVC-1480-10-36</td><td>494</td><td>0.407409773116689</td><td>3.64565226358472</td><td>3</td><td>3</td><td>116</td><td>85</td><td> 86</td><td>85</td><td>⋯</td><td>Risk of Underweight</td><td>Risk of wasting</td><td>Risk of Stunting</td><td>Risk of Underweight</td><td>Risk of wasting</td><td>Control         </td><td>No </td><td>0.78</td><td> 7000</td><td>23.2</td></tr>\n",
       "\t<tr><th scope=row>13</th><td>BVC-1487-10-36</td><td>493</td><td>0.525591323015675</td><td>4.70164766092428</td><td>3</td><td>3</td><td>148</td><td>90</td><td>100</td><td>94</td><td>⋯</td><td>Underweight        </td><td>Wasting        </td><td>Risk of Stunting</td><td>Underweight        </td><td>Wasting        </td><td>Control         </td><td>Yes</td><td>0.77</td><td>14000</td><td>18.1</td></tr>\n",
       "\t<tr><th scope=row>18</th><td>BVC-1499-10-36</td><td>371</td><td>0.437254773276483</td><td>3.73208989965668</td><td>3</td><td>3</td><td>186</td><td>85</td><td> 89</td><td>88</td><td>⋯</td><td>Risk of Underweight</td><td>Risk of wasting</td><td>Risk of Stunting</td><td>Risk of Underweight</td><td>Control        </td><td>Stunting        </td><td>No </td><td>0.77</td><td> 5000</td><td>18.8</td></tr>\n",
       "\t<tr><th scope=row>21</th><td>BVC-1500-10-36</td><td>328</td><td>0.357510449759484</td><td>2.98791217605929</td><td>3</td><td>3</td><td>168</td><td>80</td><td> 94</td><td>85</td><td>⋯</td><td>Risk of Underweight</td><td>Control        </td><td>Risk of Stunting</td><td>Risk of Underweight</td><td>Risk of wasting</td><td>Risk of Stunting</td><td>No </td><td>0.77</td><td> 4800</td><td>20.0</td></tr>\n",
       "</tbody>\n",
       "</table>\n"
      ],
      "text/latex": [
       "A data.frame: 6 × 56\n",
       "\\begin{tabular}{r|lllllllllllllllllllll}\n",
       "  & collection\\_device\\_id & observed\\_otus & pielou\\_e & shannon & time\\_point & age\\_years & days\\_exclusive\\_bf & cogcmp\\_yr2 & langcmp\\_yr2 & motorcmp\\_yr2 & ⋯ & underwt\\_yr4 & waste\\_yr4 & stunting\\_yr4 & underwt\\_yr5 & waste\\_yr5 & stunting\\_yr5 & csection & age\\_wk40 & income & mbmi\\\\\n",
       "  & <fct> & <fct> & <fct> & <fct> & <dbl> & <dbl> & <dbl> & <dbl> & <dbl> & <dbl> & ⋯ & <fct> & <fct> & <fct> & <fct> & <fct> & <fct> & <fct> & <dbl> & <dbl> & <dbl>\\\\\n",
       "\\hline\n",
       "\t3 & BVC-1473-10-36 & 408 & 0.563130933941578 & 4.88371098236301 & 3 & 3 & 121 & 90 &  86 & 88 & ⋯ & Risk of Underweight & Control         & Stunting         & Risk of Underweight & Control         & Risk of Stunting & No  & 0.77 &  7000 & 18.5\\\\\n",
       "\t6 & BVC-1475-10-36 & 555 & 0.525784193790572 & 4.79322955997679 & 3 & 3 & 128 & 85 & 100 & 97 & ⋯ & Risk of Underweight & Control         & Stunting         & Risk of Underweight & Control         & Risk of Stunting & No  & 0.77 & 13000 & 18.9\\\\\n",
       "\t9 & BVC-1480-10-36 & 494 & 0.407409773116689 & 3.64565226358472 & 3 & 3 & 116 & 85 &  86 & 85 & ⋯ & Risk of Underweight & Risk of wasting & Risk of Stunting & Risk of Underweight & Risk of wasting & Control          & No  & 0.78 &  7000 & 23.2\\\\\n",
       "\t13 & BVC-1487-10-36 & 493 & 0.525591323015675 & 4.70164766092428 & 3 & 3 & 148 & 90 & 100 & 94 & ⋯ & Underweight         & Wasting         & Risk of Stunting & Underweight         & Wasting         & Control          & Yes & 0.77 & 14000 & 18.1\\\\\n",
       "\t18 & BVC-1499-10-36 & 371 & 0.437254773276483 & 3.73208989965668 & 3 & 3 & 186 & 85 &  89 & 88 & ⋯ & Risk of Underweight & Risk of wasting & Risk of Stunting & Risk of Underweight & Control         & Stunting         & No  & 0.77 &  5000 & 18.8\\\\\n",
       "\t21 & BVC-1500-10-36 & 328 & 0.357510449759484 & 2.98791217605929 & 3 & 3 & 168 & 80 &  94 & 85 & ⋯ & Risk of Underweight & Control         & Risk of Stunting & Risk of Underweight & Risk of wasting & Risk of Stunting & No  & 0.77 &  4800 & 20.0\\\\\n",
       "\\end{tabular}\n"
      ],
      "text/markdown": [
       "\n",
       "A data.frame: 6 × 56\n",
       "\n",
       "| <!--/--> | collection_device_id &lt;fct&gt; | observed_otus &lt;fct&gt; | pielou_e &lt;fct&gt; | shannon &lt;fct&gt; | time_point &lt;dbl&gt; | age_years &lt;dbl&gt; | days_exclusive_bf &lt;dbl&gt; | cogcmp_yr2 &lt;dbl&gt; | langcmp_yr2 &lt;dbl&gt; | motorcmp_yr2 &lt;dbl&gt; | ⋯ ⋯ | underwt_yr4 &lt;fct&gt; | waste_yr4 &lt;fct&gt; | stunting_yr4 &lt;fct&gt; | underwt_yr5 &lt;fct&gt; | waste_yr5 &lt;fct&gt; | stunting_yr5 &lt;fct&gt; | csection &lt;fct&gt; | age_wk40 &lt;dbl&gt; | income &lt;dbl&gt; | mbmi &lt;dbl&gt; |\n",
       "|---|---|---|---|---|---|---|---|---|---|---|---|---|---|---|---|---|---|---|---|---|---|\n",
       "| 3 | BVC-1473-10-36 | 408 | 0.563130933941578 | 4.88371098236301 | 3 | 3 | 121 | 90 |  86 | 88 | ⋯ | Risk of Underweight | Control         | Stunting         | Risk of Underweight | Control         | Risk of Stunting | No  | 0.77 |  7000 | 18.5 |\n",
       "| 6 | BVC-1475-10-36 | 555 | 0.525784193790572 | 4.79322955997679 | 3 | 3 | 128 | 85 | 100 | 97 | ⋯ | Risk of Underweight | Control         | Stunting         | Risk of Underweight | Control         | Risk of Stunting | No  | 0.77 | 13000 | 18.9 |\n",
       "| 9 | BVC-1480-10-36 | 494 | 0.407409773116689 | 3.64565226358472 | 3 | 3 | 116 | 85 |  86 | 85 | ⋯ | Risk of Underweight | Risk of wasting | Risk of Stunting | Risk of Underweight | Risk of wasting | Control          | No  | 0.78 |  7000 | 23.2 |\n",
       "| 13 | BVC-1487-10-36 | 493 | 0.525591323015675 | 4.70164766092428 | 3 | 3 | 148 | 90 | 100 | 94 | ⋯ | Underweight         | Wasting         | Risk of Stunting | Underweight         | Wasting         | Control          | Yes | 0.77 | 14000 | 18.1 |\n",
       "| 18 | BVC-1499-10-36 | 371 | 0.437254773276483 | 3.73208989965668 | 3 | 3 | 186 | 85 |  89 | 88 | ⋯ | Risk of Underweight | Risk of wasting | Risk of Stunting | Risk of Underweight | Control         | Stunting         | No  | 0.77 |  5000 | 18.8 |\n",
       "| 21 | BVC-1500-10-36 | 328 | 0.357510449759484 | 2.98791217605929 | 3 | 3 | 168 | 80 |  94 | 85 | ⋯ | Risk of Underweight | Control         | Risk of Stunting | Risk of Underweight | Risk of wasting | Risk of Stunting | No  | 0.77 |  4800 | 20.0 |\n",
       "\n"
      ],
      "text/plain": [
       "   collection_device_id observed_otus pielou_e          shannon         \n",
       "3  BVC-1473-10-36       408           0.563130933941578 4.88371098236301\n",
       "6  BVC-1475-10-36       555           0.525784193790572 4.79322955997679\n",
       "9  BVC-1480-10-36       494           0.407409773116689 3.64565226358472\n",
       "13 BVC-1487-10-36       493           0.525591323015675 4.70164766092428\n",
       "18 BVC-1499-10-36       371           0.437254773276483 3.73208989965668\n",
       "21 BVC-1500-10-36       328           0.357510449759484 2.98791217605929\n",
       "   time_point age_years days_exclusive_bf cogcmp_yr2 langcmp_yr2 motorcmp_yr2 ⋯\n",
       "3  3          3         121               90          86         88           ⋯\n",
       "6  3          3         128               85         100         97           ⋯\n",
       "9  3          3         116               85          86         85           ⋯\n",
       "13 3          3         148               90         100         94           ⋯\n",
       "18 3          3         186               85          89         88           ⋯\n",
       "21 3          3         168               80          94         85           ⋯\n",
       "   underwt_yr4         waste_yr4       stunting_yr4     underwt_yr5        \n",
       "3  Risk of Underweight Control         Stunting         Risk of Underweight\n",
       "6  Risk of Underweight Control         Stunting         Risk of Underweight\n",
       "9  Risk of Underweight Risk of wasting Risk of Stunting Risk of Underweight\n",
       "13 Underweight         Wasting         Risk of Stunting Underweight        \n",
       "18 Risk of Underweight Risk of wasting Risk of Stunting Risk of Underweight\n",
       "21 Risk of Underweight Control         Risk of Stunting Risk of Underweight\n",
       "   waste_yr5       stunting_yr5     csection age_wk40 income mbmi\n",
       "3  Control         Risk of Stunting No       0.77      7000  18.5\n",
       "6  Control         Risk of Stunting No       0.77     13000  18.9\n",
       "9  Risk of wasting Control          No       0.78      7000  23.2\n",
       "13 Wasting         Control          Yes      0.77     14000  18.1\n",
       "18 Control         Stunting         No       0.77      5000  18.8\n",
       "21 Risk of wasting Risk of Stunting No       0.77      4800  20.0"
      ]
     },
     "metadata": {},
     "output_type": "display_data"
    }
   ],
   "source": [
    "tp3 <- data[data$time_point==3, ]\n",
    "head(tp3)"
   ]
  },
  {
   "cell_type": "code",
   "execution_count": 32,
   "metadata": {},
   "outputs": [
    {
     "name": "stdout",
     "output_type": "stream",
     "text": [
      "Step: R2.adj= 0 \n",
      "Call: alpha ~ 1 \n",
      " \n",
      "                      R2.adjusted\n",
      "+ days_exclusive_bf  0.0009803476\n",
      "<none>               0.0000000000\n",
      "+ sex               -0.0018527941\n",
      "+ ageyr3_mulcog     -0.0091492262\n",
      "+ waste_yr3         -0.0094364318\n",
      "+ underwt_yr3       -0.0110866515\n",
      "+ stunting_yr3      -0.0157703880\n",
      "<All variables>     -0.0279819838\n",
      "\n",
      "No anova"
     ]
    }
   ],
   "source": [
    "#categorical zscore\n",
    "#remove recent_antibiotic_use because not collected for all samples\n",
    "ctsName <- c(\"days_exclusive_bf\", \"ageyr3_mulcog\") \n",
    "catName <- c(\"sex\",\"underwt_yr3\", \"waste_yr3\", \"stunting_yr3\")\n",
    "table <- RDAanalysis(metrics[3], ctsName, catName, tp3)"
   ]
  },
  {
   "cell_type": "code",
   "execution_count": 33,
   "metadata": {},
   "outputs": [
    {
     "name": "stdout",
     "output_type": "stream",
     "text": [
      "Step: R2.adj= 0 \n",
      "Call: alpha ~ 1 \n",
      " \n",
      "                      R2.adjusted\n",
      "+ days_exclusive_bf  0.0009803476\n",
      "<none>               0.0000000000\n",
      "+ mbmi              -0.0008138014\n",
      "+ sex               -0.0018527941\n",
      "+ csection          -0.0060733339\n",
      "+ age_wk40          -0.0061971820\n",
      "+ income            -0.0088503507\n",
      "+ ageyr3_mulcog     -0.0091492262\n",
      "+ waste_yr3         -0.0094364318\n",
      "+ underwt_yr3       -0.0110866515\n",
      "+ stunting_yr3      -0.0157703880\n",
      "<All variables>     -0.0554403236\n",
      "\n",
      "No anova"
     ]
    }
   ],
   "source": [
    "#categorical zscore with secondary variables\n",
    "table <- RDAanalysis(metrics[3], c(ctsName,secctsName), c(catName, seccatName), tp3)"
   ]
  },
  {
   "cell_type": "code",
   "execution_count": 34,
   "metadata": {},
   "outputs": [
    {
     "name": "stdout",
     "output_type": "stream",
     "text": [
      "Step: R2.adj= 0 \n",
      "Call: alpha ~ 1 \n",
      " \n",
      "                      R2.adjusted\n",
      "+ haz_yr3            0.0359402895\n",
      "<All variables>      0.0277699955\n",
      "+ waz_yr3            0.0207859555\n",
      "+ sex                0.0082638057\n",
      "<none>               0.0000000000\n",
      "+ whz_yr3           -0.0004647957\n",
      "+ days_exclusive_bf -0.0051647715\n",
      "+ ageyr3_mulcog     -0.0089278675\n",
      "\n",
      "No anova"
     ]
    }
   ],
   "source": [
    "#continuous zscore\n",
    "ctsName <- c(\"days_exclusive_bf\", \"ageyr3_mulcog\", \"haz_yr3\", \"waz_yr3\", \"whz_yr3\") \n",
    "catName <- c(\"sex\")\n",
    "table <- RDAanalysis(metrics[3], ctsName, catName, tp2)"
   ]
  },
  {
   "cell_type": "code",
   "execution_count": 35,
   "metadata": {},
   "outputs": [
    {
     "name": "stdout",
     "output_type": "stream",
     "text": [
      "Step: R2.adj= 0 \n",
      "Call: alpha ~ 1 \n",
      " \n",
      "                      R2.adjusted\n",
      "+ haz_yr3            0.0359402895\n",
      "+ waz_yr3            0.0207859555\n",
      "+ sex                0.0082638057\n",
      "<All variables>      0.0029471871\n",
      "<none>               0.0000000000\n",
      "+ whz_yr3           -0.0004647957\n",
      "+ income            -0.0038901090\n",
      "+ mbmi              -0.0043509021\n",
      "+ days_exclusive_bf -0.0051647715\n",
      "+ csection          -0.0083941266\n",
      "+ age_wk40          -0.0085642888\n",
      "+ ageyr3_mulcog     -0.0089278675\n",
      "\n",
      "No anova"
     ]
    }
   ],
   "source": [
    "#continuous zscore with secondary variables\n",
    "table <- RDAanalysis(metrics[3], c(ctsName,secctsName), c(catName, seccatName), tp2)"
   ]
  },
  {
   "cell_type": "code",
   "execution_count": 36,
   "metadata": {},
   "outputs": [],
   "source": [
    "#save data with selected variables\n",
    "write.csv(data, \"MetaData.csv\", row.names = FALSE)"
   ]
  }
 ],
 "metadata": {
  "kernelspec": {
   "display_name": "R",
   "language": "R",
   "name": "ir"
  },
  "language_info": {
   "codemirror_mode": "r",
   "file_extension": ".r",
   "mimetype": "text/x-r-source",
   "name": "R",
   "pygments_lexer": "r",
   "version": "3.6.1"
  }
 },
 "nbformat": 4,
 "nbformat_minor": 2
}
