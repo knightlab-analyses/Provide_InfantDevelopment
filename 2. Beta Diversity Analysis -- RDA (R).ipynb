{
 "cells": [
  {
   "cell_type": "markdown",
   "metadata": {},
   "source": [
    "#### This notebook is to perform redundancy analysis for alpha-diversity"
   ]
  },
  {
   "cell_type": "code",
   "execution_count": 1,
   "metadata": {},
   "outputs": [
    {
     "name": "stderr",
     "output_type": "stream",
     "text": [
      "Loading required package: permute\n",
      "\n",
      "Loading required package: lattice\n",
      "\n",
      "This is vegan 2.5-6\n",
      "\n"
     ]
    }
   ],
   "source": [
    "library(ggplot2)\n",
    "library(vegan)"
   ]
  },
  {
   "cell_type": "code",
   "execution_count": 2,
   "metadata": {},
   "outputs": [
    {
     "data": {
      "text/html": [
       "<table>\n",
       "<caption>A data.frame: 6 × 56</caption>\n",
       "<thead>\n",
       "\t<tr><th></th><th scope=col>collection_device_id</th><th scope=col>observed_otus</th><th scope=col>pielou_e</th><th scope=col>shannon</th><th scope=col>time_point</th><th scope=col>age_years</th><th scope=col>days_exclusive_bf</th><th scope=col>cogcmp_yr2</th><th scope=col>langcmp_yr2</th><th scope=col>motorcmp_yr2</th><th scope=col>⋯</th><th scope=col>underwt_yr4</th><th scope=col>waste_yr4</th><th scope=col>stunting_yr4</th><th scope=col>underwt_yr5</th><th scope=col>waste_yr5</th><th scope=col>stunting_yr5</th><th scope=col>csection</th><th scope=col>age_wk40</th><th scope=col>income</th><th scope=col>mbmi</th></tr>\n",
       "\t<tr><th></th><th scope=col>&lt;fct&gt;</th><th scope=col>&lt;int&gt;</th><th scope=col>&lt;dbl&gt;</th><th scope=col>&lt;dbl&gt;</th><th scope=col>&lt;int&gt;</th><th scope=col>&lt;dbl&gt;</th><th scope=col>&lt;int&gt;</th><th scope=col>&lt;int&gt;</th><th scope=col>&lt;int&gt;</th><th scope=col>&lt;int&gt;</th><th scope=col>⋯</th><th scope=col>&lt;fct&gt;</th><th scope=col>&lt;fct&gt;</th><th scope=col>&lt;fct&gt;</th><th scope=col>&lt;fct&gt;</th><th scope=col>&lt;fct&gt;</th><th scope=col>&lt;fct&gt;</th><th scope=col>&lt;fct&gt;</th><th scope=col>&lt;dbl&gt;</th><th scope=col>&lt;int&gt;</th><th scope=col>&lt;dbl&gt;</th></tr>\n",
       "</thead>\n",
       "<tbody>\n",
       "\t<tr><th scope=row>1</th><td>BVC-1473-10-10</td><td>295</td><td>0.2786473</td><td>2.286182</td><td>1</td><td>0.75</td><td>121</td><td>90</td><td> 86</td><td>88</td><td>⋯</td><td>Risk of Underweight</td><td>Control</td><td>Stunting</td><td>Risk of Underweight</td><td>Control</td><td>Risk of Stunting</td><td>No</td><td>0.77</td><td> 7000</td><td>18.5</td></tr>\n",
       "\t<tr><th scope=row>2</th><td>BVC-1473-10-13</td><td>341</td><td>0.4057165</td><td>3.413548</td><td>2</td><td>2.00</td><td>121</td><td>90</td><td> 86</td><td>88</td><td>⋯</td><td>Risk of Underweight</td><td>Control</td><td>Stunting</td><td>Risk of Underweight</td><td>Control</td><td>Risk of Stunting</td><td>No</td><td>0.77</td><td> 7000</td><td>18.5</td></tr>\n",
       "\t<tr><th scope=row>3</th><td>BVC-1473-10-36</td><td>408</td><td>0.5631309</td><td>4.883711</td><td>3</td><td>3.00</td><td>121</td><td>90</td><td> 86</td><td>88</td><td>⋯</td><td>Risk of Underweight</td><td>Control</td><td>Stunting</td><td>Risk of Underweight</td><td>Control</td><td>Risk of Stunting</td><td>No</td><td>0.77</td><td> 7000</td><td>18.5</td></tr>\n",
       "\t<tr><th scope=row>4</th><td>BVC-1475-10-10</td><td>294</td><td>0.2419217</td><td>1.983678</td><td>1</td><td>0.75</td><td>128</td><td>85</td><td>100</td><td>97</td><td>⋯</td><td>Risk of Underweight</td><td>Control</td><td>Stunting</td><td>Risk of Underweight</td><td>Control</td><td>Risk of Stunting</td><td>No</td><td>0.77</td><td>13000</td><td>18.9</td></tr>\n",
       "\t<tr><th scope=row>5</th><td>BVC-1475-10-13</td><td>391</td><td>0.5142706</td><td>4.428397</td><td>2</td><td>2.00</td><td>128</td><td>85</td><td>100</td><td>97</td><td>⋯</td><td>Risk of Underweight</td><td>Control</td><td>Stunting</td><td>Risk of Underweight</td><td>Control</td><td>Risk of Stunting</td><td>No</td><td>0.77</td><td>13000</td><td>18.9</td></tr>\n",
       "\t<tr><th scope=row>6</th><td>BVC-1475-10-36</td><td>555</td><td>0.5257842</td><td>4.793230</td><td>3</td><td>3.00</td><td>128</td><td>85</td><td>100</td><td>97</td><td>⋯</td><td>Risk of Underweight</td><td>Control</td><td>Stunting</td><td>Risk of Underweight</td><td>Control</td><td>Risk of Stunting</td><td>No</td><td>0.77</td><td>13000</td><td>18.9</td></tr>\n",
       "</tbody>\n",
       "</table>\n"
      ],
      "text/latex": [
       "A data.frame: 6 × 56\n",
       "\\begin{tabular}{r|lllllllllllllllllllll}\n",
       "  & collection\\_device\\_id & observed\\_otus & pielou\\_e & shannon & time\\_point & age\\_years & days\\_exclusive\\_bf & cogcmp\\_yr2 & langcmp\\_yr2 & motorcmp\\_yr2 & ⋯ & underwt\\_yr4 & waste\\_yr4 & stunting\\_yr4 & underwt\\_yr5 & waste\\_yr5 & stunting\\_yr5 & csection & age\\_wk40 & income & mbmi\\\\\n",
       "  & <fct> & <int> & <dbl> & <dbl> & <int> & <dbl> & <int> & <int> & <int> & <int> & ⋯ & <fct> & <fct> & <fct> & <fct> & <fct> & <fct> & <fct> & <dbl> & <int> & <dbl>\\\\\n",
       "\\hline\n",
       "\t1 & BVC-1473-10-10 & 295 & 0.2786473 & 2.286182 & 1 & 0.75 & 121 & 90 &  86 & 88 & ⋯ & Risk of Underweight & Control & Stunting & Risk of Underweight & Control & Risk of Stunting & No & 0.77 &  7000 & 18.5\\\\\n",
       "\t2 & BVC-1473-10-13 & 341 & 0.4057165 & 3.413548 & 2 & 2.00 & 121 & 90 &  86 & 88 & ⋯ & Risk of Underweight & Control & Stunting & Risk of Underweight & Control & Risk of Stunting & No & 0.77 &  7000 & 18.5\\\\\n",
       "\t3 & BVC-1473-10-36 & 408 & 0.5631309 & 4.883711 & 3 & 3.00 & 121 & 90 &  86 & 88 & ⋯ & Risk of Underweight & Control & Stunting & Risk of Underweight & Control & Risk of Stunting & No & 0.77 &  7000 & 18.5\\\\\n",
       "\t4 & BVC-1475-10-10 & 294 & 0.2419217 & 1.983678 & 1 & 0.75 & 128 & 85 & 100 & 97 & ⋯ & Risk of Underweight & Control & Stunting & Risk of Underweight & Control & Risk of Stunting & No & 0.77 & 13000 & 18.9\\\\\n",
       "\t5 & BVC-1475-10-13 & 391 & 0.5142706 & 4.428397 & 2 & 2.00 & 128 & 85 & 100 & 97 & ⋯ & Risk of Underweight & Control & Stunting & Risk of Underweight & Control & Risk of Stunting & No & 0.77 & 13000 & 18.9\\\\\n",
       "\t6 & BVC-1475-10-36 & 555 & 0.5257842 & 4.793230 & 3 & 3.00 & 128 & 85 & 100 & 97 & ⋯ & Risk of Underweight & Control & Stunting & Risk of Underweight & Control & Risk of Stunting & No & 0.77 & 13000 & 18.9\\\\\n",
       "\\end{tabular}\n"
      ],
      "text/markdown": [
       "\n",
       "A data.frame: 6 × 56\n",
       "\n",
       "| <!--/--> | collection_device_id &lt;fct&gt; | observed_otus &lt;int&gt; | pielou_e &lt;dbl&gt; | shannon &lt;dbl&gt; | time_point &lt;int&gt; | age_years &lt;dbl&gt; | days_exclusive_bf &lt;int&gt; | cogcmp_yr2 &lt;int&gt; | langcmp_yr2 &lt;int&gt; | motorcmp_yr2 &lt;int&gt; | ⋯ ⋯ | underwt_yr4 &lt;fct&gt; | waste_yr4 &lt;fct&gt; | stunting_yr4 &lt;fct&gt; | underwt_yr5 &lt;fct&gt; | waste_yr5 &lt;fct&gt; | stunting_yr5 &lt;fct&gt; | csection &lt;fct&gt; | age_wk40 &lt;dbl&gt; | income &lt;int&gt; | mbmi &lt;dbl&gt; |\n",
       "|---|---|---|---|---|---|---|---|---|---|---|---|---|---|---|---|---|---|---|---|---|---|\n",
       "| 1 | BVC-1473-10-10 | 295 | 0.2786473 | 2.286182 | 1 | 0.75 | 121 | 90 |  86 | 88 | ⋯ | Risk of Underweight | Control | Stunting | Risk of Underweight | Control | Risk of Stunting | No | 0.77 |  7000 | 18.5 |\n",
       "| 2 | BVC-1473-10-13 | 341 | 0.4057165 | 3.413548 | 2 | 2.00 | 121 | 90 |  86 | 88 | ⋯ | Risk of Underweight | Control | Stunting | Risk of Underweight | Control | Risk of Stunting | No | 0.77 |  7000 | 18.5 |\n",
       "| 3 | BVC-1473-10-36 | 408 | 0.5631309 | 4.883711 | 3 | 3.00 | 121 | 90 |  86 | 88 | ⋯ | Risk of Underweight | Control | Stunting | Risk of Underweight | Control | Risk of Stunting | No | 0.77 |  7000 | 18.5 |\n",
       "| 4 | BVC-1475-10-10 | 294 | 0.2419217 | 1.983678 | 1 | 0.75 | 128 | 85 | 100 | 97 | ⋯ | Risk of Underweight | Control | Stunting | Risk of Underweight | Control | Risk of Stunting | No | 0.77 | 13000 | 18.9 |\n",
       "| 5 | BVC-1475-10-13 | 391 | 0.5142706 | 4.428397 | 2 | 2.00 | 128 | 85 | 100 | 97 | ⋯ | Risk of Underweight | Control | Stunting | Risk of Underweight | Control | Risk of Stunting | No | 0.77 | 13000 | 18.9 |\n",
       "| 6 | BVC-1475-10-36 | 555 | 0.5257842 | 4.793230 | 3 | 3.00 | 128 | 85 | 100 | 97 | ⋯ | Risk of Underweight | Control | Stunting | Risk of Underweight | Control | Risk of Stunting | No | 0.77 | 13000 | 18.9 |\n",
       "\n"
      ],
      "text/plain": [
       "  collection_device_id observed_otus pielou_e  shannon  time_point age_years\n",
       "1 BVC-1473-10-10       295           0.2786473 2.286182 1          0.75     \n",
       "2 BVC-1473-10-13       341           0.4057165 3.413548 2          2.00     \n",
       "3 BVC-1473-10-36       408           0.5631309 4.883711 3          3.00     \n",
       "4 BVC-1475-10-10       294           0.2419217 1.983678 1          0.75     \n",
       "5 BVC-1475-10-13       391           0.5142706 4.428397 2          2.00     \n",
       "6 BVC-1475-10-36       555           0.5257842 4.793230 3          3.00     \n",
       "  days_exclusive_bf cogcmp_yr2 langcmp_yr2 motorcmp_yr2 ⋯ underwt_yr4        \n",
       "1 121               90          86         88           ⋯ Risk of Underweight\n",
       "2 121               90          86         88           ⋯ Risk of Underweight\n",
       "3 121               90          86         88           ⋯ Risk of Underweight\n",
       "4 128               85         100         97           ⋯ Risk of Underweight\n",
       "5 128               85         100         97           ⋯ Risk of Underweight\n",
       "6 128               85         100         97           ⋯ Risk of Underweight\n",
       "  waste_yr4 stunting_yr4 underwt_yr5         waste_yr5 stunting_yr5    \n",
       "1 Control   Stunting     Risk of Underweight Control   Risk of Stunting\n",
       "2 Control   Stunting     Risk of Underweight Control   Risk of Stunting\n",
       "3 Control   Stunting     Risk of Underweight Control   Risk of Stunting\n",
       "4 Control   Stunting     Risk of Underweight Control   Risk of Stunting\n",
       "5 Control   Stunting     Risk of Underweight Control   Risk of Stunting\n",
       "6 Control   Stunting     Risk of Underweight Control   Risk of Stunting\n",
       "  csection age_wk40 income mbmi\n",
       "1 No       0.77      7000  18.5\n",
       "2 No       0.77      7000  18.5\n",
       "3 No       0.77      7000  18.5\n",
       "4 No       0.77     13000  18.9\n",
       "5 No       0.77     13000  18.9\n",
       "6 No       0.77     13000  18.9"
      ]
     },
     "metadata": {},
     "output_type": "display_data"
    }
   ],
   "source": [
    "data <- read.csv(\"MetaData.csv\")\n",
    "head(data)"
   ]
  },
  {
   "cell_type": "code",
   "execution_count": 3,
   "metadata": {},
   "outputs": [],
   "source": [
    "BetaRDAanalysis <- function(pcName, ctsName, catName, dat){\n",
    "  dat[catName] = lapply(dat[catName], factor)\n",
    "  dat[ctsName] = lapply(dat[ctsName], as.character)\n",
    "  dat[ctsName] = lapply(dat[ctsName], as.numeric)\n",
    "  df <- na.omit(dat)\n",
    "  ind <- rownames(df)\n",
    "  X <- df[, c(catName, ctsName)]\n",
    "  Y <- df[, pcName]\n",
    "  mod0 <- rda(Y ~ 1., X) \n",
    "  mod1 <- rda(Y ~ ., X) \n",
    "  step.res <- ordiR2step(mod0, mod1, perm.max = 1000)\n",
    "  table = step.res$anova\n",
    "  n <- nrow(table)\n",
    "  if(is.null(n)) return(cat(\"No anova\"))\n",
    "  ES.RDA <- numeric(n-1)\n",
    "  ES.RDA[1] <- table[1,1]\n",
    "  for (i in 2:n){\n",
    "    ES.RDA[i] <- table[i, 1] - table[i-1, 1]\n",
    "  }\n",
    "  table$ES.RDA <- ES.RDA\n",
    "  table = table[-n, ]\n",
    "  print(table)\n",
    "  return(table)\n",
    "}"
   ]
  },
  {
   "cell_type": "code",
   "execution_count": 4,
   "metadata": {},
   "outputs": [
    {
     "data": {
      "text/html": [
       "<ol class=list-inline>\n",
       "\t<li>332</li>\n",
       "\t<li>11</li>\n",
       "</ol>\n"
      ],
      "text/latex": [
       "\\begin{enumerate*}\n",
       "\\item 332\n",
       "\\item 11\n",
       "\\end{enumerate*}\n"
      ],
      "text/markdown": [
       "1. 332\n",
       "2. 11\n",
       "\n",
       "\n"
      ],
      "text/plain": [
       "[1] 332  11"
      ]
     },
     "metadata": {},
     "output_type": "display_data"
    },
    {
     "data": {
      "text/html": [
       "<table>\n",
       "<caption>A data.frame: 6 × 11</caption>\n",
       "<thead>\n",
       "\t<tr><th></th><th scope=col>collection_device_id</th><th scope=col>PC1</th><th scope=col>PC2</th><th scope=col>PC3</th><th scope=col>PC4</th><th scope=col>PC5</th><th scope=col>PC6</th><th scope=col>PC7</th><th scope=col>PC8</th><th scope=col>PC9</th><th scope=col>PC10</th></tr>\n",
       "\t<tr><th></th><th scope=col>&lt;chr&gt;</th><th scope=col>&lt;dbl&gt;</th><th scope=col>&lt;dbl&gt;</th><th scope=col>&lt;dbl&gt;</th><th scope=col>&lt;dbl&gt;</th><th scope=col>&lt;dbl&gt;</th><th scope=col>&lt;dbl&gt;</th><th scope=col>&lt;dbl&gt;</th><th scope=col>&lt;dbl&gt;</th><th scope=col>&lt;dbl&gt;</th><th scope=col>&lt;dbl&gt;</th></tr>\n",
       "</thead>\n",
       "<tbody>\n",
       "\t<tr><th scope=row>BVC.1473.10.10</th><td>BVC-1473-10-10</td><td> 0.00000</td><td>55.00937</td><td>76.49274</td><td>52.91355</td><td>68.85571</td><td>76.30533</td><td>46.59130</td><td>62.93284</td><td>74.00980</td><td>52.41417</td></tr>\n",
       "\t<tr><th scope=row>BVC.1473.10.13</th><td>BVC-1473-10-13</td><td>55.00937</td><td> 0.00000</td><td>53.21168</td><td>52.78436</td><td>42.83283</td><td>57.61438</td><td>42.51577</td><td>37.33298</td><td>49.06176</td><td>51.57249</td></tr>\n",
       "\t<tr><th scope=row>BVC.1473.10.36</th><td>BVC-1473-10-36</td><td>76.49274</td><td>53.21168</td><td> 0.00000</td><td>65.96802</td><td>44.72315</td><td>48.58788</td><td>66.96215</td><td>46.68372</td><td>52.48699</td><td>67.48879</td></tr>\n",
       "\t<tr><th scope=row>BVC.1475.10.10</th><td>BVC-1475-10-10</td><td>52.91355</td><td>52.78436</td><td>65.96802</td><td> 0.00000</td><td>59.03980</td><td>70.19906</td><td>46.48805</td><td>53.01267</td><td>67.49188</td><td>52.00037</td></tr>\n",
       "\t<tr><th scope=row>BVC.1475.10.13</th><td>BVC-1475-10-13</td><td>68.85571</td><td>42.83283</td><td>44.72315</td><td>59.03980</td><td> 0.00000</td><td>48.22585</td><td>56.33834</td><td>40.71649</td><td>48.96040</td><td>60.90284</td></tr>\n",
       "\t<tr><th scope=row>BVC.1475.10.36</th><td>BVC-1475-10-36</td><td>76.30533</td><td>57.61438</td><td>48.58788</td><td>70.19906</td><td>48.22585</td><td> 0.00000</td><td>70.06898</td><td>53.58613</td><td>51.61882</td><td>74.80768</td></tr>\n",
       "</tbody>\n",
       "</table>\n"
      ],
      "text/latex": [
       "A data.frame: 6 × 11\n",
       "\\begin{tabular}{r|lllllllllll}\n",
       "  & collection\\_device\\_id & PC1 & PC2 & PC3 & PC4 & PC5 & PC6 & PC7 & PC8 & PC9 & PC10\\\\\n",
       "  & <chr> & <dbl> & <dbl> & <dbl> & <dbl> & <dbl> & <dbl> & <dbl> & <dbl> & <dbl> & <dbl>\\\\\n",
       "\\hline\n",
       "\tBVC.1473.10.10 & BVC-1473-10-10 &  0.00000 & 55.00937 & 76.49274 & 52.91355 & 68.85571 & 76.30533 & 46.59130 & 62.93284 & 74.00980 & 52.41417\\\\\n",
       "\tBVC.1473.10.13 & BVC-1473-10-13 & 55.00937 &  0.00000 & 53.21168 & 52.78436 & 42.83283 & 57.61438 & 42.51577 & 37.33298 & 49.06176 & 51.57249\\\\\n",
       "\tBVC.1473.10.36 & BVC-1473-10-36 & 76.49274 & 53.21168 &  0.00000 & 65.96802 & 44.72315 & 48.58788 & 66.96215 & 46.68372 & 52.48699 & 67.48879\\\\\n",
       "\tBVC.1475.10.10 & BVC-1475-10-10 & 52.91355 & 52.78436 & 65.96802 &  0.00000 & 59.03980 & 70.19906 & 46.48805 & 53.01267 & 67.49188 & 52.00037\\\\\n",
       "\tBVC.1475.10.13 & BVC-1475-10-13 & 68.85571 & 42.83283 & 44.72315 & 59.03980 &  0.00000 & 48.22585 & 56.33834 & 40.71649 & 48.96040 & 60.90284\\\\\n",
       "\tBVC.1475.10.36 & BVC-1475-10-36 & 76.30533 & 57.61438 & 48.58788 & 70.19906 & 48.22585 &  0.00000 & 70.06898 & 53.58613 & 51.61882 & 74.80768\\\\\n",
       "\\end{tabular}\n"
      ],
      "text/markdown": [
       "\n",
       "A data.frame: 6 × 11\n",
       "\n",
       "| <!--/--> | collection_device_id &lt;chr&gt; | PC1 &lt;dbl&gt; | PC2 &lt;dbl&gt; | PC3 &lt;dbl&gt; | PC4 &lt;dbl&gt; | PC5 &lt;dbl&gt; | PC6 &lt;dbl&gt; | PC7 &lt;dbl&gt; | PC8 &lt;dbl&gt; | PC9 &lt;dbl&gt; | PC10 &lt;dbl&gt; |\n",
       "|---|---|---|---|---|---|---|---|---|---|---|---|\n",
       "| BVC.1473.10.10 | BVC-1473-10-10 |  0.00000 | 55.00937 | 76.49274 | 52.91355 | 68.85571 | 76.30533 | 46.59130 | 62.93284 | 74.00980 | 52.41417 |\n",
       "| BVC.1473.10.13 | BVC-1473-10-13 | 55.00937 |  0.00000 | 53.21168 | 52.78436 | 42.83283 | 57.61438 | 42.51577 | 37.33298 | 49.06176 | 51.57249 |\n",
       "| BVC.1473.10.36 | BVC-1473-10-36 | 76.49274 | 53.21168 |  0.00000 | 65.96802 | 44.72315 | 48.58788 | 66.96215 | 46.68372 | 52.48699 | 67.48879 |\n",
       "| BVC.1475.10.10 | BVC-1475-10-10 | 52.91355 | 52.78436 | 65.96802 |  0.00000 | 59.03980 | 70.19906 | 46.48805 | 53.01267 | 67.49188 | 52.00037 |\n",
       "| BVC.1475.10.13 | BVC-1475-10-13 | 68.85571 | 42.83283 | 44.72315 | 59.03980 |  0.00000 | 48.22585 | 56.33834 | 40.71649 | 48.96040 | 60.90284 |\n",
       "| BVC.1475.10.36 | BVC-1475-10-36 | 76.30533 | 57.61438 | 48.58788 | 70.19906 | 48.22585 |  0.00000 | 70.06898 | 53.58613 | 51.61882 | 74.80768 |\n",
       "\n"
      ],
      "text/plain": [
       "               collection_device_id PC1      PC2      PC3      PC4     \n",
       "BVC.1473.10.10 BVC-1473-10-10        0.00000 55.00937 76.49274 52.91355\n",
       "BVC.1473.10.13 BVC-1473-10-13       55.00937  0.00000 53.21168 52.78436\n",
       "BVC.1473.10.36 BVC-1473-10-36       76.49274 53.21168  0.00000 65.96802\n",
       "BVC.1475.10.10 BVC-1475-10-10       52.91355 52.78436 65.96802  0.00000\n",
       "BVC.1475.10.13 BVC-1475-10-13       68.85571 42.83283 44.72315 59.03980\n",
       "BVC.1475.10.36 BVC-1475-10-36       76.30533 57.61438 48.58788 70.19906\n",
       "               PC5      PC6      PC7      PC8      PC9      PC10    \n",
       "BVC.1473.10.10 68.85571 76.30533 46.59130 62.93284 74.00980 52.41417\n",
       "BVC.1473.10.13 42.83283 57.61438 42.51577 37.33298 49.06176 51.57249\n",
       "BVC.1473.10.36 44.72315 48.58788 66.96215 46.68372 52.48699 67.48879\n",
       "BVC.1475.10.10 59.03980 70.19906 46.48805 53.01267 67.49188 52.00037\n",
       "BVC.1475.10.13  0.00000 48.22585 56.33834 40.71649 48.96040 60.90284\n",
       "BVC.1475.10.36 48.22585  0.00000 70.06898 53.58613 51.61882 74.80768"
      ]
     },
     "metadata": {},
     "output_type": "display_data"
    }
   ],
   "source": [
    "pc = read.csv('tab_mGtax_qiita_min100k_332s_aitchison_DM.tsv', header=TRUE, sep='\\t',row.names = 1)\n",
    "pc <- pc[ , order(colnames(pc))]\n",
    "pc <- pc[ order(rownames(pc)), ]\n",
    "pc$collection_device_id <- rownames(pc)\n",
    "pc$collection_device_id <- gsub(\".\", \"-\", pc$collection_device_id,fixed = T)\n",
    "n <- ncol(pc)\n",
    "pc <- pc[,c(n,1:(n-1))]\n",
    "pc_10 = pc[, 1:11]\n",
    "colnames(pc_10) = c('collection_device_id', 'PC1', 'PC2', 'PC3', 'PC4', 'PC5', 'PC6', 'PC7', 'PC8', 'PC9', 'PC10')\n",
    "dim(pc_10)\n",
    "head(pc_10)"
   ]
  },
  {
   "cell_type": "code",
   "execution_count": 5,
   "metadata": {},
   "outputs": [],
   "source": [
    "data = merge(data, pc_10, by='collection_device_id')"
   ]
  },
  {
   "cell_type": "code",
   "execution_count": 6,
   "metadata": {},
   "outputs": [],
   "source": [
    "secctsName <- c(\"age_wk40\", \"income\",\"mbmi\")\n",
    "seccatName <- c(\"csection\")"
   ]
  },
  {
   "cell_type": "code",
   "execution_count": 7,
   "metadata": {},
   "outputs": [],
   "source": [
    "pcName = c('PC1', 'PC2', 'PC3', 'PC4', 'PC5', 'PC6', 'PC7', 'PC8', 'PC9', 'PC10')"
   ]
  },
  {
   "cell_type": "code",
   "execution_count": 8,
   "metadata": {},
   "outputs": [
    {
     "name": "stdout",
     "output_type": "stream",
     "text": [
      "Step: R2.adj= 0 \n",
      "Call: Y ~ 1 \n",
      " \n",
      "                          R2.adjusted\n",
      "<All variables>          0.5129163526\n",
      "+ age_years              0.4155651095\n",
      "+ recent_antibiotic_use  0.2974768054\n",
      "+ underwt_yr2            0.0184934896\n",
      "+ stunting_yr4           0.0120557910\n",
      "+ stunting_yr3           0.0114930107\n",
      "+ cogcmp_yr2_quartile    0.0096287102\n",
      "+ stunting_yr2           0.0089764380\n",
      "+ underwt_yr3            0.0051679814\n",
      "+ days_exclusive_bf      0.0039328382\n",
      "+ underwt_yr4            0.0034301423\n",
      "+ underwt_yr5            0.0021061704\n",
      "+ stunting_yr5           0.0016344473\n",
      "+ motorcmp_yr2_quartile  0.0008600893\n",
      "+ langcmp_yr2_quartile   0.0007852461\n",
      "<none>                   0.0000000000\n",
      "+ sex                   -0.0001083849\n",
      "+ waste_yr1             -0.0015421164\n",
      "+ underwt_yr1           -0.0017848389\n",
      "+ soemocmp_yr2_quartile -0.0017970072\n",
      "+ waste_yr3             -0.0027140704\n",
      "+ stunting_yr1          -0.0038776647\n",
      "+ waste_yr4             -0.0046507436\n",
      "+ waste_yr5             -0.0050104553\n",
      "+ waste_yr2             -0.0057652202\n",
      "\n",
      "            Df    AIC      F Pr(>F)   \n",
      "+ age_years  1 2107.6 236.36  0.002 **\n",
      "---\n",
      "Signif. codes:  0 ‘***’ 0.001 ‘**’ 0.01 ‘*’ 0.05 ‘.’ 0.1 ‘ ’ 1\n",
      "\n",
      "Step: R2.adj= 0.4155651 \n",
      "Call: Y ~ age_years \n",
      " \n",
      "                        R2.adjusted\n",
      "<All variables>           0.5129164\n",
      "+ recent_antibiotic_use   0.4797616\n",
      "+ underwt_yr2             0.4363044\n",
      "+ cogcmp_yr2_quartile     0.4297157\n",
      "+ stunting_yr3            0.4294283\n",
      "+ stunting_yr4            0.4281327\n",
      "+ stunting_yr2            0.4250396\n",
      "+ langcmp_yr2_quartile    0.4229583\n",
      "+ motorcmp_yr2_quartile   0.4222879\n",
      "+ underwt_yr3             0.4220110\n",
      "+ days_exclusive_bf       0.4204841\n",
      "+ underwt_yr4             0.4203247\n",
      "+ soemocmp_yr2_quartile   0.4197928\n",
      "+ underwt_yr5             0.4191741\n",
      "+ stunting_yr5            0.4191012\n",
      "+ waste_yr1               0.4175116\n",
      "+ underwt_yr1             0.4167485\n",
      "<none>                    0.4155651\n",
      "+ waste_yr3               0.4151530\n",
      "+ sex                     0.4151425\n",
      "+ stunting_yr1            0.4147075\n",
      "+ waste_yr5               0.4139963\n",
      "+ waste_yr2               0.4138771\n",
      "+ waste_yr4               0.4131723\n",
      "\n",
      "                        Df    AIC     F Pr(>F)   \n",
      "+ recent_antibiotic_use  4 2072.9 11.18  0.002 **\n",
      "---\n",
      "Signif. codes:  0 ‘***’ 0.001 ‘**’ 0.01 ‘*’ 0.05 ‘.’ 0.1 ‘ ’ 1\n",
      "\n",
      "Step: R2.adj= 0.4797616 \n",
      "Call: Y ~ age_years + recent_antibiotic_use \n",
      " \n",
      "                        R2.adjusted\n",
      "<All variables>           0.5129164\n",
      "+ underwt_yr2             0.5000342\n",
      "+ cogcmp_yr2_quartile     0.4945707\n",
      "+ stunting_yr3            0.4931411\n",
      "+ stunting_yr4            0.4902923\n",
      "+ stunting_yr2            0.4898420\n",
      "+ langcmp_yr2_quartile    0.4876869\n",
      "+ motorcmp_yr2_quartile   0.4856601\n",
      "+ underwt_yr3             0.4848211\n",
      "+ days_exclusive_bf       0.4844006\n",
      "+ soemocmp_yr2_quartile   0.4834259\n",
      "+ stunting_yr5            0.4832568\n",
      "+ underwt_yr4             0.4826582\n",
      "+ underwt_yr5             0.4823318\n",
      "+ underwt_yr1             0.4810825\n",
      "+ waste_yr1               0.4800978\n",
      "+ waste_yr5               0.4800365\n",
      "<none>                    0.4797616\n",
      "+ stunting_yr1            0.4795083\n",
      "+ waste_yr3               0.4790789\n",
      "+ sex                     0.4788162\n",
      "+ waste_yr2               0.4783891\n",
      "+ waste_yr4               0.4780630\n",
      "\n",
      "              Df    AIC      F Pr(>F)   \n",
      "+ underwt_yr2  3 2062.7 5.4062  0.002 **\n",
      "---\n",
      "Signif. codes:  0 ‘***’ 0.001 ‘**’ 0.01 ‘*’ 0.05 ‘.’ 0.1 ‘ ’ 1\n",
      "\n",
      "Step: R2.adj= 0.5000342 \n",
      "Call: Y ~ age_years + recent_antibiotic_use + underwt_yr2 \n",
      " \n",
      "                        R2.adjusted\n",
      "<All variables>           0.5129164\n",
      "+ cogcmp_yr2_quartile     0.5126286\n",
      "+ langcmp_yr2_quartile    0.5083848\n",
      "+ motorcmp_yr2_quartile   0.5062058\n",
      "+ stunting_yr3            0.5050723\n",
      "+ soemocmp_yr2_quartile   0.5050215\n",
      "+ stunting_yr2            0.5026438\n",
      "+ days_exclusive_bf       0.5018916\n",
      "+ stunting_yr4            0.5014761\n",
      "+ stunting_yr5            0.5001993\n",
      "<none>                    0.5000342\n",
      "+ underwt_yr3             0.4993992\n",
      "+ waste_yr2               0.4990537\n",
      "+ underwt_yr1             0.4989642\n",
      "+ waste_yr3               0.4987847\n",
      "+ sex                     0.4986914\n",
      "+ stunting_yr1            0.4986498\n",
      "+ waste_yr5               0.4984909\n",
      "+ waste_yr1               0.4981600\n",
      "+ underwt_yr4             0.4980045\n",
      "+ waste_yr4               0.4971782\n",
      "+ underwt_yr5             0.4970658\n",
      "\n",
      "                      Df    AIC      F Pr(>F)   \n",
      "+ cogcmp_yr2_quartile  4 2058.1 3.0867  0.004 **\n",
      "---\n",
      "Signif. codes:  0 ‘***’ 0.001 ‘**’ 0.01 ‘*’ 0.05 ‘.’ 0.1 ‘ ’ 1\n",
      "\n",
      "Step: R2.adj= 0.5126286 \n",
      "Call: Y ~ age_years + recent_antibiotic_use + underwt_yr2 + cogcmp_yr2_quartile \n",
      " \n",
      "                        R2.adjusted\n",
      "+ stunting_yr3            0.5165115\n",
      "+ stunting_yr2            0.5152714\n",
      "+ days_exclusive_bf       0.5150972\n",
      "+ motorcmp_yr2_quartile   0.5145529\n",
      "+ stunting_yr4            0.5139117\n",
      "+ langcmp_yr2_quartile    0.5134949\n",
      "+ stunting_yr5            0.5132017\n",
      "<All variables>           0.5129164\n",
      "<none>                    0.5126286\n",
      "+ waste_yr2               0.5123532\n",
      "+ waste_yr3               0.5120154\n",
      "+ waste_yr5               0.5115994\n",
      "+ stunting_yr1            0.5115203\n",
      "+ underwt_yr3             0.5113955\n",
      "+ sex                     0.5112837\n",
      "+ underwt_yr1             0.5111076\n",
      "+ waste_yr1               0.5106748\n",
      "+ waste_yr4               0.5106686\n",
      "+ soemocmp_yr2_quartile   0.5106250\n",
      "+ underwt_yr4             0.5105947\n",
      "+ underwt_yr5             0.5095028\n",
      "\n",
      "                         R2.adj Df    AIC        F Pr(>F)  ES.RDA\n",
      "+ age_years             0.41557  1 2107.6 236.3591  0.002 0.41557\n",
      "+ recent_antibiotic_use 0.47976  4 2072.9  11.1804  0.002 0.06420\n",
      "+ underwt_yr2           0.50003  3 2062.7   5.4062  0.002 0.02027\n",
      "+ cogcmp_yr2_quartile   0.51263  4 2058.1   3.0867  0.004 0.01259\n"
     ]
    }
   ],
   "source": [
    "#all timepoints with categorical zscores\n",
    "ctsName <- c(\"age_years\", \"days_exclusive_bf\") \n",
    "catName <- c(\"sex\",\"recent_antibiotic_use\",\n",
    "             \"cogcmp_yr2_quartile\", \"langcmp_yr2_quartile\", \n",
    "             \"motorcmp_yr2_quartile\", \"soemocmp_yr2_quartile\",\n",
    "             \"underwt_yr1\", \"waste_yr1\", \"stunting_yr1\",\n",
    "             \"underwt_yr2\", \"waste_yr2\", \"stunting_yr2\",\n",
    "             \"underwt_yr3\", \"waste_yr3\", \"stunting_yr3\",\n",
    "             \"underwt_yr4\", \"waste_yr4\", \"stunting_yr4\",\n",
    "             \"underwt_yr5\", \"waste_yr5\", \"stunting_yr5\")\n",
    "table <- BetaRDAanalysis(pcName, ctsName, catName, data)"
   ]
  },
  {
   "cell_type": "code",
   "execution_count": 9,
   "metadata": {},
   "outputs": [
    {
     "data": {
      "image/png": "[encoded data removed]",
      "text/plain": [
       "plot without title"
      ]
     },
     "metadata": {
      "image/png": {
       "height": 420,
       "width": 420
      },
      "text/plain": {
       "height": 420,
       "width": 420
      }
     },
     "output_type": "display_data"
    }
   ],
   "source": [
    "covariates = rownames(table)\n",
    "ggplot(table, aes(x=reorder(covariates, ES.RDA), y=ES.RDA, fill=covariates)) +\n",
    "  labs(x = 'Non-redundant Covariants(All Timepoints)', y = 'Effect Size (Aitchison Beta Diversity)') +\n",
    "  geom_bar(stat='identity') +\n",
    "  theme(axis.text=element_text(size=10), \n",
    "        axis.title=element_text(size=14,face=\"bold\"), \n",
    "        legend.position=\"none\") + \n",
    "  coord_flip()"
   ]
  },
  {
   "cell_type": "code",
   "execution_count": 10,
   "metadata": {},
   "outputs": [
    {
     "name": "stdout",
     "output_type": "stream",
     "text": [
      "Step: R2.adj= 0 \n",
      "Call: Y ~ 1 \n",
      " \n",
      "                          R2.adjusted\n",
      "<All variables>          0.5113328161\n",
      "+ age_years              0.4155651095\n",
      "+ recent_antibiotic_use  0.2974768054\n",
      "+ underwt_yr2            0.0184934896\n",
      "+ stunting_yr4           0.0120557910\n",
      "+ stunting_yr3           0.0114930107\n",
      "+ cogcmp_yr2_quartile    0.0096287102\n",
      "+ stunting_yr2           0.0089764380\n",
      "+ underwt_yr3            0.0051679814\n",
      "+ days_exclusive_bf      0.0039328382\n",
      "+ underwt_yr4            0.0034301423\n",
      "+ income                 0.0029560364\n",
      "+ underwt_yr5            0.0021061704\n",
      "+ stunting_yr5           0.0016344473\n",
      "+ motorcmp_yr2_quartile  0.0008600893\n",
      "+ langcmp_yr2_quartile   0.0007852461\n",
      "<none>                   0.0000000000\n",
      "+ sex                   -0.0001083849\n",
      "+ csection              -0.0001905639\n",
      "+ waste_yr1             -0.0015421164\n",
      "+ underwt_yr1           -0.0017848389\n",
      "+ soemocmp_yr2_quartile -0.0017970072\n",
      "+ mbmi                  -0.0020469803\n",
      "+ age_wk40              -0.0024790303\n",
      "+ waste_yr3             -0.0027140704\n",
      "+ stunting_yr1          -0.0038776647\n",
      "+ waste_yr4             -0.0046507436\n",
      "+ waste_yr5             -0.0050104553\n",
      "+ waste_yr2             -0.0057652202\n",
      "\n",
      "            Df    AIC      F Pr(>F)   \n",
      "+ age_years  1 2107.6 236.36  0.002 **\n",
      "---\n",
      "Signif. codes:  0 ‘***’ 0.001 ‘**’ 0.01 ‘*’ 0.05 ‘.’ 0.1 ‘ ’ 1\n",
      "\n",
      "Step: R2.adj= 0.4155651 \n",
      "Call: Y ~ age_years \n",
      " \n",
      "                        R2.adjusted\n",
      "<All variables>           0.5113328\n",
      "+ recent_antibiotic_use   0.4797616\n",
      "+ underwt_yr2             0.4363044\n",
      "+ cogcmp_yr2_quartile     0.4297157\n",
      "+ stunting_yr3            0.4294283\n",
      "+ stunting_yr4            0.4281327\n",
      "+ stunting_yr2            0.4250396\n",
      "+ langcmp_yr2_quartile    0.4229583\n",
      "+ motorcmp_yr2_quartile   0.4222879\n",
      "+ underwt_yr3             0.4220110\n",
      "+ days_exclusive_bf       0.4204841\n",
      "+ income                  0.4203491\n",
      "+ underwt_yr4             0.4203247\n",
      "+ soemocmp_yr2_quartile   0.4197928\n",
      "+ underwt_yr5             0.4191741\n",
      "+ stunting_yr5            0.4191012\n",
      "+ waste_yr1               0.4175116\n",
      "+ underwt_yr1             0.4167485\n",
      "+ csection                0.4166597\n",
      "<none>                    0.4155651\n",
      "+ waste_yr3               0.4151530\n",
      "+ sex                     0.4151425\n",
      "+ age_wk40                0.4149593\n",
      "+ mbmi                    0.4149086\n",
      "+ stunting_yr1            0.4147075\n",
      "+ waste_yr5               0.4139963\n",
      "+ waste_yr2               0.4138771\n",
      "+ waste_yr4               0.4131723\n",
      "\n",
      "                        Df    AIC     F Pr(>F)   \n",
      "+ recent_antibiotic_use  4 2072.9 11.18  0.002 **\n",
      "---\n",
      "Signif. codes:  0 ‘***’ 0.001 ‘**’ 0.01 ‘*’ 0.05 ‘.’ 0.1 ‘ ’ 1\n",
      "\n",
      "Step: R2.adj= 0.4797616 \n",
      "Call: Y ~ age_years + recent_antibiotic_use \n",
      " \n",
      "                        R2.adjusted\n",
      "<All variables>           0.5113328\n",
      "+ underwt_yr2             0.5000342\n",
      "+ cogcmp_yr2_quartile     0.4945707\n",
      "+ stunting_yr3            0.4931411\n",
      "+ stunting_yr4            0.4902923\n",
      "+ stunting_yr2            0.4898420\n",
      "+ langcmp_yr2_quartile    0.4876869\n",
      "+ motorcmp_yr2_quartile   0.4856601\n",
      "+ income                  0.4853577\n",
      "+ underwt_yr3             0.4848211\n",
      "+ days_exclusive_bf       0.4844006\n",
      "+ soemocmp_yr2_quartile   0.4834259\n",
      "+ stunting_yr5            0.4832568\n",
      "+ underwt_yr4             0.4826582\n",
      "+ underwt_yr5             0.4823318\n",
      "+ underwt_yr1             0.4810825\n",
      "+ csection                0.4805926\n",
      "+ waste_yr1               0.4800978\n",
      "+ waste_yr5               0.4800365\n",
      "<none>                    0.4797616\n",
      "+ age_wk40                0.4795736\n",
      "+ stunting_yr1            0.4795083\n",
      "+ waste_yr3               0.4790789\n",
      "+ mbmi                    0.4790737\n",
      "+ sex                     0.4788162\n",
      "+ waste_yr2               0.4783891\n",
      "+ waste_yr4               0.4780630\n",
      "\n",
      "              Df    AIC      F Pr(>F)   \n",
      "+ underwt_yr2  3 2062.7 5.4062  0.002 **\n",
      "---\n",
      "Signif. codes:  0 ‘***’ 0.001 ‘**’ 0.01 ‘*’ 0.05 ‘.’ 0.1 ‘ ’ 1\n",
      "\n",
      "Step: R2.adj= 0.5000342 \n",
      "Call: Y ~ age_years + recent_antibiotic_use + underwt_yr2 \n",
      " \n",
      "                        R2.adjusted\n",
      "+ cogcmp_yr2_quartile     0.5126286\n",
      "<All variables>           0.5113328\n",
      "+ langcmp_yr2_quartile    0.5083848\n",
      "+ motorcmp_yr2_quartile   0.5062058\n",
      "+ stunting_yr3            0.5050723\n",
      "+ soemocmp_yr2_quartile   0.5050215\n",
      "+ stunting_yr2            0.5026438\n",
      "+ income                  0.5020615\n",
      "+ days_exclusive_bf       0.5018916\n",
      "+ stunting_yr4            0.5014761\n",
      "+ stunting_yr5            0.5001993\n",
      "<none>                    0.5000342\n",
      "+ age_wk40                0.4998551\n",
      "+ underwt_yr3             0.4993992\n",
      "+ csection                0.4993399\n",
      "+ waste_yr2               0.4990537\n",
      "+ underwt_yr1             0.4989642\n",
      "+ waste_yr3               0.4987847\n",
      "+ mbmi                    0.4986971\n",
      "+ sex                     0.4986914\n",
      "+ stunting_yr1            0.4986498\n",
      "+ waste_yr5               0.4984909\n",
      "+ waste_yr1               0.4981600\n",
      "+ underwt_yr4             0.4980045\n",
      "+ waste_yr4               0.4971782\n",
      "+ underwt_yr5             0.4970658\n",
      "\n",
      "                         R2.adj Df    AIC        F Pr(>F)  ES.RDA\n",
      "+ age_years             0.41557  1 2107.6 236.3591  0.002 0.41557\n",
      "+ recent_antibiotic_use 0.47976  4 2072.9  11.1804  0.002 0.06420\n",
      "+ underwt_yr2           0.50003  3 2062.7   5.4062  0.002 0.02027\n"
     ]
    }
   ],
   "source": [
    "#all timepoints with secondary variables\n",
    "table <- BetaRDAanalysis(pcName, c(ctsName,secctsName), c(catName, seccatName), data)"
   ]
  },
  {
   "cell_type": "code",
   "execution_count": 11,
   "metadata": {},
   "outputs": [
    {
     "data": {
      "image/png": "[encoded data removed]",
      "text/plain": [
       "plot without title"
      ]
     },
     "metadata": {
      "image/png": {
       "height": 420,
       "width": 420
      },
      "text/plain": {
       "height": 420,
       "width": 420
      }
     },
     "output_type": "display_data"
    }
   ],
   "source": [
    "covariates = rownames(table)\n",
    "ggplot(table, aes(x=reorder(covariates, ES.RDA), y=ES.RDA, fill=covariates)) +\n",
    "  labs(x = 'Non-redundant Covariants(All Timepoints)', y = 'Effect Size (Aitchison Beta Diversity)') +\n",
    "  geom_bar(stat='identity') +\n",
    "  theme(axis.text=element_text(size=10), \n",
    "        axis.title=element_text(size=14,face=\"bold\"), \n",
    "        legend.position=\"none\") + \n",
    "  coord_flip()"
   ]
  },
  {
   "cell_type": "markdown",
   "metadata": {},
   "source": [
    "##### Timepoint 1"
   ]
  },
  {
   "cell_type": "code",
   "execution_count": 12,
   "metadata": {},
   "outputs": [
    {
     "data": {
      "text/html": [
       "<table>\n",
       "<caption>A data.frame: 6 × 56</caption>\n",
       "<thead>\n",
       "\t<tr><th></th><th scope=col>collection_device_id</th><th scope=col>observed_otus</th><th scope=col>pielou_e</th><th scope=col>shannon</th><th scope=col>time_point</th><th scope=col>age_years</th><th scope=col>days_exclusive_bf</th><th scope=col>cogcmp_yr2</th><th scope=col>langcmp_yr2</th><th scope=col>motorcmp_yr2</th><th scope=col>⋯</th><th scope=col>underwt_yr4</th><th scope=col>waste_yr4</th><th scope=col>stunting_yr4</th><th scope=col>underwt_yr5</th><th scope=col>waste_yr5</th><th scope=col>stunting_yr5</th><th scope=col>csection</th><th scope=col>age_wk40</th><th scope=col>income</th><th scope=col>mbmi</th></tr>\n",
       "\t<tr><th></th><th scope=col>&lt;fct&gt;</th><th scope=col>&lt;int&gt;</th><th scope=col>&lt;dbl&gt;</th><th scope=col>&lt;dbl&gt;</th><th scope=col>&lt;int&gt;</th><th scope=col>&lt;dbl&gt;</th><th scope=col>&lt;int&gt;</th><th scope=col>&lt;int&gt;</th><th scope=col>&lt;int&gt;</th><th scope=col>&lt;int&gt;</th><th scope=col>⋯</th><th scope=col>&lt;fct&gt;</th><th scope=col>&lt;fct&gt;</th><th scope=col>&lt;fct&gt;</th><th scope=col>&lt;fct&gt;</th><th scope=col>&lt;fct&gt;</th><th scope=col>&lt;fct&gt;</th><th scope=col>&lt;fct&gt;</th><th scope=col>&lt;dbl&gt;</th><th scope=col>&lt;int&gt;</th><th scope=col>&lt;dbl&gt;</th></tr>\n",
       "</thead>\n",
       "<tbody>\n",
       "\t<tr><th scope=row>1</th><td>BVC-1473-10-10</td><td>295</td><td>0.2786473</td><td>2.286182</td><td>1</td><td>0.75</td><td>121</td><td> 90</td><td> 86</td><td>88</td><td>⋯</td><td>Risk of Underweight</td><td>Control        </td><td>Stunting        </td><td>Risk of Underweight</td><td>Control        </td><td>Risk of Stunting</td><td>No </td><td>0.77</td><td> 7000</td><td>18.5</td></tr>\n",
       "\t<tr><th scope=row>4</th><td>BVC-1475-10-10</td><td>294</td><td>0.2419217</td><td>1.983678</td><td>1</td><td>0.75</td><td>128</td><td> 85</td><td>100</td><td>97</td><td>⋯</td><td>Risk of Underweight</td><td>Control        </td><td>Stunting        </td><td>Risk of Underweight</td><td>Control        </td><td>Risk of Stunting</td><td>No </td><td>0.77</td><td>13000</td><td>18.9</td></tr>\n",
       "\t<tr><th scope=row>7</th><td>BVC-1480-10-10</td><td>283</td><td>0.2985334</td><td>2.431452</td><td>1</td><td>0.75</td><td>116</td><td> 85</td><td> 86</td><td>85</td><td>⋯</td><td>Risk of Underweight</td><td>Risk of wasting</td><td>Risk of Stunting</td><td>Risk of Underweight</td><td>Risk of wasting</td><td>Control         </td><td>No </td><td>0.78</td><td> 7000</td><td>23.2</td></tr>\n",
       "\t<tr><th scope=row>10</th><td>BVC-1481-10-10</td><td>213</td><td>0.3480514</td><td>2.692077</td><td>1</td><td>0.75</td><td>170</td><td>100</td><td>106</td><td>94</td><td>⋯</td><td>Risk of Underweight</td><td>Risk of wasting</td><td>Risk of Stunting</td><td>Risk of Underweight</td><td>Risk of wasting</td><td>Risk of Stunting</td><td>No </td><td>0.77</td><td> 6000</td><td>18.3</td></tr>\n",
       "\t<tr><th scope=row>14</th><td>BVC-1492-10-10</td><td>380</td><td>0.4377932</td><td>3.751824</td><td>1</td><td>0.75</td><td>115</td><td>100</td><td>106</td><td>97</td><td>⋯</td><td>Risk of Underweight</td><td>Risk of wasting</td><td>Control         </td><td>Risk of Underweight</td><td>Risk of wasting</td><td>Control         </td><td>Yes</td><td>0.78</td><td>18000</td><td>22.8</td></tr>\n",
       "\t<tr><th scope=row>16</th><td>BVC-1499-10-10</td><td>502</td><td>0.5169127</td><td>4.637505</td><td>1</td><td>0.75</td><td>186</td><td> 85</td><td> 89</td><td>88</td><td>⋯</td><td>Risk of Underweight</td><td>Risk of wasting</td><td>Risk of Stunting</td><td>Risk of Underweight</td><td>Control        </td><td>Stunting        </td><td>No </td><td>0.77</td><td> 5000</td><td>18.8</td></tr>\n",
       "</tbody>\n",
       "</table>\n"
      ],
      "text/latex": [
       "A data.frame: 6 × 56\n",
       "\\begin{tabular}{r|lllllllllllllllllllll}\n",
       "  & collection\\_device\\_id & observed\\_otus & pielou\\_e & shannon & time\\_point & age\\_years & days\\_exclusive\\_bf & cogcmp\\_yr2 & langcmp\\_yr2 & motorcmp\\_yr2 & ⋯ & underwt\\_yr4 & waste\\_yr4 & stunting\\_yr4 & underwt\\_yr5 & waste\\_yr5 & stunting\\_yr5 & csection & age\\_wk40 & income & mbmi\\\\\n",
       "  & <fct> & <int> & <dbl> & <dbl> & <int> & <dbl> & <int> & <int> & <int> & <int> & ⋯ & <fct> & <fct> & <fct> & <fct> & <fct> & <fct> & <fct> & <dbl> & <int> & <dbl>\\\\\n",
       "\\hline\n",
       "\t1 & BVC-1473-10-10 & 295 & 0.2786473 & 2.286182 & 1 & 0.75 & 121 &  90 &  86 & 88 & ⋯ & Risk of Underweight & Control         & Stunting         & Risk of Underweight & Control         & Risk of Stunting & No  & 0.77 &  7000 & 18.5\\\\\n",
       "\t4 & BVC-1475-10-10 & 294 & 0.2419217 & 1.983678 & 1 & 0.75 & 128 &  85 & 100 & 97 & ⋯ & Risk of Underweight & Control         & Stunting         & Risk of Underweight & Control         & Risk of Stunting & No  & 0.77 & 13000 & 18.9\\\\\n",
       "\t7 & BVC-1480-10-10 & 283 & 0.2985334 & 2.431452 & 1 & 0.75 & 116 &  85 &  86 & 85 & ⋯ & Risk of Underweight & Risk of wasting & Risk of Stunting & Risk of Underweight & Risk of wasting & Control          & No  & 0.78 &  7000 & 23.2\\\\\n",
       "\t10 & BVC-1481-10-10 & 213 & 0.3480514 & 2.692077 & 1 & 0.75 & 170 & 100 & 106 & 94 & ⋯ & Risk of Underweight & Risk of wasting & Risk of Stunting & Risk of Underweight & Risk of wasting & Risk of Stunting & No  & 0.77 &  6000 & 18.3\\\\\n",
       "\t14 & BVC-1492-10-10 & 380 & 0.4377932 & 3.751824 & 1 & 0.75 & 115 & 100 & 106 & 97 & ⋯ & Risk of Underweight & Risk of wasting & Control          & Risk of Underweight & Risk of wasting & Control          & Yes & 0.78 & 18000 & 22.8\\\\\n",
       "\t16 & BVC-1499-10-10 & 502 & 0.5169127 & 4.637505 & 1 & 0.75 & 186 &  85 &  89 & 88 & ⋯ & Risk of Underweight & Risk of wasting & Risk of Stunting & Risk of Underweight & Control         & Stunting         & No  & 0.77 &  5000 & 18.8\\\\\n",
       "\\end{tabular}\n"
      ],
      "text/markdown": [
       "\n",
       "A data.frame: 6 × 56\n",
       "\n",
       "| <!--/--> | collection_device_id &lt;fct&gt; | observed_otus &lt;int&gt; | pielou_e &lt;dbl&gt; | shannon &lt;dbl&gt; | time_point &lt;int&gt; | age_years &lt;dbl&gt; | days_exclusive_bf &lt;int&gt; | cogcmp_yr2 &lt;int&gt; | langcmp_yr2 &lt;int&gt; | motorcmp_yr2 &lt;int&gt; | ⋯ ⋯ | underwt_yr4 &lt;fct&gt; | waste_yr4 &lt;fct&gt; | stunting_yr4 &lt;fct&gt; | underwt_yr5 &lt;fct&gt; | waste_yr5 &lt;fct&gt; | stunting_yr5 &lt;fct&gt; | csection &lt;fct&gt; | age_wk40 &lt;dbl&gt; | income &lt;int&gt; | mbmi &lt;dbl&gt; |\n",
       "|---|---|---|---|---|---|---|---|---|---|---|---|---|---|---|---|---|---|---|---|---|---|\n",
       "| 1 | BVC-1473-10-10 | 295 | 0.2786473 | 2.286182 | 1 | 0.75 | 121 |  90 |  86 | 88 | ⋯ | Risk of Underweight | Control         | Stunting         | Risk of Underweight | Control         | Risk of Stunting | No  | 0.77 |  7000 | 18.5 |\n",
       "| 4 | BVC-1475-10-10 | 294 | 0.2419217 | 1.983678 | 1 | 0.75 | 128 |  85 | 100 | 97 | ⋯ | Risk of Underweight | Control         | Stunting         | Risk of Underweight | Control         | Risk of Stunting | No  | 0.77 | 13000 | 18.9 |\n",
       "| 7 | BVC-1480-10-10 | 283 | 0.2985334 | 2.431452 | 1 | 0.75 | 116 |  85 |  86 | 85 | ⋯ | Risk of Underweight | Risk of wasting | Risk of Stunting | Risk of Underweight | Risk of wasting | Control          | No  | 0.78 |  7000 | 23.2 |\n",
       "| 10 | BVC-1481-10-10 | 213 | 0.3480514 | 2.692077 | 1 | 0.75 | 170 | 100 | 106 | 94 | ⋯ | Risk of Underweight | Risk of wasting | Risk of Stunting | Risk of Underweight | Risk of wasting | Risk of Stunting | No  | 0.77 |  6000 | 18.3 |\n",
       "| 14 | BVC-1492-10-10 | 380 | 0.4377932 | 3.751824 | 1 | 0.75 | 115 | 100 | 106 | 97 | ⋯ | Risk of Underweight | Risk of wasting | Control          | Risk of Underweight | Risk of wasting | Control          | Yes | 0.78 | 18000 | 22.8 |\n",
       "| 16 | BVC-1499-10-10 | 502 | 0.5169127 | 4.637505 | 1 | 0.75 | 186 |  85 |  89 | 88 | ⋯ | Risk of Underweight | Risk of wasting | Risk of Stunting | Risk of Underweight | Control         | Stunting         | No  | 0.77 |  5000 | 18.8 |\n",
       "\n"
      ],
      "text/plain": [
       "   collection_device_id observed_otus pielou_e  shannon  time_point age_years\n",
       "1  BVC-1473-10-10       295           0.2786473 2.286182 1          0.75     \n",
       "4  BVC-1475-10-10       294           0.2419217 1.983678 1          0.75     \n",
       "7  BVC-1480-10-10       283           0.2985334 2.431452 1          0.75     \n",
       "10 BVC-1481-10-10       213           0.3480514 2.692077 1          0.75     \n",
       "14 BVC-1492-10-10       380           0.4377932 3.751824 1          0.75     \n",
       "16 BVC-1499-10-10       502           0.5169127 4.637505 1          0.75     \n",
       "   days_exclusive_bf cogcmp_yr2 langcmp_yr2 motorcmp_yr2 ⋯ underwt_yr4        \n",
       "1  121                90         86         88           ⋯ Risk of Underweight\n",
       "4  128                85        100         97           ⋯ Risk of Underweight\n",
       "7  116                85         86         85           ⋯ Risk of Underweight\n",
       "10 170               100        106         94           ⋯ Risk of Underweight\n",
       "14 115               100        106         97           ⋯ Risk of Underweight\n",
       "16 186                85         89         88           ⋯ Risk of Underweight\n",
       "   waste_yr4       stunting_yr4     underwt_yr5         waste_yr5      \n",
       "1  Control         Stunting         Risk of Underweight Control        \n",
       "4  Control         Stunting         Risk of Underweight Control        \n",
       "7  Risk of wasting Risk of Stunting Risk of Underweight Risk of wasting\n",
       "10 Risk of wasting Risk of Stunting Risk of Underweight Risk of wasting\n",
       "14 Risk of wasting Control          Risk of Underweight Risk of wasting\n",
       "16 Risk of wasting Risk of Stunting Risk of Underweight Control        \n",
       "   stunting_yr5     csection age_wk40 income mbmi\n",
       "1  Risk of Stunting No       0.77      7000  18.5\n",
       "4  Risk of Stunting No       0.77     13000  18.9\n",
       "7  Control          No       0.78      7000  23.2\n",
       "10 Risk of Stunting No       0.77      6000  18.3\n",
       "14 Control          Yes      0.78     18000  22.8\n",
       "16 Stunting         No       0.77      5000  18.8"
      ]
     },
     "metadata": {},
     "output_type": "display_data"
    }
   ],
   "source": [
    "data <- read.csv(\"MetaData.csv\")\n",
    "tp1 <- data[data$time_point==1, ]\n",
    "head(tp1)"
   ]
  },
  {
   "cell_type": "code",
   "execution_count": 13,
   "metadata": {},
   "outputs": [
    {
     "data": {
      "text/html": [
       "<ol class=list-inline>\n",
       "\t<li>112</li>\n",
       "\t<li>11</li>\n",
       "</ol>\n"
      ],
      "text/latex": [
       "\\begin{enumerate*}\n",
       "\\item 112\n",
       "\\item 11\n",
       "\\end{enumerate*}\n"
      ],
      "text/markdown": [
       "1. 112\n",
       "2. 11\n",
       "\n",
       "\n"
      ],
      "text/plain": [
       "[1] 112  11"
      ]
     },
     "metadata": {},
     "output_type": "display_data"
    },
    {
     "data": {
      "text/html": [
       "<table>\n",
       "<caption>A data.frame: 6 × 11</caption>\n",
       "<thead>\n",
       "\t<tr><th></th><th scope=col>collection_device_id</th><th scope=col>PC1</th><th scope=col>PC2</th><th scope=col>PC3</th><th scope=col>PC4</th><th scope=col>PC5</th><th scope=col>PC6</th><th scope=col>PC7</th><th scope=col>PC8</th><th scope=col>PC9</th><th scope=col>PC10</th></tr>\n",
       "\t<tr><th></th><th scope=col>&lt;chr&gt;</th><th scope=col>&lt;dbl&gt;</th><th scope=col>&lt;dbl&gt;</th><th scope=col>&lt;dbl&gt;</th><th scope=col>&lt;dbl&gt;</th><th scope=col>&lt;dbl&gt;</th><th scope=col>&lt;dbl&gt;</th><th scope=col>&lt;dbl&gt;</th><th scope=col>&lt;dbl&gt;</th><th scope=col>&lt;dbl&gt;</th><th scope=col>&lt;dbl&gt;</th></tr>\n",
       "</thead>\n",
       "<tbody>\n",
       "\t<tr><th scope=row>BVC.1473.10.10</th><td>BVC-1473-10-10</td><td> 0.00000</td><td>52.91355</td><td>46.59130</td><td>52.41417</td><td>57.32478</td><td>62.02163</td><td>64.51484</td><td>56.74726</td><td>50.53105</td><td>63.81828</td></tr>\n",
       "\t<tr><th scope=row>BVC.1475.10.10</th><td>BVC-1475-10-10</td><td>52.91355</td><td> 0.00000</td><td>46.48805</td><td>52.00037</td><td>56.34820</td><td>59.68582</td><td>51.80799</td><td>50.70961</td><td>57.69523</td><td>59.60589</td></tr>\n",
       "\t<tr><th scope=row>BVC.1480.10.10</th><td>BVC-1480-10-10</td><td>46.59130</td><td>46.48805</td><td> 0.00000</td><td>48.50269</td><td>53.47931</td><td>60.26531</td><td>48.69404</td><td>47.99250</td><td>50.52870</td><td>59.86286</td></tr>\n",
       "\t<tr><th scope=row>BVC.1481.10.10</th><td>BVC-1481-10-10</td><td>52.41417</td><td>52.00037</td><td>48.50269</td><td> 0.00000</td><td>58.13543</td><td>59.23165</td><td>58.51161</td><td>58.57450</td><td>63.23332</td><td>60.94515</td></tr>\n",
       "\t<tr><th scope=row>BVC.1492.10.10</th><td>BVC-1492-10-10</td><td>57.32478</td><td>56.34820</td><td>53.47931</td><td>58.13543</td><td> 0.00000</td><td>59.85720</td><td>59.76714</td><td>57.40844</td><td>61.98342</td><td>68.08338</td></tr>\n",
       "\t<tr><th scope=row>BVC.1499.10.10</th><td>BVC-1499-10-10</td><td>62.02163</td><td>59.68582</td><td>60.26531</td><td>59.23165</td><td>59.85720</td><td> 0.00000</td><td>61.08001</td><td>56.81326</td><td>70.76470</td><td>60.34488</td></tr>\n",
       "</tbody>\n",
       "</table>\n"
      ],
      "text/latex": [
       "A data.frame: 6 × 11\n",
       "\\begin{tabular}{r|lllllllllll}\n",
       "  & collection\\_device\\_id & PC1 & PC2 & PC3 & PC4 & PC5 & PC6 & PC7 & PC8 & PC9 & PC10\\\\\n",
       "  & <chr> & <dbl> & <dbl> & <dbl> & <dbl> & <dbl> & <dbl> & <dbl> & <dbl> & <dbl> & <dbl>\\\\\n",
       "\\hline\n",
       "\tBVC.1473.10.10 & BVC-1473-10-10 &  0.00000 & 52.91355 & 46.59130 & 52.41417 & 57.32478 & 62.02163 & 64.51484 & 56.74726 & 50.53105 & 63.81828\\\\\n",
       "\tBVC.1475.10.10 & BVC-1475-10-10 & 52.91355 &  0.00000 & 46.48805 & 52.00037 & 56.34820 & 59.68582 & 51.80799 & 50.70961 & 57.69523 & 59.60589\\\\\n",
       "\tBVC.1480.10.10 & BVC-1480-10-10 & 46.59130 & 46.48805 &  0.00000 & 48.50269 & 53.47931 & 60.26531 & 48.69404 & 47.99250 & 50.52870 & 59.86286\\\\\n",
       "\tBVC.1481.10.10 & BVC-1481-10-10 & 52.41417 & 52.00037 & 48.50269 &  0.00000 & 58.13543 & 59.23165 & 58.51161 & 58.57450 & 63.23332 & 60.94515\\\\\n",
       "\tBVC.1492.10.10 & BVC-1492-10-10 & 57.32478 & 56.34820 & 53.47931 & 58.13543 &  0.00000 & 59.85720 & 59.76714 & 57.40844 & 61.98342 & 68.08338\\\\\n",
       "\tBVC.1499.10.10 & BVC-1499-10-10 & 62.02163 & 59.68582 & 60.26531 & 59.23165 & 59.85720 &  0.00000 & 61.08001 & 56.81326 & 70.76470 & 60.34488\\\\\n",
       "\\end{tabular}\n"
      ],
      "text/markdown": [
       "\n",
       "A data.frame: 6 × 11\n",
       "\n",
       "| <!--/--> | collection_device_id &lt;chr&gt; | PC1 &lt;dbl&gt; | PC2 &lt;dbl&gt; | PC3 &lt;dbl&gt; | PC4 &lt;dbl&gt; | PC5 &lt;dbl&gt; | PC6 &lt;dbl&gt; | PC7 &lt;dbl&gt; | PC8 &lt;dbl&gt; | PC9 &lt;dbl&gt; | PC10 &lt;dbl&gt; |\n",
       "|---|---|---|---|---|---|---|---|---|---|---|---|\n",
       "| BVC.1473.10.10 | BVC-1473-10-10 |  0.00000 | 52.91355 | 46.59130 | 52.41417 | 57.32478 | 62.02163 | 64.51484 | 56.74726 | 50.53105 | 63.81828 |\n",
       "| BVC.1475.10.10 | BVC-1475-10-10 | 52.91355 |  0.00000 | 46.48805 | 52.00037 | 56.34820 | 59.68582 | 51.80799 | 50.70961 | 57.69523 | 59.60589 |\n",
       "| BVC.1480.10.10 | BVC-1480-10-10 | 46.59130 | 46.48805 |  0.00000 | 48.50269 | 53.47931 | 60.26531 | 48.69404 | 47.99250 | 50.52870 | 59.86286 |\n",
       "| BVC.1481.10.10 | BVC-1481-10-10 | 52.41417 | 52.00037 | 48.50269 |  0.00000 | 58.13543 | 59.23165 | 58.51161 | 58.57450 | 63.23332 | 60.94515 |\n",
       "| BVC.1492.10.10 | BVC-1492-10-10 | 57.32478 | 56.34820 | 53.47931 | 58.13543 |  0.00000 | 59.85720 | 59.76714 | 57.40844 | 61.98342 | 68.08338 |\n",
       "| BVC.1499.10.10 | BVC-1499-10-10 | 62.02163 | 59.68582 | 60.26531 | 59.23165 | 59.85720 |  0.00000 | 61.08001 | 56.81326 | 70.76470 | 60.34488 |\n",
       "\n"
      ],
      "text/plain": [
       "               collection_device_id PC1      PC2      PC3      PC4     \n",
       "BVC.1473.10.10 BVC-1473-10-10        0.00000 52.91355 46.59130 52.41417\n",
       "BVC.1475.10.10 BVC-1475-10-10       52.91355  0.00000 46.48805 52.00037\n",
       "BVC.1480.10.10 BVC-1480-10-10       46.59130 46.48805  0.00000 48.50269\n",
       "BVC.1481.10.10 BVC-1481-10-10       52.41417 52.00037 48.50269  0.00000\n",
       "BVC.1492.10.10 BVC-1492-10-10       57.32478 56.34820 53.47931 58.13543\n",
       "BVC.1499.10.10 BVC-1499-10-10       62.02163 59.68582 60.26531 59.23165\n",
       "               PC5      PC6      PC7      PC8      PC9      PC10    \n",
       "BVC.1473.10.10 57.32478 62.02163 64.51484 56.74726 50.53105 63.81828\n",
       "BVC.1475.10.10 56.34820 59.68582 51.80799 50.70961 57.69523 59.60589\n",
       "BVC.1480.10.10 53.47931 60.26531 48.69404 47.99250 50.52870 59.86286\n",
       "BVC.1481.10.10 58.13543 59.23165 58.51161 58.57450 63.23332 60.94515\n",
       "BVC.1492.10.10  0.00000 59.85720 59.76714 57.40844 61.98342 68.08338\n",
       "BVC.1499.10.10 59.85720  0.00000 61.08001 56.81326 70.76470 60.34488"
      ]
     },
     "metadata": {},
     "output_type": "display_data"
    }
   ],
   "source": [
    "pc = read.csv('tab_mGtax_qiita_min100k_332s_aitchison_DM_aitchison_timepoint_months_9.tsv', header=TRUE, sep='\\t',row.names = 1)\n",
    "pc <- pc[ , order(colnames(pc))]\n",
    "pc <- pc[ order(rownames(pc)), ]\n",
    "pc$collection_device_id <- rownames(pc)\n",
    "pc$collection_device_id <- gsub(\".\", \"-\", pc$collection_device_id,fixed = T)\n",
    "n <- ncol(pc)\n",
    "pc <- pc[,c(n,1:(n-1))]\n",
    "pc_10 = pc[, 1:11]\n",
    "colnames(pc_10) = c('collection_device_id', 'PC1', 'PC2', 'PC3', 'PC4', 'PC5', 'PC6', 'PC7', 'PC8', 'PC9', 'PC10')\n",
    "dim(pc_10)\n",
    "head(pc_10)"
   ]
  },
  {
   "cell_type": "code",
   "execution_count": 14,
   "metadata": {},
   "outputs": [
    {
     "data": {
      "text/html": [
       "<table>\n",
       "<caption>A data.frame: 6 × 66</caption>\n",
       "<thead>\n",
       "\t<tr><th></th><th scope=col>collection_device_id</th><th scope=col>observed_otus</th><th scope=col>pielou_e</th><th scope=col>shannon</th><th scope=col>time_point</th><th scope=col>age_years</th><th scope=col>days_exclusive_bf</th><th scope=col>cogcmp_yr2</th><th scope=col>langcmp_yr2</th><th scope=col>motorcmp_yr2</th><th scope=col>⋯</th><th scope=col>PC1</th><th scope=col>PC2</th><th scope=col>PC3</th><th scope=col>PC4</th><th scope=col>PC5</th><th scope=col>PC6</th><th scope=col>PC7</th><th scope=col>PC8</th><th scope=col>PC9</th><th scope=col>PC10</th></tr>\n",
       "\t<tr><th></th><th scope=col>&lt;fct&gt;</th><th scope=col>&lt;int&gt;</th><th scope=col>&lt;dbl&gt;</th><th scope=col>&lt;dbl&gt;</th><th scope=col>&lt;int&gt;</th><th scope=col>&lt;dbl&gt;</th><th scope=col>&lt;int&gt;</th><th scope=col>&lt;int&gt;</th><th scope=col>&lt;int&gt;</th><th scope=col>&lt;int&gt;</th><th scope=col>⋯</th><th scope=col>&lt;dbl&gt;</th><th scope=col>&lt;dbl&gt;</th><th scope=col>&lt;dbl&gt;</th><th scope=col>&lt;dbl&gt;</th><th scope=col>&lt;dbl&gt;</th><th scope=col>&lt;dbl&gt;</th><th scope=col>&lt;dbl&gt;</th><th scope=col>&lt;dbl&gt;</th><th scope=col>&lt;dbl&gt;</th><th scope=col>&lt;dbl&gt;</th></tr>\n",
       "</thead>\n",
       "<tbody>\n",
       "\t<tr><th scope=row>1</th><td>BVC-1473-10-10</td><td>295</td><td>0.2786473</td><td>2.286182</td><td>1</td><td>0.75</td><td>121</td><td> 90</td><td> 86</td><td>88</td><td>⋯</td><td> 0.00000</td><td>52.91355</td><td>46.59130</td><td>52.41417</td><td>57.32478</td><td>62.02163</td><td>64.51484</td><td>56.74726</td><td>50.53105</td><td>63.81828</td></tr>\n",
       "\t<tr><th scope=row>2</th><td>BVC-1475-10-10</td><td>294</td><td>0.2419217</td><td>1.983678</td><td>1</td><td>0.75</td><td>128</td><td> 85</td><td>100</td><td>97</td><td>⋯</td><td>52.91355</td><td> 0.00000</td><td>46.48805</td><td>52.00037</td><td>56.34820</td><td>59.68582</td><td>51.80799</td><td>50.70961</td><td>57.69523</td><td>59.60589</td></tr>\n",
       "\t<tr><th scope=row>3</th><td>BVC-1480-10-10</td><td>283</td><td>0.2985334</td><td>2.431452</td><td>1</td><td>0.75</td><td>116</td><td> 85</td><td> 86</td><td>85</td><td>⋯</td><td>46.59130</td><td>46.48805</td><td> 0.00000</td><td>48.50269</td><td>53.47931</td><td>60.26531</td><td>48.69404</td><td>47.99250</td><td>50.52870</td><td>59.86286</td></tr>\n",
       "\t<tr><th scope=row>4</th><td>BVC-1481-10-10</td><td>213</td><td>0.3480514</td><td>2.692077</td><td>1</td><td>0.75</td><td>170</td><td>100</td><td>106</td><td>94</td><td>⋯</td><td>52.41417</td><td>52.00037</td><td>48.50269</td><td> 0.00000</td><td>58.13543</td><td>59.23165</td><td>58.51161</td><td>58.57450</td><td>63.23332</td><td>60.94515</td></tr>\n",
       "\t<tr><th scope=row>5</th><td>BVC-1492-10-10</td><td>380</td><td>0.4377932</td><td>3.751824</td><td>1</td><td>0.75</td><td>115</td><td>100</td><td>106</td><td>97</td><td>⋯</td><td>57.32478</td><td>56.34820</td><td>53.47931</td><td>58.13543</td><td> 0.00000</td><td>59.85720</td><td>59.76714</td><td>57.40844</td><td>61.98342</td><td>68.08338</td></tr>\n",
       "\t<tr><th scope=row>6</th><td>BVC-1499-10-10</td><td>502</td><td>0.5169127</td><td>4.637505</td><td>1</td><td>0.75</td><td>186</td><td> 85</td><td> 89</td><td>88</td><td>⋯</td><td>62.02163</td><td>59.68582</td><td>60.26531</td><td>59.23165</td><td>59.85720</td><td> 0.00000</td><td>61.08001</td><td>56.81326</td><td>70.76470</td><td>60.34488</td></tr>\n",
       "</tbody>\n",
       "</table>\n"
      ],
      "text/latex": [
       "A data.frame: 6 × 66\n",
       "\\begin{tabular}{r|lllllllllllllllllllll}\n",
       "  & collection\\_device\\_id & observed\\_otus & pielou\\_e & shannon & time\\_point & age\\_years & days\\_exclusive\\_bf & cogcmp\\_yr2 & langcmp\\_yr2 & motorcmp\\_yr2 & ⋯ & PC1 & PC2 & PC3 & PC4 & PC5 & PC6 & PC7 & PC8 & PC9 & PC10\\\\\n",
       "  & <fct> & <int> & <dbl> & <dbl> & <int> & <dbl> & <int> & <int> & <int> & <int> & ⋯ & <dbl> & <dbl> & <dbl> & <dbl> & <dbl> & <dbl> & <dbl> & <dbl> & <dbl> & <dbl>\\\\\n",
       "\\hline\n",
       "\t1 & BVC-1473-10-10 & 295 & 0.2786473 & 2.286182 & 1 & 0.75 & 121 &  90 &  86 & 88 & ⋯ &  0.00000 & 52.91355 & 46.59130 & 52.41417 & 57.32478 & 62.02163 & 64.51484 & 56.74726 & 50.53105 & 63.81828\\\\\n",
       "\t2 & BVC-1475-10-10 & 294 & 0.2419217 & 1.983678 & 1 & 0.75 & 128 &  85 & 100 & 97 & ⋯ & 52.91355 &  0.00000 & 46.48805 & 52.00037 & 56.34820 & 59.68582 & 51.80799 & 50.70961 & 57.69523 & 59.60589\\\\\n",
       "\t3 & BVC-1480-10-10 & 283 & 0.2985334 & 2.431452 & 1 & 0.75 & 116 &  85 &  86 & 85 & ⋯ & 46.59130 & 46.48805 &  0.00000 & 48.50269 & 53.47931 & 60.26531 & 48.69404 & 47.99250 & 50.52870 & 59.86286\\\\\n",
       "\t4 & BVC-1481-10-10 & 213 & 0.3480514 & 2.692077 & 1 & 0.75 & 170 & 100 & 106 & 94 & ⋯ & 52.41417 & 52.00037 & 48.50269 &  0.00000 & 58.13543 & 59.23165 & 58.51161 & 58.57450 & 63.23332 & 60.94515\\\\\n",
       "\t5 & BVC-1492-10-10 & 380 & 0.4377932 & 3.751824 & 1 & 0.75 & 115 & 100 & 106 & 97 & ⋯ & 57.32478 & 56.34820 & 53.47931 & 58.13543 &  0.00000 & 59.85720 & 59.76714 & 57.40844 & 61.98342 & 68.08338\\\\\n",
       "\t6 & BVC-1499-10-10 & 502 & 0.5169127 & 4.637505 & 1 & 0.75 & 186 &  85 &  89 & 88 & ⋯ & 62.02163 & 59.68582 & 60.26531 & 59.23165 & 59.85720 &  0.00000 & 61.08001 & 56.81326 & 70.76470 & 60.34488\\\\\n",
       "\\end{tabular}\n"
      ],
      "text/markdown": [
       "\n",
       "A data.frame: 6 × 66\n",
       "\n",
       "| <!--/--> | collection_device_id &lt;fct&gt; | observed_otus &lt;int&gt; | pielou_e &lt;dbl&gt; | shannon &lt;dbl&gt; | time_point &lt;int&gt; | age_years &lt;dbl&gt; | days_exclusive_bf &lt;int&gt; | cogcmp_yr2 &lt;int&gt; | langcmp_yr2 &lt;int&gt; | motorcmp_yr2 &lt;int&gt; | ⋯ ⋯ | PC1 &lt;dbl&gt; | PC2 &lt;dbl&gt; | PC3 &lt;dbl&gt; | PC4 &lt;dbl&gt; | PC5 &lt;dbl&gt; | PC6 &lt;dbl&gt; | PC7 &lt;dbl&gt; | PC8 &lt;dbl&gt; | PC9 &lt;dbl&gt; | PC10 &lt;dbl&gt; |\n",
       "|---|---|---|---|---|---|---|---|---|---|---|---|---|---|---|---|---|---|---|---|---|---|\n",
       "| 1 | BVC-1473-10-10 | 295 | 0.2786473 | 2.286182 | 1 | 0.75 | 121 |  90 |  86 | 88 | ⋯ |  0.00000 | 52.91355 | 46.59130 | 52.41417 | 57.32478 | 62.02163 | 64.51484 | 56.74726 | 50.53105 | 63.81828 |\n",
       "| 2 | BVC-1475-10-10 | 294 | 0.2419217 | 1.983678 | 1 | 0.75 | 128 |  85 | 100 | 97 | ⋯ | 52.91355 |  0.00000 | 46.48805 | 52.00037 | 56.34820 | 59.68582 | 51.80799 | 50.70961 | 57.69523 | 59.60589 |\n",
       "| 3 | BVC-1480-10-10 | 283 | 0.2985334 | 2.431452 | 1 | 0.75 | 116 |  85 |  86 | 85 | ⋯ | 46.59130 | 46.48805 |  0.00000 | 48.50269 | 53.47931 | 60.26531 | 48.69404 | 47.99250 | 50.52870 | 59.86286 |\n",
       "| 4 | BVC-1481-10-10 | 213 | 0.3480514 | 2.692077 | 1 | 0.75 | 170 | 100 | 106 | 94 | ⋯ | 52.41417 | 52.00037 | 48.50269 |  0.00000 | 58.13543 | 59.23165 | 58.51161 | 58.57450 | 63.23332 | 60.94515 |\n",
       "| 5 | BVC-1492-10-10 | 380 | 0.4377932 | 3.751824 | 1 | 0.75 | 115 | 100 | 106 | 97 | ⋯ | 57.32478 | 56.34820 | 53.47931 | 58.13543 |  0.00000 | 59.85720 | 59.76714 | 57.40844 | 61.98342 | 68.08338 |\n",
       "| 6 | BVC-1499-10-10 | 502 | 0.5169127 | 4.637505 | 1 | 0.75 | 186 |  85 |  89 | 88 | ⋯ | 62.02163 | 59.68582 | 60.26531 | 59.23165 | 59.85720 |  0.00000 | 61.08001 | 56.81326 | 70.76470 | 60.34488 |\n",
       "\n"
      ],
      "text/plain": [
       "  collection_device_id observed_otus pielou_e  shannon  time_point age_years\n",
       "1 BVC-1473-10-10       295           0.2786473 2.286182 1          0.75     \n",
       "2 BVC-1475-10-10       294           0.2419217 1.983678 1          0.75     \n",
       "3 BVC-1480-10-10       283           0.2985334 2.431452 1          0.75     \n",
       "4 BVC-1481-10-10       213           0.3480514 2.692077 1          0.75     \n",
       "5 BVC-1492-10-10       380           0.4377932 3.751824 1          0.75     \n",
       "6 BVC-1499-10-10       502           0.5169127 4.637505 1          0.75     \n",
       "  days_exclusive_bf cogcmp_yr2 langcmp_yr2 motorcmp_yr2 ⋯ PC1      PC2     \n",
       "1 121                90         86         88           ⋯  0.00000 52.91355\n",
       "2 128                85        100         97           ⋯ 52.91355  0.00000\n",
       "3 116                85         86         85           ⋯ 46.59130 46.48805\n",
       "4 170               100        106         94           ⋯ 52.41417 52.00037\n",
       "5 115               100        106         97           ⋯ 57.32478 56.34820\n",
       "6 186                85         89         88           ⋯ 62.02163 59.68582\n",
       "  PC3      PC4      PC5      PC6      PC7      PC8      PC9      PC10    \n",
       "1 46.59130 52.41417 57.32478 62.02163 64.51484 56.74726 50.53105 63.81828\n",
       "2 46.48805 52.00037 56.34820 59.68582 51.80799 50.70961 57.69523 59.60589\n",
       "3  0.00000 48.50269 53.47931 60.26531 48.69404 47.99250 50.52870 59.86286\n",
       "4 48.50269  0.00000 58.13543 59.23165 58.51161 58.57450 63.23332 60.94515\n",
       "5 53.47931 58.13543  0.00000 59.85720 59.76714 57.40844 61.98342 68.08338\n",
       "6 60.26531 59.23165 59.85720  0.00000 61.08001 56.81326 70.76470 60.34488"
      ]
     },
     "metadata": {},
     "output_type": "display_data"
    }
   ],
   "source": [
    "tp1 = merge(tp1, pc_10, by='collection_device_id')\n",
    "head(tp1)"
   ]
  },
  {
   "cell_type": "code",
   "execution_count": 15,
   "metadata": {},
   "outputs": [
    {
     "name": "stdout",
     "output_type": "stream",
     "text": [
      "Step: R2.adj= 0 \n",
      "Call: Y ~ 1 \n",
      " \n",
      "                          R2.adjusted\n",
      "+ days_exclusive_bf      0.0188052135\n",
      "<All variables>          0.0141966365\n",
      "+ underwt_yr1            0.0081447066\n",
      "+ recent_antibiotic_use  0.0039239064\n",
      "+ sex                    0.0002114726\n",
      "<none>                   0.0000000000\n",
      "+ waste_yr1             -0.0006752583\n",
      "+ stunting_yr1          -0.0064657344\n",
      "\n",
      "No anova"
     ]
    }
   ],
   "source": [
    "#categorical zscore\n",
    "ctsName <- c(\"days_exclusive_bf\") \n",
    "catName <- c(\"sex\", \"recent_antibiotic_use\", \"underwt_yr1\", \"waste_yr1\", \"stunting_yr1\")\n",
    "table <- BetaRDAanalysis(pcName, ctsName, catName, tp1)"
   ]
  },
  {
   "cell_type": "code",
   "execution_count": 16,
   "metadata": {},
   "outputs": [
    {
     "name": "stdout",
     "output_type": "stream",
     "text": [
      "Step: R2.adj= 0 \n",
      "Call: Y ~ 1 \n",
      " \n",
      "                          R2.adjusted\n",
      "+ days_exclusive_bf      0.0188052135\n",
      "+ csection               0.0087343690\n",
      "+ underwt_yr1            0.0081447066\n",
      "<All variables>          0.0069186600\n",
      "+ income                 0.0064898596\n",
      "+ recent_antibiotic_use  0.0039239064\n",
      "+ sex                    0.0002114726\n",
      "<none>                   0.0000000000\n",
      "+ waste_yr1             -0.0006752583\n",
      "+ stunting_yr1          -0.0064657344\n",
      "+ mbmi                  -0.0072320177\n",
      "+ age_wk40              -0.0077847311\n",
      "\n",
      "No anova"
     ]
    }
   ],
   "source": [
    "#with secondary variables\n",
    "table <- BetaRDAanalysis(pcName, c(ctsName,secctsName), c(catName, seccatName), tp1)"
   ]
  },
  {
   "cell_type": "markdown",
   "metadata": {},
   "source": [
    "##### Timepoint 2"
   ]
  },
  {
   "cell_type": "code",
   "execution_count": 17,
   "metadata": {},
   "outputs": [
    {
     "data": {
      "text/html": [
       "<table>\n",
       "<caption>A data.frame: 6 × 56</caption>\n",
       "<thead>\n",
       "\t<tr><th></th><th scope=col>collection_device_id</th><th scope=col>observed_otus</th><th scope=col>pielou_e</th><th scope=col>shannon</th><th scope=col>time_point</th><th scope=col>age_years</th><th scope=col>days_exclusive_bf</th><th scope=col>cogcmp_yr2</th><th scope=col>langcmp_yr2</th><th scope=col>motorcmp_yr2</th><th scope=col>⋯</th><th scope=col>underwt_yr4</th><th scope=col>waste_yr4</th><th scope=col>stunting_yr4</th><th scope=col>underwt_yr5</th><th scope=col>waste_yr5</th><th scope=col>stunting_yr5</th><th scope=col>csection</th><th scope=col>age_wk40</th><th scope=col>income</th><th scope=col>mbmi</th></tr>\n",
       "\t<tr><th></th><th scope=col>&lt;fct&gt;</th><th scope=col>&lt;int&gt;</th><th scope=col>&lt;dbl&gt;</th><th scope=col>&lt;dbl&gt;</th><th scope=col>&lt;int&gt;</th><th scope=col>&lt;dbl&gt;</th><th scope=col>&lt;int&gt;</th><th scope=col>&lt;int&gt;</th><th scope=col>&lt;int&gt;</th><th scope=col>&lt;int&gt;</th><th scope=col>⋯</th><th scope=col>&lt;fct&gt;</th><th scope=col>&lt;fct&gt;</th><th scope=col>&lt;fct&gt;</th><th scope=col>&lt;fct&gt;</th><th scope=col>&lt;fct&gt;</th><th scope=col>&lt;fct&gt;</th><th scope=col>&lt;fct&gt;</th><th scope=col>&lt;dbl&gt;</th><th scope=col>&lt;int&gt;</th><th scope=col>&lt;dbl&gt;</th></tr>\n",
       "</thead>\n",
       "<tbody>\n",
       "\t<tr><th scope=row>2</th><td>BVC-1473-10-13</td><td>341</td><td>0.4057165</td><td>3.413548</td><td>2</td><td>2</td><td>121</td><td> 90</td><td> 86</td><td>88</td><td>⋯</td><td>Risk of Underweight</td><td>Control        </td><td>Stunting        </td><td>Risk of Underweight</td><td>Control        </td><td>Risk of Stunting</td><td>No </td><td>0.77</td><td> 7000</td><td>18.5</td></tr>\n",
       "\t<tr><th scope=row>5</th><td>BVC-1475-10-13</td><td>391</td><td>0.5142706</td><td>4.428397</td><td>2</td><td>2</td><td>128</td><td> 85</td><td>100</td><td>97</td><td>⋯</td><td>Risk of Underweight</td><td>Control        </td><td>Stunting        </td><td>Risk of Underweight</td><td>Control        </td><td>Risk of Stunting</td><td>No </td><td>0.77</td><td>13000</td><td>18.9</td></tr>\n",
       "\t<tr><th scope=row>8</th><td>BVC-1480-10-13</td><td>332</td><td>0.5008089</td><td>4.194295</td><td>2</td><td>2</td><td>116</td><td> 85</td><td> 86</td><td>85</td><td>⋯</td><td>Risk of Underweight</td><td>Risk of wasting</td><td>Risk of Stunting</td><td>Risk of Underweight</td><td>Risk of wasting</td><td>Control         </td><td>No </td><td>0.78</td><td> 7000</td><td>23.2</td></tr>\n",
       "\t<tr><th scope=row>11</th><td>BVC-1481-10-13</td><td>363</td><td>0.4678691</td><td>3.978677</td><td>2</td><td>2</td><td>170</td><td>100</td><td>106</td><td>94</td><td>⋯</td><td>Risk of Underweight</td><td>Risk of wasting</td><td>Risk of Stunting</td><td>Risk of Underweight</td><td>Risk of wasting</td><td>Risk of Stunting</td><td>No </td><td>0.77</td><td> 6000</td><td>18.3</td></tr>\n",
       "\t<tr><th scope=row>12</th><td>BVC-1487-10-13</td><td>353</td><td>0.4681096</td><td>3.961857</td><td>2</td><td>2</td><td>148</td><td> 90</td><td>100</td><td>94</td><td>⋯</td><td>Underweight        </td><td>Wasting        </td><td>Risk of Stunting</td><td>Underweight        </td><td>Wasting        </td><td>Control         </td><td>Yes</td><td>0.77</td><td>14000</td><td>18.1</td></tr>\n",
       "\t<tr><th scope=row>15</th><td>BVC-1492-10-13</td><td>426</td><td>0.4584735</td><td>4.004633</td><td>2</td><td>2</td><td>115</td><td>100</td><td>106</td><td>97</td><td>⋯</td><td>Risk of Underweight</td><td>Risk of wasting</td><td>Control         </td><td>Risk of Underweight</td><td>Risk of wasting</td><td>Control         </td><td>Yes</td><td>0.78</td><td>18000</td><td>22.8</td></tr>\n",
       "</tbody>\n",
       "</table>\n"
      ],
      "text/latex": [
       "A data.frame: 6 × 56\n",
       "\\begin{tabular}{r|lllllllllllllllllllll}\n",
       "  & collection\\_device\\_id & observed\\_otus & pielou\\_e & shannon & time\\_point & age\\_years & days\\_exclusive\\_bf & cogcmp\\_yr2 & langcmp\\_yr2 & motorcmp\\_yr2 & ⋯ & underwt\\_yr4 & waste\\_yr4 & stunting\\_yr4 & underwt\\_yr5 & waste\\_yr5 & stunting\\_yr5 & csection & age\\_wk40 & income & mbmi\\\\\n",
       "  & <fct> & <int> & <dbl> & <dbl> & <int> & <dbl> & <int> & <int> & <int> & <int> & ⋯ & <fct> & <fct> & <fct> & <fct> & <fct> & <fct> & <fct> & <dbl> & <int> & <dbl>\\\\\n",
       "\\hline\n",
       "\t2 & BVC-1473-10-13 & 341 & 0.4057165 & 3.413548 & 2 & 2 & 121 &  90 &  86 & 88 & ⋯ & Risk of Underweight & Control         & Stunting         & Risk of Underweight & Control         & Risk of Stunting & No  & 0.77 &  7000 & 18.5\\\\\n",
       "\t5 & BVC-1475-10-13 & 391 & 0.5142706 & 4.428397 & 2 & 2 & 128 &  85 & 100 & 97 & ⋯ & Risk of Underweight & Control         & Stunting         & Risk of Underweight & Control         & Risk of Stunting & No  & 0.77 & 13000 & 18.9\\\\\n",
       "\t8 & BVC-1480-10-13 & 332 & 0.5008089 & 4.194295 & 2 & 2 & 116 &  85 &  86 & 85 & ⋯ & Risk of Underweight & Risk of wasting & Risk of Stunting & Risk of Underweight & Risk of wasting & Control          & No  & 0.78 &  7000 & 23.2\\\\\n",
       "\t11 & BVC-1481-10-13 & 363 & 0.4678691 & 3.978677 & 2 & 2 & 170 & 100 & 106 & 94 & ⋯ & Risk of Underweight & Risk of wasting & Risk of Stunting & Risk of Underweight & Risk of wasting & Risk of Stunting & No  & 0.77 &  6000 & 18.3\\\\\n",
       "\t12 & BVC-1487-10-13 & 353 & 0.4681096 & 3.961857 & 2 & 2 & 148 &  90 & 100 & 94 & ⋯ & Underweight         & Wasting         & Risk of Stunting & Underweight         & Wasting         & Control          & Yes & 0.77 & 14000 & 18.1\\\\\n",
       "\t15 & BVC-1492-10-13 & 426 & 0.4584735 & 4.004633 & 2 & 2 & 115 & 100 & 106 & 97 & ⋯ & Risk of Underweight & Risk of wasting & Control          & Risk of Underweight & Risk of wasting & Control          & Yes & 0.78 & 18000 & 22.8\\\\\n",
       "\\end{tabular}\n"
      ],
      "text/markdown": [
       "\n",
       "A data.frame: 6 × 56\n",
       "\n",
       "| <!--/--> | collection_device_id &lt;fct&gt; | observed_otus &lt;int&gt; | pielou_e &lt;dbl&gt; | shannon &lt;dbl&gt; | time_point &lt;int&gt; | age_years &lt;dbl&gt; | days_exclusive_bf &lt;int&gt; | cogcmp_yr2 &lt;int&gt; | langcmp_yr2 &lt;int&gt; | motorcmp_yr2 &lt;int&gt; | ⋯ ⋯ | underwt_yr4 &lt;fct&gt; | waste_yr4 &lt;fct&gt; | stunting_yr4 &lt;fct&gt; | underwt_yr5 &lt;fct&gt; | waste_yr5 &lt;fct&gt; | stunting_yr5 &lt;fct&gt; | csection &lt;fct&gt; | age_wk40 &lt;dbl&gt; | income &lt;int&gt; | mbmi &lt;dbl&gt; |\n",
       "|---|---|---|---|---|---|---|---|---|---|---|---|---|---|---|---|---|---|---|---|---|---|\n",
       "| 2 | BVC-1473-10-13 | 341 | 0.4057165 | 3.413548 | 2 | 2 | 121 |  90 |  86 | 88 | ⋯ | Risk of Underweight | Control         | Stunting         | Risk of Underweight | Control         | Risk of Stunting | No  | 0.77 |  7000 | 18.5 |\n",
       "| 5 | BVC-1475-10-13 | 391 | 0.5142706 | 4.428397 | 2 | 2 | 128 |  85 | 100 | 97 | ⋯ | Risk of Underweight | Control         | Stunting         | Risk of Underweight | Control         | Risk of Stunting | No  | 0.77 | 13000 | 18.9 |\n",
       "| 8 | BVC-1480-10-13 | 332 | 0.5008089 | 4.194295 | 2 | 2 | 116 |  85 |  86 | 85 | ⋯ | Risk of Underweight | Risk of wasting | Risk of Stunting | Risk of Underweight | Risk of wasting | Control          | No  | 0.78 |  7000 | 23.2 |\n",
       "| 11 | BVC-1481-10-13 | 363 | 0.4678691 | 3.978677 | 2 | 2 | 170 | 100 | 106 | 94 | ⋯ | Risk of Underweight | Risk of wasting | Risk of Stunting | Risk of Underweight | Risk of wasting | Risk of Stunting | No  | 0.77 |  6000 | 18.3 |\n",
       "| 12 | BVC-1487-10-13 | 353 | 0.4681096 | 3.961857 | 2 | 2 | 148 |  90 | 100 | 94 | ⋯ | Underweight         | Wasting         | Risk of Stunting | Underweight         | Wasting         | Control          | Yes | 0.77 | 14000 | 18.1 |\n",
       "| 15 | BVC-1492-10-13 | 426 | 0.4584735 | 4.004633 | 2 | 2 | 115 | 100 | 106 | 97 | ⋯ | Risk of Underweight | Risk of wasting | Control          | Risk of Underweight | Risk of wasting | Control          | Yes | 0.78 | 18000 | 22.8 |\n",
       "\n"
      ],
      "text/plain": [
       "   collection_device_id observed_otus pielou_e  shannon  time_point age_years\n",
       "2  BVC-1473-10-13       341           0.4057165 3.413548 2          2        \n",
       "5  BVC-1475-10-13       391           0.5142706 4.428397 2          2        \n",
       "8  BVC-1480-10-13       332           0.5008089 4.194295 2          2        \n",
       "11 BVC-1481-10-13       363           0.4678691 3.978677 2          2        \n",
       "12 BVC-1487-10-13       353           0.4681096 3.961857 2          2        \n",
       "15 BVC-1492-10-13       426           0.4584735 4.004633 2          2        \n",
       "   days_exclusive_bf cogcmp_yr2 langcmp_yr2 motorcmp_yr2 ⋯ underwt_yr4        \n",
       "2  121                90         86         88           ⋯ Risk of Underweight\n",
       "5  128                85        100         97           ⋯ Risk of Underweight\n",
       "8  116                85         86         85           ⋯ Risk of Underweight\n",
       "11 170               100        106         94           ⋯ Risk of Underweight\n",
       "12 148                90        100         94           ⋯ Underweight        \n",
       "15 115               100        106         97           ⋯ Risk of Underweight\n",
       "   waste_yr4       stunting_yr4     underwt_yr5         waste_yr5      \n",
       "2  Control         Stunting         Risk of Underweight Control        \n",
       "5  Control         Stunting         Risk of Underweight Control        \n",
       "8  Risk of wasting Risk of Stunting Risk of Underweight Risk of wasting\n",
       "11 Risk of wasting Risk of Stunting Risk of Underweight Risk of wasting\n",
       "12 Wasting         Risk of Stunting Underweight         Wasting        \n",
       "15 Risk of wasting Control          Risk of Underweight Risk of wasting\n",
       "   stunting_yr5     csection age_wk40 income mbmi\n",
       "2  Risk of Stunting No       0.77      7000  18.5\n",
       "5  Risk of Stunting No       0.77     13000  18.9\n",
       "8  Control          No       0.78      7000  23.2\n",
       "11 Risk of Stunting No       0.77      6000  18.3\n",
       "12 Control          Yes      0.77     14000  18.1\n",
       "15 Control          Yes      0.78     18000  22.8"
      ]
     },
     "metadata": {},
     "output_type": "display_data"
    }
   ],
   "source": [
    "data <- read.csv(\"MetaData.csv\")\n",
    "tp2 <- data[data$time_point==2, ]\n",
    "head(tp2)"
   ]
  },
  {
   "cell_type": "code",
   "execution_count": 18,
   "metadata": {},
   "outputs": [
    {
     "data": {
      "text/html": [
       "<ol class=list-inline>\n",
       "\t<li>114</li>\n",
       "\t<li>11</li>\n",
       "</ol>\n"
      ],
      "text/latex": [
       "\\begin{enumerate*}\n",
       "\\item 114\n",
       "\\item 11\n",
       "\\end{enumerate*}\n"
      ],
      "text/markdown": [
       "1. 114\n",
       "2. 11\n",
       "\n",
       "\n"
      ],
      "text/plain": [
       "[1] 114  11"
      ]
     },
     "metadata": {},
     "output_type": "display_data"
    },
    {
     "data": {
      "text/html": [
       "<table>\n",
       "<caption>A data.frame: 6 × 11</caption>\n",
       "<thead>\n",
       "\t<tr><th></th><th scope=col>collection_device_id</th><th scope=col>PC1</th><th scope=col>PC2</th><th scope=col>PC3</th><th scope=col>PC4</th><th scope=col>PC5</th><th scope=col>PC6</th><th scope=col>PC7</th><th scope=col>PC8</th><th scope=col>PC9</th><th scope=col>PC10</th></tr>\n",
       "\t<tr><th></th><th scope=col>&lt;chr&gt;</th><th scope=col>&lt;dbl&gt;</th><th scope=col>&lt;dbl&gt;</th><th scope=col>&lt;dbl&gt;</th><th scope=col>&lt;dbl&gt;</th><th scope=col>&lt;dbl&gt;</th><th scope=col>&lt;dbl&gt;</th><th scope=col>&lt;dbl&gt;</th><th scope=col>&lt;dbl&gt;</th><th scope=col>&lt;dbl&gt;</th><th scope=col>&lt;dbl&gt;</th></tr>\n",
       "</thead>\n",
       "<tbody>\n",
       "\t<tr><th scope=row>BVC.1473.10.13</th><td>BVC-1473-10-13</td><td> 0.00000</td><td>42.83283</td><td>37.33298</td><td>36.90459</td><td>34.57440</td><td>43.03978</td><td>37.78209</td><td>40.85026</td><td>43.51316</td><td>45.43977</td></tr>\n",
       "\t<tr><th scope=row>BVC.1475.10.13</th><td>BVC-1475-10-13</td><td>42.83283</td><td> 0.00000</td><td>40.71649</td><td>50.30161</td><td>42.36385</td><td>51.92683</td><td>40.19341</td><td>41.55268</td><td>50.54259</td><td>48.98541</td></tr>\n",
       "\t<tr><th scope=row>BVC.1480.10.13</th><td>BVC-1480-10-13</td><td>37.33298</td><td>40.71649</td><td> 0.00000</td><td>43.21001</td><td>36.64185</td><td>44.80131</td><td>38.06934</td><td>39.80412</td><td>44.54086</td><td>44.99825</td></tr>\n",
       "\t<tr><th scope=row>BVC.1481.10.13</th><td>BVC-1481-10-13</td><td>36.90459</td><td>50.30161</td><td>43.21001</td><td> 0.00000</td><td>44.88261</td><td>50.30281</td><td>45.87573</td><td>48.65563</td><td>44.90714</td><td>52.35164</td></tr>\n",
       "\t<tr><th scope=row>BVC.1487.10.13</th><td>BVC-1487-10-13</td><td>34.57440</td><td>42.36385</td><td>36.64185</td><td>44.88261</td><td> 0.00000</td><td>46.18424</td><td>38.40742</td><td>40.44190</td><td>46.44261</td><td>47.79406</td></tr>\n",
       "\t<tr><th scope=row>BVC.1492.10.13</th><td>BVC-1492-10-13</td><td>43.03978</td><td>51.92683</td><td>44.80131</td><td>50.30281</td><td>46.18424</td><td> 0.00000</td><td>43.44857</td><td>40.72520</td><td>48.01259</td><td>46.93034</td></tr>\n",
       "</tbody>\n",
       "</table>\n"
      ],
      "text/latex": [
       "A data.frame: 6 × 11\n",
       "\\begin{tabular}{r|lllllllllll}\n",
       "  & collection\\_device\\_id & PC1 & PC2 & PC3 & PC4 & PC5 & PC6 & PC7 & PC8 & PC9 & PC10\\\\\n",
       "  & <chr> & <dbl> & <dbl> & <dbl> & <dbl> & <dbl> & <dbl> & <dbl> & <dbl> & <dbl> & <dbl>\\\\\n",
       "\\hline\n",
       "\tBVC.1473.10.13 & BVC-1473-10-13 &  0.00000 & 42.83283 & 37.33298 & 36.90459 & 34.57440 & 43.03978 & 37.78209 & 40.85026 & 43.51316 & 45.43977\\\\\n",
       "\tBVC.1475.10.13 & BVC-1475-10-13 & 42.83283 &  0.00000 & 40.71649 & 50.30161 & 42.36385 & 51.92683 & 40.19341 & 41.55268 & 50.54259 & 48.98541\\\\\n",
       "\tBVC.1480.10.13 & BVC-1480-10-13 & 37.33298 & 40.71649 &  0.00000 & 43.21001 & 36.64185 & 44.80131 & 38.06934 & 39.80412 & 44.54086 & 44.99825\\\\\n",
       "\tBVC.1481.10.13 & BVC-1481-10-13 & 36.90459 & 50.30161 & 43.21001 &  0.00000 & 44.88261 & 50.30281 & 45.87573 & 48.65563 & 44.90714 & 52.35164\\\\\n",
       "\tBVC.1487.10.13 & BVC-1487-10-13 & 34.57440 & 42.36385 & 36.64185 & 44.88261 &  0.00000 & 46.18424 & 38.40742 & 40.44190 & 46.44261 & 47.79406\\\\\n",
       "\tBVC.1492.10.13 & BVC-1492-10-13 & 43.03978 & 51.92683 & 44.80131 & 50.30281 & 46.18424 &  0.00000 & 43.44857 & 40.72520 & 48.01259 & 46.93034\\\\\n",
       "\\end{tabular}\n"
      ],
      "text/markdown": [
       "\n",
       "A data.frame: 6 × 11\n",
       "\n",
       "| <!--/--> | collection_device_id &lt;chr&gt; | PC1 &lt;dbl&gt; | PC2 &lt;dbl&gt; | PC3 &lt;dbl&gt; | PC4 &lt;dbl&gt; | PC5 &lt;dbl&gt; | PC6 &lt;dbl&gt; | PC7 &lt;dbl&gt; | PC8 &lt;dbl&gt; | PC9 &lt;dbl&gt; | PC10 &lt;dbl&gt; |\n",
       "|---|---|---|---|---|---|---|---|---|---|---|---|\n",
       "| BVC.1473.10.13 | BVC-1473-10-13 |  0.00000 | 42.83283 | 37.33298 | 36.90459 | 34.57440 | 43.03978 | 37.78209 | 40.85026 | 43.51316 | 45.43977 |\n",
       "| BVC.1475.10.13 | BVC-1475-10-13 | 42.83283 |  0.00000 | 40.71649 | 50.30161 | 42.36385 | 51.92683 | 40.19341 | 41.55268 | 50.54259 | 48.98541 |\n",
       "| BVC.1480.10.13 | BVC-1480-10-13 | 37.33298 | 40.71649 |  0.00000 | 43.21001 | 36.64185 | 44.80131 | 38.06934 | 39.80412 | 44.54086 | 44.99825 |\n",
       "| BVC.1481.10.13 | BVC-1481-10-13 | 36.90459 | 50.30161 | 43.21001 |  0.00000 | 44.88261 | 50.30281 | 45.87573 | 48.65563 | 44.90714 | 52.35164 |\n",
       "| BVC.1487.10.13 | BVC-1487-10-13 | 34.57440 | 42.36385 | 36.64185 | 44.88261 |  0.00000 | 46.18424 | 38.40742 | 40.44190 | 46.44261 | 47.79406 |\n",
       "| BVC.1492.10.13 | BVC-1492-10-13 | 43.03978 | 51.92683 | 44.80131 | 50.30281 | 46.18424 |  0.00000 | 43.44857 | 40.72520 | 48.01259 | 46.93034 |\n",
       "\n"
      ],
      "text/plain": [
       "               collection_device_id PC1      PC2      PC3      PC4     \n",
       "BVC.1473.10.13 BVC-1473-10-13        0.00000 42.83283 37.33298 36.90459\n",
       "BVC.1475.10.13 BVC-1475-10-13       42.83283  0.00000 40.71649 50.30161\n",
       "BVC.1480.10.13 BVC-1480-10-13       37.33298 40.71649  0.00000 43.21001\n",
       "BVC.1481.10.13 BVC-1481-10-13       36.90459 50.30161 43.21001  0.00000\n",
       "BVC.1487.10.13 BVC-1487-10-13       34.57440 42.36385 36.64185 44.88261\n",
       "BVC.1492.10.13 BVC-1492-10-13       43.03978 51.92683 44.80131 50.30281\n",
       "               PC5      PC6      PC7      PC8      PC9      PC10    \n",
       "BVC.1473.10.13 34.57440 43.03978 37.78209 40.85026 43.51316 45.43977\n",
       "BVC.1475.10.13 42.36385 51.92683 40.19341 41.55268 50.54259 48.98541\n",
       "BVC.1480.10.13 36.64185 44.80131 38.06934 39.80412 44.54086 44.99825\n",
       "BVC.1481.10.13 44.88261 50.30281 45.87573 48.65563 44.90714 52.35164\n",
       "BVC.1487.10.13  0.00000 46.18424 38.40742 40.44190 46.44261 47.79406\n",
       "BVC.1492.10.13 46.18424  0.00000 43.44857 40.72520 48.01259 46.93034"
      ]
     },
     "metadata": {},
     "output_type": "display_data"
    }
   ],
   "source": [
    "pc = read.csv('tab_mGtax_qiita_min100k_332s_aitchison_DM_aitchison_timepoint_months_24.tsv', header=TRUE, sep='\\t',row.names = 1)\n",
    "pc <- pc[ , order(colnames(pc))]\n",
    "pc <- pc[ order(rownames(pc)), ]\n",
    "pc$collection_device_id <- rownames(pc)\n",
    "pc$collection_device_id <- gsub(\".\", \"-\", pc$collection_device_id,fixed = T)\n",
    "n <- ncol(pc)\n",
    "pc <- pc[,c(n,1:(n-1))]\n",
    "pc_10 = pc[, 1:11]\n",
    "colnames(pc_10) = c('collection_device_id', 'PC1', 'PC2', 'PC3', 'PC4', 'PC5', 'PC6', 'PC7', 'PC8', 'PC9', 'PC10')\n",
    "dim(pc_10)\n",
    "head(pc_10)"
   ]
  },
  {
   "cell_type": "code",
   "execution_count": 19,
   "metadata": {},
   "outputs": [],
   "source": [
    "tp2 = merge(tp2, pc_10, by='collection_device_id')"
   ]
  },
  {
   "cell_type": "code",
   "execution_count": 20,
   "metadata": {},
   "outputs": [
    {
     "name": "stdout",
     "output_type": "stream",
     "text": [
      "Step: R2.adj= 0 \n",
      "Call: Y ~ 1 \n",
      " \n",
      "                          R2.adjusted\n",
      "<All variables>          0.0908411633\n",
      "+ underwt_yr2            0.0731678805\n",
      "+ cogcmp_yr2_quartile    0.0407551030\n",
      "+ langcmp_yr2_quartile   0.0176825108\n",
      "+ days_exclusive_bf      0.0115805425\n",
      "+ soemocmp_yr2_quartile  0.0102147567\n",
      "+ waste_yr2              0.0084139785\n",
      "+ recent_antibiotic_use  0.0078290066\n",
      "<none>                   0.0000000000\n",
      "+ motorcmp_yr2_quartile -0.0002802133\n",
      "+ stunting_yr2          -0.0002819860\n",
      "+ sex                   -0.0065073808\n",
      "\n",
      "              Df    AIC      F Pr(>F)   \n",
      "+ underwt_yr2  2 734.12 5.4603  0.002 **\n",
      "---\n",
      "Signif. codes:  0 ‘***’ 0.001 ‘**’ 0.01 ‘*’ 0.05 ‘.’ 0.1 ‘ ’ 1\n",
      "\n",
      "Step: R2.adj= 0.07316788 \n",
      "Call: Y ~ underwt_yr2 \n",
      " \n",
      "                        R2.adjusted\n",
      "+ cogcmp_yr2_quartile    0.10374184\n",
      "+ langcmp_yr2_quartile   0.09630768\n",
      "<All variables>          0.09084116\n",
      "+ soemocmp_yr2_quartile  0.08469737\n",
      "+ recent_antibiotic_use  0.07696043\n",
      "+ motorcmp_yr2_quartile  0.07635783\n",
      "+ stunting_yr2           0.07447222\n",
      "<none>                   0.07316788\n",
      "+ days_exclusive_bf      0.07173538\n",
      "+ waste_yr2              0.06941317\n",
      "+ sex                    0.06814801\n",
      "\n",
      "                R2.adj Df    AIC      F Pr(>F)   ES.RDA\n",
      "+ underwt_yr2 0.073168  2 734.12 5.4603  0.002 0.073168\n"
     ]
    }
   ],
   "source": [
    "#categorical zscore\n",
    "ctsName <- c(\"days_exclusive_bf\") \n",
    "catName <- c(\"sex\", \"recent_antibiotic_use\", \"underwt_yr2\",\t\"waste_yr2\", \"stunting_yr2\",\n",
    "             \"cogcmp_yr2_quartile\", \"langcmp_yr2_quartile\", \n",
    "             \"motorcmp_yr2_quartile\", \"soemocmp_yr2_quartile\")\n",
    "table <- BetaRDAanalysis(pcName, ctsName, catName, tp2)"
   ]
  },
  {
   "cell_type": "code",
   "execution_count": 21,
   "metadata": {},
   "outputs": [
    {
     "data": {
      "image/png": "[encoded data removed]",
      "text/plain": [
       "plot without title"
      ]
     },
     "metadata": {
      "image/png": {
       "height": 420,
       "width": 420
      },
      "text/plain": {
       "height": 420,
       "width": 420
      }
     },
     "output_type": "display_data"
    }
   ],
   "source": [
    "covariates = rownames(table)\n",
    "ggplot(table, aes(x=reorder(covariates, ES.RDA), y=ES.RDA, fill=covariates)) +\n",
    "  labs(x = 'Non-redundant Covariants(Timepoints 2)', y = 'Effect Size (Aitchison Beta Diversity)') +\n",
    "  geom_bar(stat='identity') +\n",
    "  theme(axis.text=element_text(size=10), \n",
    "        axis.title=element_text(size=14,face=\"bold\"), \n",
    "        legend.position=\"none\") + \n",
    "  coord_flip()"
   ]
  },
  {
   "cell_type": "code",
   "execution_count": 22,
   "metadata": {},
   "outputs": [
    {
     "name": "stdout",
     "output_type": "stream",
     "text": [
      "Step: R2.adj= 0 \n",
      "Call: Y ~ 1 \n",
      " \n",
      "                          R2.adjusted\n",
      "<All variables>          0.1038024088\n",
      "+ underwt_yr2            0.0731678805\n",
      "+ cogcmp_yr2_quartile    0.0407551030\n",
      "+ langcmp_yr2_quartile   0.0176825108\n",
      "+ days_exclusive_bf      0.0115805425\n",
      "+ soemocmp_yr2_quartile  0.0102147567\n",
      "+ income                 0.0090466070\n",
      "+ waste_yr2              0.0084139785\n",
      "+ recent_antibiotic_use  0.0078290066\n",
      "+ age_wk40               0.0005581880\n",
      "<none>                   0.0000000000\n",
      "+ motorcmp_yr2_quartile -0.0002802133\n",
      "+ stunting_yr2          -0.0002819860\n",
      "+ csection              -0.0006509728\n",
      "+ mbmi                  -0.0054417607\n",
      "+ sex                   -0.0065073808\n",
      "\n",
      "              Df    AIC      F Pr(>F)   \n",
      "+ underwt_yr2  2 734.12 5.4603  0.002 **\n",
      "---\n",
      "Signif. codes:  0 ‘***’ 0.001 ‘**’ 0.01 ‘*’ 0.05 ‘.’ 0.1 ‘ ’ 1\n",
      "\n",
      "Step: R2.adj= 0.07316788 \n",
      "Call: Y ~ underwt_yr2 \n",
      " \n",
      "                        R2.adjusted\n",
      "<All variables>          0.10380241\n",
      "+ cogcmp_yr2_quartile    0.10374184\n",
      "+ langcmp_yr2_quartile   0.09630768\n",
      "+ soemocmp_yr2_quartile  0.08469737\n",
      "+ csection               0.07774733\n",
      "+ recent_antibiotic_use  0.07696043\n",
      "+ motorcmp_yr2_quartile  0.07635783\n",
      "+ age_wk40               0.07523081\n",
      "+ income                 0.07496673\n",
      "+ stunting_yr2           0.07447222\n",
      "<none>                   0.07316788\n",
      "+ days_exclusive_bf      0.07173538\n",
      "+ waste_yr2              0.06941317\n",
      "+ sex                    0.06814801\n",
      "+ mbmi                   0.06737568\n",
      "\n",
      "                      Df    AIC      F Pr(>F)  \n",
      "+ cogcmp_yr2_quartile  4 734.11 1.9466  0.054 .\n",
      "---\n",
      "Signif. codes:  0 ‘***’ 0.001 ‘**’ 0.01 ‘*’ 0.05 ‘.’ 0.1 ‘ ’ 1\n",
      "\n",
      "                R2.adj Df    AIC      F Pr(>F)   ES.RDA\n",
      "+ underwt_yr2 0.073168  2 734.12 5.4603  0.002 0.073168\n"
     ]
    }
   ],
   "source": [
    "#categorical zscore with secondary variables\n",
    "table <- BetaRDAanalysis(pcName, c(ctsName,secctsName), c(catName, seccatName), tp2)"
   ]
  },
  {
   "cell_type": "markdown",
   "metadata": {},
   "source": [
    "##### Timepoint 3"
   ]
  },
  {
   "cell_type": "code",
   "execution_count": 23,
   "metadata": {},
   "outputs": [
    {
     "data": {
      "text/html": [
       "<table>\n",
       "<caption>A data.frame: 6 × 56</caption>\n",
       "<thead>\n",
       "\t<tr><th></th><th scope=col>collection_device_id</th><th scope=col>observed_otus</th><th scope=col>pielou_e</th><th scope=col>shannon</th><th scope=col>time_point</th><th scope=col>age_years</th><th scope=col>days_exclusive_bf</th><th scope=col>cogcmp_yr2</th><th scope=col>langcmp_yr2</th><th scope=col>motorcmp_yr2</th><th scope=col>⋯</th><th scope=col>underwt_yr4</th><th scope=col>waste_yr4</th><th scope=col>stunting_yr4</th><th scope=col>underwt_yr5</th><th scope=col>waste_yr5</th><th scope=col>stunting_yr5</th><th scope=col>csection</th><th scope=col>age_wk40</th><th scope=col>income</th><th scope=col>mbmi</th></tr>\n",
       "\t<tr><th></th><th scope=col>&lt;fct&gt;</th><th scope=col>&lt;int&gt;</th><th scope=col>&lt;dbl&gt;</th><th scope=col>&lt;dbl&gt;</th><th scope=col>&lt;int&gt;</th><th scope=col>&lt;dbl&gt;</th><th scope=col>&lt;int&gt;</th><th scope=col>&lt;int&gt;</th><th scope=col>&lt;int&gt;</th><th scope=col>&lt;int&gt;</th><th scope=col>⋯</th><th scope=col>&lt;fct&gt;</th><th scope=col>&lt;fct&gt;</th><th scope=col>&lt;fct&gt;</th><th scope=col>&lt;fct&gt;</th><th scope=col>&lt;fct&gt;</th><th scope=col>&lt;fct&gt;</th><th scope=col>&lt;fct&gt;</th><th scope=col>&lt;dbl&gt;</th><th scope=col>&lt;int&gt;</th><th scope=col>&lt;dbl&gt;</th></tr>\n",
       "</thead>\n",
       "<tbody>\n",
       "\t<tr><th scope=row>3</th><td>BVC-1473-10-36</td><td>408</td><td>0.5631309</td><td>4.883711</td><td>3</td><td>3</td><td>121</td><td>90</td><td> 86</td><td>88</td><td>⋯</td><td>Risk of Underweight</td><td>Control        </td><td>Stunting        </td><td>Risk of Underweight</td><td>Control        </td><td>Risk of Stunting</td><td>No </td><td>0.77</td><td> 7000</td><td>18.5</td></tr>\n",
       "\t<tr><th scope=row>6</th><td>BVC-1475-10-36</td><td>555</td><td>0.5257842</td><td>4.793230</td><td>3</td><td>3</td><td>128</td><td>85</td><td>100</td><td>97</td><td>⋯</td><td>Risk of Underweight</td><td>Control        </td><td>Stunting        </td><td>Risk of Underweight</td><td>Control        </td><td>Risk of Stunting</td><td>No </td><td>0.77</td><td>13000</td><td>18.9</td></tr>\n",
       "\t<tr><th scope=row>9</th><td>BVC-1480-10-36</td><td>494</td><td>0.4074098</td><td>3.645652</td><td>3</td><td>3</td><td>116</td><td>85</td><td> 86</td><td>85</td><td>⋯</td><td>Risk of Underweight</td><td>Risk of wasting</td><td>Risk of Stunting</td><td>Risk of Underweight</td><td>Risk of wasting</td><td>Control         </td><td>No </td><td>0.78</td><td> 7000</td><td>23.2</td></tr>\n",
       "\t<tr><th scope=row>13</th><td>BVC-1487-10-36</td><td>493</td><td>0.5255913</td><td>4.701648</td><td>3</td><td>3</td><td>148</td><td>90</td><td>100</td><td>94</td><td>⋯</td><td>Underweight        </td><td>Wasting        </td><td>Risk of Stunting</td><td>Underweight        </td><td>Wasting        </td><td>Control         </td><td>Yes</td><td>0.77</td><td>14000</td><td>18.1</td></tr>\n",
       "\t<tr><th scope=row>18</th><td>BVC-1499-10-36</td><td>371</td><td>0.4372548</td><td>3.732090</td><td>3</td><td>3</td><td>186</td><td>85</td><td> 89</td><td>88</td><td>⋯</td><td>Risk of Underweight</td><td>Risk of wasting</td><td>Risk of Stunting</td><td>Risk of Underweight</td><td>Control        </td><td>Stunting        </td><td>No </td><td>0.77</td><td> 5000</td><td>18.8</td></tr>\n",
       "\t<tr><th scope=row>21</th><td>BVC-1500-10-36</td><td>328</td><td>0.3575104</td><td>2.987912</td><td>3</td><td>3</td><td>168</td><td>80</td><td> 94</td><td>85</td><td>⋯</td><td>Risk of Underweight</td><td>Control        </td><td>Risk of Stunting</td><td>Risk of Underweight</td><td>Risk of wasting</td><td>Risk of Stunting</td><td>No </td><td>0.77</td><td> 4800</td><td>20.0</td></tr>\n",
       "</tbody>\n",
       "</table>\n"
      ],
      "text/latex": [
       "A data.frame: 6 × 56\n",
       "\\begin{tabular}{r|lllllllllllllllllllll}\n",
       "  & collection\\_device\\_id & observed\\_otus & pielou\\_e & shannon & time\\_point & age\\_years & days\\_exclusive\\_bf & cogcmp\\_yr2 & langcmp\\_yr2 & motorcmp\\_yr2 & ⋯ & underwt\\_yr4 & waste\\_yr4 & stunting\\_yr4 & underwt\\_yr5 & waste\\_yr5 & stunting\\_yr5 & csection & age\\_wk40 & income & mbmi\\\\\n",
       "  & <fct> & <int> & <dbl> & <dbl> & <int> & <dbl> & <int> & <int> & <int> & <int> & ⋯ & <fct> & <fct> & <fct> & <fct> & <fct> & <fct> & <fct> & <dbl> & <int> & <dbl>\\\\\n",
       "\\hline\n",
       "\t3 & BVC-1473-10-36 & 408 & 0.5631309 & 4.883711 & 3 & 3 & 121 & 90 &  86 & 88 & ⋯ & Risk of Underweight & Control         & Stunting         & Risk of Underweight & Control         & Risk of Stunting & No  & 0.77 &  7000 & 18.5\\\\\n",
       "\t6 & BVC-1475-10-36 & 555 & 0.5257842 & 4.793230 & 3 & 3 & 128 & 85 & 100 & 97 & ⋯ & Risk of Underweight & Control         & Stunting         & Risk of Underweight & Control         & Risk of Stunting & No  & 0.77 & 13000 & 18.9\\\\\n",
       "\t9 & BVC-1480-10-36 & 494 & 0.4074098 & 3.645652 & 3 & 3 & 116 & 85 &  86 & 85 & ⋯ & Risk of Underweight & Risk of wasting & Risk of Stunting & Risk of Underweight & Risk of wasting & Control          & No  & 0.78 &  7000 & 23.2\\\\\n",
       "\t13 & BVC-1487-10-36 & 493 & 0.5255913 & 4.701648 & 3 & 3 & 148 & 90 & 100 & 94 & ⋯ & Underweight         & Wasting         & Risk of Stunting & Underweight         & Wasting         & Control          & Yes & 0.77 & 14000 & 18.1\\\\\n",
       "\t18 & BVC-1499-10-36 & 371 & 0.4372548 & 3.732090 & 3 & 3 & 186 & 85 &  89 & 88 & ⋯ & Risk of Underweight & Risk of wasting & Risk of Stunting & Risk of Underweight & Control         & Stunting         & No  & 0.77 &  5000 & 18.8\\\\\n",
       "\t21 & BVC-1500-10-36 & 328 & 0.3575104 & 2.987912 & 3 & 3 & 168 & 80 &  94 & 85 & ⋯ & Risk of Underweight & Control         & Risk of Stunting & Risk of Underweight & Risk of wasting & Risk of Stunting & No  & 0.77 &  4800 & 20.0\\\\\n",
       "\\end{tabular}\n"
      ],
      "text/markdown": [
       "\n",
       "A data.frame: 6 × 56\n",
       "\n",
       "| <!--/--> | collection_device_id &lt;fct&gt; | observed_otus &lt;int&gt; | pielou_e &lt;dbl&gt; | shannon &lt;dbl&gt; | time_point &lt;int&gt; | age_years &lt;dbl&gt; | days_exclusive_bf &lt;int&gt; | cogcmp_yr2 &lt;int&gt; | langcmp_yr2 &lt;int&gt; | motorcmp_yr2 &lt;int&gt; | ⋯ ⋯ | underwt_yr4 &lt;fct&gt; | waste_yr4 &lt;fct&gt; | stunting_yr4 &lt;fct&gt; | underwt_yr5 &lt;fct&gt; | waste_yr5 &lt;fct&gt; | stunting_yr5 &lt;fct&gt; | csection &lt;fct&gt; | age_wk40 &lt;dbl&gt; | income &lt;int&gt; | mbmi &lt;dbl&gt; |\n",
       "|---|---|---|---|---|---|---|---|---|---|---|---|---|---|---|---|---|---|---|---|---|---|\n",
       "| 3 | BVC-1473-10-36 | 408 | 0.5631309 | 4.883711 | 3 | 3 | 121 | 90 |  86 | 88 | ⋯ | Risk of Underweight | Control         | Stunting         | Risk of Underweight | Control         | Risk of Stunting | No  | 0.77 |  7000 | 18.5 |\n",
       "| 6 | BVC-1475-10-36 | 555 | 0.5257842 | 4.793230 | 3 | 3 | 128 | 85 | 100 | 97 | ⋯ | Risk of Underweight | Control         | Stunting         | Risk of Underweight | Control         | Risk of Stunting | No  | 0.77 | 13000 | 18.9 |\n",
       "| 9 | BVC-1480-10-36 | 494 | 0.4074098 | 3.645652 | 3 | 3 | 116 | 85 |  86 | 85 | ⋯ | Risk of Underweight | Risk of wasting | Risk of Stunting | Risk of Underweight | Risk of wasting | Control          | No  | 0.78 |  7000 | 23.2 |\n",
       "| 13 | BVC-1487-10-36 | 493 | 0.5255913 | 4.701648 | 3 | 3 | 148 | 90 | 100 | 94 | ⋯ | Underweight         | Wasting         | Risk of Stunting | Underweight         | Wasting         | Control          | Yes | 0.77 | 14000 | 18.1 |\n",
       "| 18 | BVC-1499-10-36 | 371 | 0.4372548 | 3.732090 | 3 | 3 | 186 | 85 |  89 | 88 | ⋯ | Risk of Underweight | Risk of wasting | Risk of Stunting | Risk of Underweight | Control         | Stunting         | No  | 0.77 |  5000 | 18.8 |\n",
       "| 21 | BVC-1500-10-36 | 328 | 0.3575104 | 2.987912 | 3 | 3 | 168 | 80 |  94 | 85 | ⋯ | Risk of Underweight | Control         | Risk of Stunting | Risk of Underweight | Risk of wasting | Risk of Stunting | No  | 0.77 |  4800 | 20.0 |\n",
       "\n"
      ],
      "text/plain": [
       "   collection_device_id observed_otus pielou_e  shannon  time_point age_years\n",
       "3  BVC-1473-10-36       408           0.5631309 4.883711 3          3        \n",
       "6  BVC-1475-10-36       555           0.5257842 4.793230 3          3        \n",
       "9  BVC-1480-10-36       494           0.4074098 3.645652 3          3        \n",
       "13 BVC-1487-10-36       493           0.5255913 4.701648 3          3        \n",
       "18 BVC-1499-10-36       371           0.4372548 3.732090 3          3        \n",
       "21 BVC-1500-10-36       328           0.3575104 2.987912 3          3        \n",
       "   days_exclusive_bf cogcmp_yr2 langcmp_yr2 motorcmp_yr2 ⋯ underwt_yr4        \n",
       "3  121               90          86         88           ⋯ Risk of Underweight\n",
       "6  128               85         100         97           ⋯ Risk of Underweight\n",
       "9  116               85          86         85           ⋯ Risk of Underweight\n",
       "13 148               90         100         94           ⋯ Underweight        \n",
       "18 186               85          89         88           ⋯ Risk of Underweight\n",
       "21 168               80          94         85           ⋯ Risk of Underweight\n",
       "   waste_yr4       stunting_yr4     underwt_yr5         waste_yr5      \n",
       "3  Control         Stunting         Risk of Underweight Control        \n",
       "6  Control         Stunting         Risk of Underweight Control        \n",
       "9  Risk of wasting Risk of Stunting Risk of Underweight Risk of wasting\n",
       "13 Wasting         Risk of Stunting Underweight         Wasting        \n",
       "18 Risk of wasting Risk of Stunting Risk of Underweight Control        \n",
       "21 Control         Risk of Stunting Risk of Underweight Risk of wasting\n",
       "   stunting_yr5     csection age_wk40 income mbmi\n",
       "3  Risk of Stunting No       0.77      7000  18.5\n",
       "6  Risk of Stunting No       0.77     13000  18.9\n",
       "9  Control          No       0.78      7000  23.2\n",
       "13 Control          Yes      0.77     14000  18.1\n",
       "18 Stunting         No       0.77      5000  18.8\n",
       "21 Risk of Stunting No       0.77      4800  20.0"
      ]
     },
     "metadata": {},
     "output_type": "display_data"
    }
   ],
   "source": [
    "tp3 <- data[data$time_point==3, ]\n",
    "head(tp3)"
   ]
  },
  {
   "cell_type": "code",
   "execution_count": 24,
   "metadata": {},
   "outputs": [],
   "source": [
    "pc = read.csv('tab_mGtax_qiita_min100k_332s_aitchison_DM_aitchison_timepoint_months_36.tsv', header=TRUE, sep='\\t',row.names = 1)\n",
    "pc <- pc[ , order(colnames(pc))]\n",
    "pc <- pc[ order(rownames(pc)), ]\n",
    "pc$collection_device_id <- rownames(pc)\n",
    "pc$collection_device_id <- gsub(\".\", \"-\", pc$collection_device_id,fixed = T)\n",
    "n <- ncol(pc)\n",
    "pc <- pc[,c(n,1:(n-1))]\n",
    "pc_10 = pc[, 1:11]\n",
    "colnames(pc_10) = c('collection_device_id', 'PC1', 'PC2', 'PC3', 'PC4', 'PC5', 'PC6', 'PC7', 'PC8', 'PC9', 'PC10')"
   ]
  },
  {
   "cell_type": "code",
   "execution_count": 25,
   "metadata": {},
   "outputs": [],
   "source": [
    "tp3 = merge(tp3, pc_10, by='collection_device_id')"
   ]
  },
  {
   "cell_type": "code",
   "execution_count": 26,
   "metadata": {},
   "outputs": [
    {
     "name": "stdout",
     "output_type": "stream",
     "text": [
      "Step: R2.adj= 0 \n",
      "Call: Y ~ 1 \n",
      " \n",
      "                     R2.adjusted\n",
      "<All variables>      0.035396818\n",
      "+ stunting_yr3       0.034962265\n",
      "+ underwt_yr3        0.028494689\n",
      "+ ageyr3_mulcog      0.003627636\n",
      "+ days_exclusive_bf  0.000734202\n",
      "<none>               0.000000000\n",
      "+ sex               -0.007109978\n",
      "+ waste_yr3         -0.009919696\n",
      "\n",
      "               Df    AIC     F Pr(>F)   \n",
      "+ stunting_yr3  2 673.81 2.902   0.01 **\n",
      "---\n",
      "Signif. codes:  0 ‘***’ 0.001 ‘**’ 0.01 ‘*’ 0.05 ‘.’ 0.1 ‘ ’ 1\n",
      "\n",
      "Step: R2.adj= 0.03496227 \n",
      "Call: Y ~ stunting_yr3 \n",
      " \n",
      "                    R2.adjusted\n",
      "+ ageyr3_mulcog      0.04489274\n",
      "<All variables>      0.03539682\n",
      "<none>               0.03496227\n",
      "+ days_exclusive_bf  0.03362241\n",
      "+ underwt_yr3        0.03213411\n",
      "+ waste_yr3          0.03017299\n",
      "+ sex                0.02769683\n",
      "\n",
      "                 R2.adj Df    AIC     F Pr(>F)   ES.RDA\n",
      "+ stunting_yr3 0.034962  2 673.81 2.902   0.01 0.034962\n"
     ]
    }
   ],
   "source": [
    "#categorical zscore\n",
    "#remove recent_antibiotic_use because not collected for all samples\n",
    "ctsName <- c(\"days_exclusive_bf\", \"ageyr3_mulcog\") \n",
    "catName <- c(\"sex\",\"underwt_yr3\", \"waste_yr3\", \"stunting_yr3\")\n",
    "table <- BetaRDAanalysis(pcName, ctsName, catName, tp3)"
   ]
  },
  {
   "cell_type": "code",
   "execution_count": 27,
   "metadata": {},
   "outputs": [
    {
     "data": {
      "image/png": "[encoded data removed]",
      "text/plain": [
       "plot without title"
      ]
     },
     "metadata": {
      "image/png": {
       "height": 420,
       "width": 420
      },
      "text/plain": {
       "height": 420,
       "width": 420
      }
     },
     "output_type": "display_data"
    }
   ],
   "source": [
    "covariates = rownames(table)\n",
    "ggplot(table, aes(x=reorder(covariates, ES.RDA), y=ES.RDA, fill=covariates)) +\n",
    "  labs(x = 'Non-redundant Covariants(Timepoints 3)', y = 'Effect Size (Aitchison Beta Diversity)') +\n",
    "  geom_bar(stat='identity') +\n",
    "  theme(axis.text=element_text(size=10), \n",
    "        axis.title=element_text(size=14,face=\"bold\"), \n",
    "        legend.position=\"none\") + \n",
    "  coord_flip()"
   ]
  },
  {
   "cell_type": "code",
   "execution_count": 28,
   "metadata": {},
   "outputs": [
    {
     "name": "stdout",
     "output_type": "stream",
     "text": [
      "Step: R2.adj= 0 \n",
      "Call: Y ~ 1 \n",
      " \n",
      "                     R2.adjusted\n",
      "<All variables>      0.040606943\n",
      "+ stunting_yr3       0.034962265\n",
      "+ underwt_yr3        0.028494689\n",
      "+ income             0.021394849\n",
      "+ mbmi               0.005879983\n",
      "+ ageyr3_mulcog      0.003627636\n",
      "+ days_exclusive_bf  0.000734202\n",
      "<none>               0.000000000\n",
      "+ age_wk40          -0.001641814\n",
      "+ csection          -0.004523847\n",
      "+ sex               -0.007109978\n",
      "+ waste_yr3         -0.009919696\n",
      "\n",
      "               Df    AIC     F Pr(>F)  \n",
      "+ stunting_yr3  2 673.81 2.902  0.012 *\n",
      "---\n",
      "Signif. codes:  0 ‘***’ 0.001 ‘**’ 0.01 ‘*’ 0.05 ‘.’ 0.1 ‘ ’ 1\n",
      "\n",
      "Step: R2.adj= 0.03496227 \n",
      "Call: Y ~ stunting_yr3 \n",
      " \n",
      "                    R2.adjusted\n",
      "+ ageyr3_mulcog      0.04489274\n",
      "+ income             0.04471270\n",
      "<All variables>      0.04060694\n",
      "<none>               0.03496227\n",
      "+ mbmi               0.03391036\n",
      "+ age_wk40           0.03367427\n",
      "+ days_exclusive_bf  0.03362241\n",
      "+ underwt_yr3        0.03213411\n",
      "+ waste_yr3          0.03017299\n",
      "+ csection           0.02945237\n",
      "+ sex                0.02769683\n",
      "\n",
      "                 R2.adj Df    AIC     F Pr(>F)   ES.RDA\n",
      "+ stunting_yr3 0.034962  2 673.81 2.902  0.012 0.034962\n"
     ]
    }
   ],
   "source": [
    "#categorical zscore with secondary variables\n",
    "table <- BetaRDAanalysis(pcName, c(ctsName,secctsName), c(catName, seccatName), tp3)"
   ]
  }
 ],
 "metadata": {
  "kernelspec": {
   "display_name": "R",
   "language": "R",
   "name": "ir"
  },
  "language_info": {
   "codemirror_mode": "r",
   "file_extension": ".r",
   "mimetype": "text/x-r-source",
   "name": "R",
   "pygments_lexer": "r",
   "version": "3.6.1"
  }
 },
 "nbformat": 4,
 "nbformat_minor": 2
}
